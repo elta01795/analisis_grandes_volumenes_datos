{
  "nbformat": 4,
  "nbformat_minor": 0,
  "metadata": {
    "colab": {
      "provenance": []
    },
    "kernelspec": {
      "name": "python3",
      "display_name": "Python 3"
    },
    "language_info": {
      "name": "python"
    }
  },
  "cells": [
    {
      "cell_type": "markdown",
      "source": [
        "# **1. Introducción teórica.**\n",
        "\n",
        "\n",
        "**1.   Aprendizaje supervisado**\n",
        "\n",
        "Se requiere una columna etiqueatda como parte de los datos, esta columna es lo que el algoritmo utiliza para correguir sus decisiones y puede ser una variable discreta, categórica o continua. En la fase de entrenamiento  esta columna  permite que el algoritmo se valide a si mismo; en la fase de pruebas se utiliza para evaluar la calidad del algoritmo comparando las predicciones de modelo con los resutlados reales. La diferencia entre el tipo de variable define el tipo de tarea que queremos que el modelo resuelva:Clasificación o Regresión.\n",
        "\n",
        "  **Clasificación**\n",
        "\n",
        "Consiste en calcular la probabilidad de que un dato pertenezca a categorias discretas mediante el análisis de caraterisiticas de entrada, el resultado es la predicción de la probabilidad  de que el dato permanezca a cada categoria posible. Existen tres tipos de clasificación\n",
        "  1. Binanio: Cada caracteristica de entrada se clasifica en una de dos clases, ejemplo: si/no, falso verdadero.\n",
        "\n",
        "  2. Multiclases: Cada caracteristica de entrada es clasificada en una de un conjunto de mas de dos clases.\n",
        "\n",
        "  3. Multi etiqueta: Cada caracteristica de entrada puede tener varias etiquetas.\n",
        "\n",
        "\n",
        "  **Algoritmos representativos**\n",
        "  1. LogisticRegresion\n",
        "  2. DesicionTreeClassifier\n",
        "  3. RandonForestClasifier\n",
        "  4. GBTClasifier\n",
        "  5. MultilayerPerceptronClassifier\n",
        "  6. LinearSCV\n",
        "  7. OneVsRest\n",
        "  8. NaybesBayes\n",
        "  9. FMClassifier\n",
        "\n",
        "\n",
        "  **Regresión**\n",
        "\n",
        "Tareas conocidas como análisis de regresión, es el proceso de estimar las relaciones entre una o más variables dependientes y una o más variables indenpendientes. Existen tres tipos:\n",
        "  1. Simple: Solo hay uan variable dependiete y una independiente, el valor para el entrenamiento y otro para predecir.\n",
        "\n",
        "  2. Multiple: Se tiene una variable dependiente para predecir usando múltiples variables independientes para el entrenamiento y entrada\n",
        "\n",
        "  3. Multivariado:Existen múltiples variables para predecir con múltiples variables independientes para el entranamiento y la entrada por lo que las variables de entrada  salida son valores númericos.\n",
        "\n",
        "  **Algoritmos representativos**\n",
        "  1. AFTSurvival​Re⁠gression.\n",
        "  2. DecisionTreeRegressor\n",
        "  3. GBT​Re⁠gressor\n",
        "  \n",
        "\n",
        "**2.   Aprendizaje no supervisado**\n",
        "\n",
        "Se utilizan cuando los datos no tienen etiquetas pero, se necesita encontrar patrones interesantes, predecir comportamientos o calcular semejanzas sin concer el resultado deseado. Esto algoritmos se pueden utilizar con algoritmos de aprendizaje supervisado de manera indistinta como parte del proceso de extracción de carácterisicas. Las tareas cómunes para el uso de algortimos de aprendizaje supervisado son la mineria de patrones frecuentes y la agrupación de clusteres.\n",
        "\n",
        "\n",
        "  **Mineria de patrones frecuentes**\n",
        "Se enmarca en la categoria de aprendizaje de reglas de asociación, se base en la identificación de reglas para descubrir relaciones entre variables en los datos. Los algoritmos suelen buscar primero elementos frecuentes en el conjunto de datos y, a continuación, pares o conjuntos de elementos frecuentes, por ejemplo articulos que se comprar juntos con frecuencia.\n",
        "\n",
        "\n",
        "  **Algoritmos representativos**\n",
        "  1. FPGrowth\n",
        "  2. PrefixSpan\n",
        "\n",
        "\n",
        "\n",
        "  **Clustering**\n",
        "es una técnica de agrupamiento para descubrir las relaciones ocultas entre los puntos de datos, se utiliza habitualmente para la segmentación de clientes, el procesamiento y la detección de imágenes, el filtrado de spam, la detección de anomalías, etc.\n",
        "\n",
        "  **Algoritmos representativos**\n",
        "  1. LDA\n",
        "  2. GaussianMixture\n",
        "  3. KMeans\n",
        "  4. BisectingKMeans\n",
        "  5. PowerIterationClustering"
      ],
      "metadata": {
        "id": "QrogOWzbEIZP"
      }
    },
    {
      "cell_type": "markdown",
      "source": [
        "# **2. Selección de los datos.**"
      ],
      "metadata": {
        "id": "zg46OHfOcHK6"
      }
    },
    {
      "cell_type": "code",
      "source": [
        "!apt-get install openjdk-8-jdk-headless -qq > /dev/null\n",
        "!wget -q http://archive.apache.org/dist/spark/spark-3.1.1/spark-3.1.1-bin-hadoop3.2.tgz\n",
        "!tar xf spark-3.1.1-bin-hadoop3.2.tgz\n",
        "!pip install -q findspark"
      ],
      "metadata": {
        "id": "pU7ZAojYhbxy"
      },
      "execution_count": 1,
      "outputs": []
    },
    {
      "cell_type": "code",
      "source": [
        "import os\n",
        "os.environ[\"JAVA_HOME\"] = \"/usr/lib/jvm/java-8-openjdk-amd64\"\n",
        "os.environ[\"SPARK_HOME\"] = \"/content/spark-3.1.1-bin-hadoop3.2\""
      ],
      "metadata": {
        "id": "JbTXxnyeh0v5"
      },
      "execution_count": 2,
      "outputs": []
    },
    {
      "cell_type": "code",
      "execution_count": 3,
      "metadata": {
        "id": "qAXHsKhMD9mv",
        "colab": {
          "base_uri": "https://localhost:8080/",
          "height": 222
        },
        "outputId": "1f475df7-c286-4849-e661-82d376d26936"
      },
      "outputs": [
        {
          "output_type": "execute_result",
          "data": {
            "text/plain": [
              "<pyspark.sql.session.SparkSession at 0x78051c5d1010>"
            ],
            "text/html": [
              "\n",
              "            <div>\n",
              "                <p><b>SparkSession - in-memory</b></p>\n",
              "                \n",
              "        <div>\n",
              "            <p><b>SparkContext</b></p>\n",
              "\n",
              "            <p><a href=\"http://cd19bd358318:4040\">Spark UI</a></p>\n",
              "\n",
              "            <dl>\n",
              "              <dt>Version</dt>\n",
              "                <dd><code>v3.1.1</code></dd>\n",
              "              <dt>Master</dt>\n",
              "                <dd><code>local[*]</code></dd>\n",
              "              <dt>AppName</dt>\n",
              "                <dd><code>Ejemplo</code></dd>\n",
              "            </dl>\n",
              "        </div>\n",
              "        \n",
              "            </div>\n",
              "        "
            ]
          },
          "metadata": {},
          "execution_count": 3
        }
      ],
      "source": [
        "#Se prepara entorno de ejecución\n",
        "import findspark\n",
        "findspark.init()\n",
        "from pyspark import SparkContext, SparkConf, SQLContext\n",
        "from pyspark.sql import SparkSession\n",
        "#spark = SparkSession.builder.master(\"local[*]\").getOrCreate()\n",
        "spark = SparkSession.builder \\\n",
        "                    .master(\"local[*]\") \\\n",
        "                    .appName(\"Ejemplo\") \\\n",
        "                    .getOrCreate()\n",
        "spark.conf.set(\"spark.sql.repl.eagerEval.enabled\", True) # Property used to format output tables better\n",
        "spark"
      ]
    },
    {
      "cell_type": "code",
      "source": [
        "#Se crea dataframe\n",
        "df = spark.read.csv('sample_data/Combined_Flights_2022.csv', header=True, sep=\",\", inferSchema=True)\n",
        "#Visualización limitada a los primeros 10 registros\n",
        "df.show(10)"
      ],
      "metadata": {
        "colab": {
          "base_uri": "https://localhost:8080/"
        },
        "id": "j3YiEILhjIOa",
        "outputId": "777681cd-780b-481d-975e-b84e81c8f468"
      },
      "execution_count": 21,
      "outputs": [
        {
          "output_type": "stream",
          "name": "stdout",
          "text": [
            "+----------+--------------------+------+----+---------+--------+----------+-------+---------------+--------+-------+---------------+-------+--------------+-----------------+--------+----+-------+-----+----------+---------+-------------------------+---------------------------------------+------------------------+---------------------------+-------------------------------+-----------------+------------------------+---------------------------+-----------+-------------------------------+---------------+------------------+------------------+--------------------+-----------+---------------+---------------+---------+-------------+----------------+----------------+-------------------+---------+-------------+-------------+-------+--------+--------------------+----------+-------+---------+--------+------+----------+--------+--------+------------------+----------+-------------+------------------+\n",
            "|FlightDate|             Airline|Origin|Dest|Cancelled|Diverted|CRSDepTime|DepTime|DepDelayMinutes|DepDelay|ArrTime|ArrDelayMinutes|AirTime|CRSElapsedTime|ActualElapsedTime|Distance|Year|Quarter|Month|DayofMonth|DayOfWeek|Marketing_Airline_Network|Operated_or_Branded_Code_Share_Partners|DOT_ID_Marketing_Airline|IATA_Code_Marketing_Airline|Flight_Number_Marketing_Airline|Operating_Airline|DOT_ID_Operating_Airline|IATA_Code_Operating_Airline|Tail_Number|Flight_Number_Operating_Airline|OriginAirportID|OriginAirportSeqID|OriginCityMarketID|      OriginCityName|OriginState|OriginStateFips|OriginStateName|OriginWac|DestAirportID|DestAirportSeqID|DestCityMarketID|       DestCityName|DestState|DestStateFips|DestStateName|DestWac|DepDel15|DepartureDelayGroups|DepTimeBlk|TaxiOut|WheelsOff|WheelsOn|TaxiIn|CRSArrTime|ArrDelay|ArrDel15|ArrivalDelayGroups|ArrTimeBlk|DistanceGroup|DivAirportLandings|\n",
            "+----------+--------------------+------+----+---------+--------+----------+-------+---------------+--------+-------+---------------+-------+--------------+-----------------+--------+----+-------+-----+----------+---------+-------------------------+---------------------------------------+------------------------+---------------------------+-------------------------------+-----------------+------------------------+---------------------------+-----------+-------------------------------+---------------+------------------+------------------+--------------------+-----------+---------------+---------------+---------+-------------+----------------+----------------+-------------------+---------+-------------+-------------+-------+--------+--------------------+----------+-------+---------+--------+------+----------+--------+--------+------------------+----------+-------------+------------------+\n",
            "|2022-04-04|Commutair Aka Cha...|   GJT| DEN|    false|   false|      1133| 1123.0|            0.0|   -10.0| 1228.0|            0.0|   40.0|          72.0|             65.0|   212.0|2022|      2|    4|         4|        1|                       UA|                           UA_CODESHARE|                   19977|                         UA|                           4301|               C5|                   20445|                         C5|     N21144|                           4301|          11921|           1192102|             31921|  Grand Junction, CO|         CO|              8|       Colorado|       82|        11292|         1129202|           30325|         Denver, CO|       CO|            8|     Colorado|     82|     0.0|                -1.0| 1100-1159|   17.0|   1140.0|  1220.0|   8.0|      1245|   -17.0|     0.0|              -2.0| 1200-1259|            1|                 0|\n",
            "|2022-04-04|Commutair Aka Cha...|   HRL| IAH|    false|   false|       732|  728.0|            0.0|    -4.0|  848.0|            0.0|   55.0|          77.0|             80.0|   295.0|2022|      2|    4|         4|        1|                       UA|                           UA_CODESHARE|                   19977|                         UA|                           4299|               C5|                   20445|                         C5|     N16170|                           4299|          12206|           1220605|             32206|Harlingen/San Ben...|         TX|             48|          Texas|       74|        12266|         1226603|           31453|        Houston, TX|       TX|           48|        Texas|     74|     0.0|                -1.0| 0700-0759|   16.0|    744.0|   839.0|   9.0|       849|    -1.0|     0.0|              -1.0| 0800-0859|            2|                 0|\n",
            "|2022-04-04|Commutair Aka Cha...|   DRO| DEN|    false|   false|      1529| 1514.0|            0.0|   -15.0| 1636.0|            0.0|   47.0|          70.0|             82.0|   251.0|2022|      2|    4|         4|        1|                       UA|                           UA_CODESHARE|                   19977|                         UA|                           4298|               C5|                   20445|                         C5|     N21144|                           4298|          11413|           1141307|             30285|         Durango, CO|         CO|              8|       Colorado|       82|        11292|         1129202|           30325|         Denver, CO|       CO|            8|     Colorado|     82|     0.0|                -1.0| 1500-1559|   21.0|   1535.0|  1622.0|  14.0|      1639|    -3.0|     0.0|              -1.0| 1600-1659|            2|                 0|\n",
            "|2022-04-04|Commutair Aka Cha...|   IAH| GPT|    false|   false|      1435| 1430.0|            0.0|    -5.0| 1547.0|            0.0|   57.0|          90.0|             77.0|   376.0|2022|      2|    4|         4|        1|                       UA|                           UA_CODESHARE|                   19977|                         UA|                           4296|               C5|                   20445|                         C5|     N11184|                           4296|          12266|           1226603|             31453|         Houston, TX|         TX|             48|          Texas|       74|        11973|         1197302|           31973|Gulfport/Biloxi, MS|       MS|           28|  Mississippi|     53|     0.0|                -1.0| 1400-1459|   16.0|   1446.0|  1543.0|   4.0|      1605|   -18.0|     0.0|              -2.0| 1600-1659|            2|                 0|\n",
            "|2022-04-04|Commutair Aka Cha...|   DRO| DEN|    false|   false|      1135| 1135.0|            0.0|     0.0| 1251.0|            6.0|   49.0|          70.0|             76.0|   251.0|2022|      2|    4|         4|        1|                       UA|                           UA_CODESHARE|                   19977|                         UA|                           4295|               C5|                   20445|                         C5|     N17146|                           4295|          11413|           1141307|             30285|         Durango, CO|         CO|              8|       Colorado|       82|        11292|         1129202|           30325|         Denver, CO|       CO|            8|     Colorado|     82|     0.0|                 0.0| 1100-1159|   19.0|   1154.0|  1243.0|   8.0|      1245|     6.0|     0.0|               0.0| 1200-1259|            2|                 0|\n",
            "|2022-04-04|Commutair Aka Cha...|   DEN| TUL|    false|   false|       955|  952.0|            0.0|    -3.0| 1238.0|            0.0|   77.0|         105.0|            106.0|   541.0|2022|      2|    4|         4|        1|                       UA|                           UA_CODESHARE|                   19977|                         UA|                           4294|               C5|                   20445|                         C5|     N11191|                           4294|          11292|           1129202|             30325|          Denver, CO|         CO|              8|       Colorado|       82|        15370|         1537002|           34653|          Tulsa, OK|       OK|           40|     Oklahoma|     73|     0.0|                -1.0| 0900-0959|   25.0|   1017.0|  1234.0|   4.0|      1240|    -2.0|     0.0|              -1.0| 1200-1259|            3|                 0|\n",
            "|2022-04-04|Commutair Aka Cha...|   IAH| LCH|    false|   false|      2139| 2136.0|            0.0|    -3.0| 2218.0|            0.0|   26.0|          52.0|             42.0|   127.0|2022|      2|    4|         4|        1|                       UA|                           UA_CODESHARE|                   19977|                         UA|                           4293|               C5|                   20445|                         C5|     N14143|                           4293|          12266|           1226603|             31453|         Houston, TX|         TX|             48|          Texas|       74|        12915|         1291503|           31205|   Lake Charles, LA|       LA|           22|    Louisiana|     72|     0.0|                -1.0| 2100-2159|   11.0|   2147.0|  2213.0|   5.0|      2231|   -13.0|     0.0|              -1.0| 2200-2259|            1|                 0|\n",
            "|2022-04-04|Commutair Aka Cha...|   TYS| IAH|    false|   false|      1129| 1117.0|            0.0|   -12.0| 1311.0|            5.0|  136.0|         157.0|            174.0|   771.0|2022|      2|    4|         4|        1|                       UA|                           UA_CODESHARE|                   19977|                         UA|                           4292|               C5|                   20445|                         C5|     N13124|                           4292|          15412|           1541205|             35412|       Knoxville, TN|         TN|             47|      Tennessee|       54|        12266|         1226603|           31453|        Houston, TX|       TX|           48|        Texas|     74|     0.0|                -1.0| 1100-1159|   22.0|   1139.0|  1255.0|  16.0|      1306|     5.0|     0.0|               0.0| 1300-1359|            4|                 0|\n",
            "|2022-04-04|Commutair Aka Cha...|   IAH| AEX|    false|   false|      1424| 1414.0|            0.0|   -10.0| 1513.0|            0.0|   37.0|          60.0|             59.0|   190.0|2022|      2|    4|         4|        1|                       UA|                           UA_CODESHARE|                   19977|                         UA|                           4291|               C5|                   20445|                         C5|     N33182|                           4291|          12266|           1226603|             31453|         Houston, TX|         TX|             48|          Texas|       74|        10185|         1018502|           30185|     Alexandria, LA|       LA|           22|    Louisiana|     72|     0.0|                -1.0| 1400-1459|   16.0|   1430.0|  1507.0|   6.0|      1524|   -11.0|     0.0|              -1.0| 1500-1559|            1|                 0|\n",
            "|2022-04-04|Commutair Aka Cha...|   IAH| MOB|    false|   false|       954|  947.0|            0.0|    -7.0| 1110.0|            0.0|   60.0|          87.0|             83.0|   427.0|2022|      2|    4|         4|        1|                       UA|                           UA_CODESHARE|                   19977|                         UA|                           4290|               C5|                   20445|                         C5|     N21154|                           4290|          12266|           1226603|             31453|         Houston, TX|         TX|             48|          Texas|       74|        13422|         1342202|           30562|         Mobile, AL|       AL|            1|      Alabama|     51|     0.0|                -1.0| 0900-0959|   17.0|   1004.0|  1104.0|   6.0|      1121|   -11.0|     0.0|              -1.0| 1100-1159|            2|                 0|\n",
            "+----------+--------------------+------+----+---------+--------+----------+-------+---------------+--------+-------+---------------+-------+--------------+-----------------+--------+----+-------+-----+----------+---------+-------------------------+---------------------------------------+------------------------+---------------------------+-------------------------------+-----------------+------------------------+---------------------------+-----------+-------------------------------+---------------+------------------+------------------+--------------------+-----------+---------------+---------------+---------+-------------+----------------+----------------+-------------------+---------+-------------+-------------+-------+--------+--------------------+----------+-------+---------+--------+------+----------+--------+--------+------------------+----------+-------------+------------------+\n",
            "only showing top 10 rows\n",
            "\n"
          ]
        }
      ]
    },
    {
      "cell_type": "code",
      "source": [
        "# Imprimiendo el esquema del Dataframe\n",
        "df.printSchema()"
      ],
      "metadata": {
        "colab": {
          "base_uri": "https://localhost:8080/"
        },
        "id": "i1M2bM5qkGKf",
        "outputId": "ae00ae00-1e47-4b74-93e8-25cce3649f44"
      },
      "execution_count": 22,
      "outputs": [
        {
          "output_type": "stream",
          "name": "stdout",
          "text": [
            "root\n",
            " |-- FlightDate: string (nullable = true)\n",
            " |-- Airline: string (nullable = true)\n",
            " |-- Origin: string (nullable = true)\n",
            " |-- Dest: string (nullable = true)\n",
            " |-- Cancelled: boolean (nullable = true)\n",
            " |-- Diverted: boolean (nullable = true)\n",
            " |-- CRSDepTime: integer (nullable = true)\n",
            " |-- DepTime: double (nullable = true)\n",
            " |-- DepDelayMinutes: double (nullable = true)\n",
            " |-- DepDelay: double (nullable = true)\n",
            " |-- ArrTime: double (nullable = true)\n",
            " |-- ArrDelayMinutes: double (nullable = true)\n",
            " |-- AirTime: double (nullable = true)\n",
            " |-- CRSElapsedTime: double (nullable = true)\n",
            " |-- ActualElapsedTime: double (nullable = true)\n",
            " |-- Distance: double (nullable = true)\n",
            " |-- Year: integer (nullable = true)\n",
            " |-- Quarter: integer (nullable = true)\n",
            " |-- Month: integer (nullable = true)\n",
            " |-- DayofMonth: integer (nullable = true)\n",
            " |-- DayOfWeek: integer (nullable = true)\n",
            " |-- Marketing_Airline_Network: string (nullable = true)\n",
            " |-- Operated_or_Branded_Code_Share_Partners: string (nullable = true)\n",
            " |-- DOT_ID_Marketing_Airline: integer (nullable = true)\n",
            " |-- IATA_Code_Marketing_Airline: string (nullable = true)\n",
            " |-- Flight_Number_Marketing_Airline: integer (nullable = true)\n",
            " |-- Operating_Airline: string (nullable = true)\n",
            " |-- DOT_ID_Operating_Airline: integer (nullable = true)\n",
            " |-- IATA_Code_Operating_Airline: string (nullable = true)\n",
            " |-- Tail_Number: string (nullable = true)\n",
            " |-- Flight_Number_Operating_Airline: integer (nullable = true)\n",
            " |-- OriginAirportID: integer (nullable = true)\n",
            " |-- OriginAirportSeqID: integer (nullable = true)\n",
            " |-- OriginCityMarketID: integer (nullable = true)\n",
            " |-- OriginCityName: string (nullable = true)\n",
            " |-- OriginState: string (nullable = true)\n",
            " |-- OriginStateFips: integer (nullable = true)\n",
            " |-- OriginStateName: string (nullable = true)\n",
            " |-- OriginWac: integer (nullable = true)\n",
            " |-- DestAirportID: integer (nullable = true)\n",
            " |-- DestAirportSeqID: integer (nullable = true)\n",
            " |-- DestCityMarketID: integer (nullable = true)\n",
            " |-- DestCityName: string (nullable = true)\n",
            " |-- DestState: string (nullable = true)\n",
            " |-- DestStateFips: integer (nullable = true)\n",
            " |-- DestStateName: string (nullable = true)\n",
            " |-- DestWac: integer (nullable = true)\n",
            " |-- DepDel15: double (nullable = true)\n",
            " |-- DepartureDelayGroups: double (nullable = true)\n",
            " |-- DepTimeBlk: string (nullable = true)\n",
            " |-- TaxiOut: double (nullable = true)\n",
            " |-- WheelsOff: double (nullable = true)\n",
            " |-- WheelsOn: double (nullable = true)\n",
            " |-- TaxiIn: double (nullable = true)\n",
            " |-- CRSArrTime: integer (nullable = true)\n",
            " |-- ArrDelay: double (nullable = true)\n",
            " |-- ArrDel15: double (nullable = true)\n",
            " |-- ArrivalDelayGroups: double (nullable = true)\n",
            " |-- ArrTimeBlk: string (nullable = true)\n",
            " |-- DistanceGroup: integer (nullable = true)\n",
            " |-- DivAirportLandings: integer (nullable = true)\n",
            "\n"
          ]
        }
      ]
    },
    {
      "cell_type": "markdown",
      "source": [
        "### Selección de datos por muestre estratificado"
      ],
      "metadata": {
        "id": "QTIK-V_2m4Fn"
      }
    },
    {
      "cell_type": "code",
      "source": [
        "#selección de muestra estratificada\n",
        "stratified_df = df.sampleBy('DepDel15', fractions={1:0.5, 0:0.5}, seed=42)\n",
        "stratified_df.show(5)"
      ],
      "metadata": {
        "colab": {
          "base_uri": "https://localhost:8080/"
        },
        "id": "mvZjTk1nY2Z9",
        "outputId": "d9c81c0b-3cd5-4310-8556-f9c13283d551"
      },
      "execution_count": 25,
      "outputs": [
        {
          "output_type": "stream",
          "name": "stdout",
          "text": [
            "+----------+--------------------+------+----+---------+--------+----------+-------+---------------+--------+-------+---------------+-------+--------------+-----------------+--------+----+-------+-----+----------+---------+-------------------------+---------------------------------------+------------------------+---------------------------+-------------------------------+-----------------+------------------------+---------------------------+-----------+-------------------------------+---------------+------------------+------------------+--------------+-----------+---------------+---------------+---------+-------------+----------------+----------------+-------------------+---------+-------------+-------------+-------+--------+--------------------+----------+-------+---------+--------+------+----------+--------+--------+------------------+----------+-------------+------------------+\n",
            "|FlightDate|             Airline|Origin|Dest|Cancelled|Diverted|CRSDepTime|DepTime|DepDelayMinutes|DepDelay|ArrTime|ArrDelayMinutes|AirTime|CRSElapsedTime|ActualElapsedTime|Distance|Year|Quarter|Month|DayofMonth|DayOfWeek|Marketing_Airline_Network|Operated_or_Branded_Code_Share_Partners|DOT_ID_Marketing_Airline|IATA_Code_Marketing_Airline|Flight_Number_Marketing_Airline|Operating_Airline|DOT_ID_Operating_Airline|IATA_Code_Operating_Airline|Tail_Number|Flight_Number_Operating_Airline|OriginAirportID|OriginAirportSeqID|OriginCityMarketID|OriginCityName|OriginState|OriginStateFips|OriginStateName|OriginWac|DestAirportID|DestAirportSeqID|DestCityMarketID|       DestCityName|DestState|DestStateFips|DestStateName|DestWac|DepDel15|DepartureDelayGroups|DepTimeBlk|TaxiOut|WheelsOff|WheelsOn|TaxiIn|CRSArrTime|ArrDelay|ArrDel15|ArrivalDelayGroups|ArrTimeBlk|DistanceGroup|DivAirportLandings|\n",
            "+----------+--------------------+------+----+---------+--------+----------+-------+---------------+--------+-------+---------------+-------+--------------+-----------------+--------+----+-------+-----+----------+---------+-------------------------+---------------------------------------+------------------------+---------------------------+-------------------------------+-----------------+------------------------+---------------------------+-----------+-------------------------------+---------------+------------------+------------------+--------------+-----------+---------------+---------------+---------+-------------+----------------+----------------+-------------------+---------+-------------+-------------+-------+--------+--------------------+----------+-------+---------+--------+------+----------+--------+--------+------------------+----------+-------------+------------------+\n",
            "|2022-04-04|Commutair Aka Cha...|   IAH| GPT|    false|   false|      1435| 1430.0|            0.0|    -5.0| 1547.0|            0.0|   57.0|          90.0|             77.0|   376.0|2022|      2|    4|         4|        1|                       UA|                           UA_CODESHARE|                   19977|                         UA|                           4296|               C5|                   20445|                         C5|     N11184|                           4296|          12266|           1226603|             31453|   Houston, TX|         TX|             48|          Texas|       74|        11973|         1197302|           31973|Gulfport/Biloxi, MS|       MS|           28|  Mississippi|     53|     0.0|                -1.0| 1400-1459|   16.0|   1446.0|  1543.0|   4.0|      1605|   -18.0|     0.0|              -2.0| 1600-1659|            2|                 0|\n",
            "|2022-04-04|Commutair Aka Cha...|   TYS| IAH|    false|   false|      1129| 1117.0|            0.0|   -12.0| 1311.0|            5.0|  136.0|         157.0|            174.0|   771.0|2022|      2|    4|         4|        1|                       UA|                           UA_CODESHARE|                   19977|                         UA|                           4292|               C5|                   20445|                         C5|     N13124|                           4292|          15412|           1541205|             35412| Knoxville, TN|         TN|             47|      Tennessee|       54|        12266|         1226603|           31453|        Houston, TX|       TX|           48|        Texas|     74|     0.0|                -1.0| 1100-1159|   22.0|   1139.0|  1255.0|  16.0|      1306|     5.0|     0.0|               0.0| 1300-1359|            4|                 0|\n",
            "|2022-04-04|Commutair Aka Cha...|   DEN| CPR|    false|   false|      1540| 1546.0|            6.0|     6.0| 1650.0|            0.0|   45.0|          70.0|             64.0|   230.0|2022|      2|    4|         4|        1|                       UA|                           UA_CODESHARE|                   19977|                         UA|                           4288|               C5|                   20445|                         C5|     N14177|                           4288|          11292|           1129202|             30325|    Denver, CO|         CO|              8|       Colorado|       82|        11122|         1112205|           31122|         Casper, WY|       WY|           56|      Wyoming|     88|     0.0|                 0.0| 1500-1559|   13.0|   1559.0|  1644.0|   6.0|      1650|     0.0|     0.0|               0.0| 1600-1659|            1|                 0|\n",
            "|2022-04-04|Commutair Aka Cha...|   LNK| DEN|    false|   false|      1403| 1358.0|            0.0|    -5.0| 1425.0|            0.0|   69.0|         100.0|             87.0|   423.0|2022|      2|    4|         4|        1|                       UA|                           UA_CODESHARE|                   19977|                         UA|                           4286|               C5|                   20445|                         C5|     N14177|                           4286|          13029|           1302902|             33029|   Lincoln, NE|         NE|             31|       Nebraska|       65|        11292|         1129202|           30325|         Denver, CO|       CO|            8|     Colorado|     82|     0.0|                -1.0| 1400-1459|   11.0|   1409.0|  1418.0|   7.0|      1443|   -18.0|     0.0|              -2.0| 1400-1459|            2|                 0|\n",
            "|2022-04-04|Commutair Aka Cha...|   DEN| DRO|    false|   false|      1330| 1322.0|            0.0|    -8.0| 1427.0|            0.0|   45.0|          74.0|             65.0|   251.0|2022|      2|    4|         4|        1|                       UA|                           UA_CODESHARE|                   19977|                         UA|                           4271|               C5|                   20445|                         C5|     N21144|                           4271|          11292|           1129202|             30325|    Denver, CO|         CO|              8|       Colorado|       82|        11413|         1141307|           30285|        Durango, CO|       CO|            8|     Colorado|     82|     0.0|                -1.0| 1300-1359|   18.0|   1340.0|  1425.0|   2.0|      1444|   -17.0|     0.0|              -2.0| 1400-1459|            2|                 0|\n",
            "+----------+--------------------+------+----+---------+--------+----------+-------+---------------+--------+-------+---------------+-------+--------------+-----------------+--------+----+-------+-----+----------+---------+-------------------------+---------------------------------------+------------------------+---------------------------+-------------------------------+-----------------+------------------------+---------------------------+-----------+-------------------------------+---------------+------------------+------------------+--------------+-----------+---------------+---------------+---------+-------------+----------------+----------------+-------------------+---------+-------------+-------------+-------+--------+--------------------+----------+-------+---------+--------+------+----------+--------+--------+------------------+----------+-------------+------------------+\n",
            "only showing top 5 rows\n",
            "\n"
          ]
        }
      ]
    },
    {
      "cell_type": "markdown",
      "source": [
        "# **3. Preparación de los datos.**"
      ],
      "metadata": {
        "id": "vHiPBFgncX_M"
      }
    },
    {
      "cell_type": "code",
      "source": [
        "#Se eliminan registros con valores nulos\n",
        "df_clean = stratified_df.dropna()\n",
        "\n",
        "#Se eliminan registros duplicados\n",
        "df_clean = stratified_df.dropDuplicates()"
      ],
      "metadata": {
        "id": "gCH8GQJefRky"
      },
      "execution_count": 26,
      "outputs": []
    },
    {
      "cell_type": "markdown",
      "source": [
        "# **4. Preparación del conjunto de entrenamiento y prueba.**"
      ],
      "metadata": {
        "id": "CtyxHg0scea7"
      }
    },
    {
      "cell_type": "code",
      "source": [
        "# Particionamiento típico\n",
        "# Se define el valor por default del número de ejecutores\n",
        "spark.conf.set(\"spark.sql.shuffle.partitions\", \"200\")\n",
        "#Particionamiento de los datos en prueba y test\n",
        "train_data,test_data = df_clean.randomSplit([0.8,0.2], seed = 42)\n",
        "print(f\"\"\"Existen {train_data.count()} instancias en el conjunto train, y {test_data.count()} en el conjunto test\"\"\")"
      ],
      "metadata": {
        "colab": {
          "base_uri": "https://localhost:8080/"
        },
        "id": "6knddjsKjOOn",
        "outputId": "b73cef0b-04d4-4c99-e586-1912005861a2"
      },
      "execution_count": 27,
      "outputs": [
        {
          "output_type": "stream",
          "name": "stdout",
          "text": [
            "Existen 1584455 instancias en el conjunto train, y 395486 en el conjunto test\n"
          ]
        }
      ]
    },
    {
      "cell_type": "code",
      "source": [
        "# prompt: imprimir el plan de transformación al llamar randomSplit\n",
        "train_data.explain()\n",
        "test_data.explain()"
      ],
      "metadata": {
        "colab": {
          "base_uri": "https://localhost:8080/"
        },
        "id": "axIDkAtEkytS",
        "outputId": "f4d14065-9e99-411a-d519-7304e584b63c"
      },
      "execution_count": 28,
      "outputs": [
        {
          "output_type": "stream",
          "name": "stdout",
          "text": [
            "== Physical Plan ==\n",
            "*(2) Sample 0.0, 0.8, false, 42\n",
            "+- *(2) Sort [FlightDate#10632 ASC NULLS FIRST, Airline#10633 ASC NULLS FIRST, Origin#10634 ASC NULLS FIRST, Dest#10635 ASC NULLS FIRST, Cancelled#10636 ASC NULLS FIRST, Diverted#10637 ASC NULLS FIRST, CRSDepTime#10638 ASC NULLS FIRST, DepTime#10639 ASC NULLS FIRST, DepDelayMinutes#10640 ASC NULLS FIRST, DepDelay#10641 ASC NULLS FIRST, ArrTime#10642 ASC NULLS FIRST, ArrDelayMinutes#10643 ASC NULLS FIRST, AirTime#10644 ASC NULLS FIRST, CRSElapsedTime#10645 ASC NULLS FIRST, ActualElapsedTime#10646 ASC NULLS FIRST, Distance#10647 ASC NULLS FIRST, Year#10648 ASC NULLS FIRST, Quarter#10649 ASC NULLS FIRST, Month#10650 ASC NULLS FIRST, DayofMonth#10651 ASC NULLS FIRST, DayOfWeek#10652 ASC NULLS FIRST, Marketing_Airline_Network#10653 ASC NULLS FIRST, Operated_or_Branded_Code_Share_Partners#10654 ASC NULLS FIRST, DOT_ID_Marketing_Airline#10655 ASC NULLS FIRST, ... 37 more fields], false, 0\n",
            "   +- *(2) HashAggregate(keys=[OriginStateName#10669, TaxiOut#10682, Tail_Number#10661, DivAirportLandings#10692, DestCityName#10674, AirTime#10644, DepartureDelayGroups#10680, CRSDepTime#10638, Marketing_Airline_Network#10653, ArrDel15#10688, DestStateFips#10676, FlightDate#10632, DistanceGroup#10691, DestState#10675, Month#10650, Dest#10635, OriginCityName#10666, ArrivalDelayGroups#10689, IATA_Code_Operating_Airline#10660, DepDelayMinutes#10640, CRSElapsedTime#10645, OriginCityMarketID#10665, Diverted#10637, DestAirportID#10671, ... 37 more fields], functions=[])\n",
            "      +- Exchange hashpartitioning(OriginStateName#10669, TaxiOut#10682, Tail_Number#10661, DivAirportLandings#10692, DestCityName#10674, AirTime#10644, DepartureDelayGroups#10680, CRSDepTime#10638, Marketing_Airline_Network#10653, ArrDel15#10688, DestStateFips#10676, FlightDate#10632, DistanceGroup#10691, DestState#10675, Month#10650, Dest#10635, OriginCityName#10666, ArrivalDelayGroups#10689, IATA_Code_Operating_Airline#10660, DepDelayMinutes#10640, CRSElapsedTime#10645, OriginCityMarketID#10665, Diverted#10637, DestAirportID#10671, ... 38 more fields), ENSURE_REQUIREMENTS, [id=#617]\n",
            "         +- *(1) HashAggregate(keys=[OriginStateName#10669, knownfloatingpointnormalized(normalizenanandzero(TaxiOut#10682)) AS TaxiOut#10682, Tail_Number#10661, DivAirportLandings#10692, DestCityName#10674, knownfloatingpointnormalized(normalizenanandzero(AirTime#10644)) AS AirTime#10644, knownfloatingpointnormalized(normalizenanandzero(DepartureDelayGroups#10680)) AS DepartureDelayGroups#10680, CRSDepTime#10638, Marketing_Airline_Network#10653, knownfloatingpointnormalized(normalizenanandzero(ArrDel15#10688)) AS ArrDel15#10688, DestStateFips#10676, FlightDate#10632, DistanceGroup#10691, DestState#10675, Month#10650, Dest#10635, OriginCityName#10666, knownfloatingpointnormalized(normalizenanandzero(ArrivalDelayGroups#10689)) AS ArrivalDelayGroups#10689, IATA_Code_Operating_Airline#10660, knownfloatingpointnormalized(normalizenanandzero(DepDelayMinutes#10640)) AS DepDelayMinutes#10640, knownfloatingpointnormalized(normalizenanandzero(CRSElapsedTime#10645)) AS CRSElapsedTime#10645, OriginCityMarketID#10665, Diverted#10637, DestAirportID#10671, ... 37 more fields], functions=[])\n",
            "            +- *(1) Filter UDF(DepDel15#10679, rand(42))\n",
            "               +- FileScan csv [FlightDate#10632,Airline#10633,Origin#10634,Dest#10635,Cancelled#10636,Diverted#10637,CRSDepTime#10638,DepTime#10639,DepDelayMinutes#10640,DepDelay#10641,ArrTime#10642,ArrDelayMinutes#10643,AirTime#10644,CRSElapsedTime#10645,ActualElapsedTime#10646,Distance#10647,Year#10648,Quarter#10649,Month#10650,DayofMonth#10651,DayOfWeek#10652,Marketing_Airline_Network#10653,Operated_or_Branded_Code_Share_Partners#10654,DOT_ID_Marketing_Airline#10655,... 37 more fields] Batched: false, DataFilters: [], Format: CSV, Location: InMemoryFileIndex[file:/content/sample_data/Combined_Flights_2022.csv], PartitionFilters: [], PushedFilters: [], ReadSchema: struct<FlightDate:string,Airline:string,Origin:string,Dest:string,Cancelled:boolean,Diverted:bool...\n",
            "\n",
            "\n",
            "== Physical Plan ==\n",
            "*(2) Sample 0.8, 1.0, false, 42\n",
            "+- *(2) Sort [FlightDate#10632 ASC NULLS FIRST, Airline#10633 ASC NULLS FIRST, Origin#10634 ASC NULLS FIRST, Dest#10635 ASC NULLS FIRST, Cancelled#10636 ASC NULLS FIRST, Diverted#10637 ASC NULLS FIRST, CRSDepTime#10638 ASC NULLS FIRST, DepTime#10639 ASC NULLS FIRST, DepDelayMinutes#10640 ASC NULLS FIRST, DepDelay#10641 ASC NULLS FIRST, ArrTime#10642 ASC NULLS FIRST, ArrDelayMinutes#10643 ASC NULLS FIRST, AirTime#10644 ASC NULLS FIRST, CRSElapsedTime#10645 ASC NULLS FIRST, ActualElapsedTime#10646 ASC NULLS FIRST, Distance#10647 ASC NULLS FIRST, Year#10648 ASC NULLS FIRST, Quarter#10649 ASC NULLS FIRST, Month#10650 ASC NULLS FIRST, DayofMonth#10651 ASC NULLS FIRST, DayOfWeek#10652 ASC NULLS FIRST, Marketing_Airline_Network#10653 ASC NULLS FIRST, Operated_or_Branded_Code_Share_Partners#10654 ASC NULLS FIRST, DOT_ID_Marketing_Airline#10655 ASC NULLS FIRST, ... 37 more fields], false, 0\n",
            "   +- *(2) HashAggregate(keys=[OriginStateName#10669, TaxiOut#10682, Tail_Number#10661, DivAirportLandings#10692, DestCityName#10674, AirTime#10644, DepartureDelayGroups#10680, CRSDepTime#10638, Marketing_Airline_Network#10653, ArrDel15#10688, DestStateFips#10676, FlightDate#10632, DistanceGroup#10691, DestState#10675, Month#10650, Dest#10635, OriginCityName#10666, ArrivalDelayGroups#10689, IATA_Code_Operating_Airline#10660, DepDelayMinutes#10640, CRSElapsedTime#10645, OriginCityMarketID#10665, Diverted#10637, DestAirportID#10671, ... 37 more fields], functions=[])\n",
            "      +- Exchange hashpartitioning(OriginStateName#10669, TaxiOut#10682, Tail_Number#10661, DivAirportLandings#10692, DestCityName#10674, AirTime#10644, DepartureDelayGroups#10680, CRSDepTime#10638, Marketing_Airline_Network#10653, ArrDel15#10688, DestStateFips#10676, FlightDate#10632, DistanceGroup#10691, DestState#10675, Month#10650, Dest#10635, OriginCityName#10666, ArrivalDelayGroups#10689, IATA_Code_Operating_Airline#10660, DepDelayMinutes#10640, CRSElapsedTime#10645, OriginCityMarketID#10665, Diverted#10637, DestAirportID#10671, ... 38 more fields), ENSURE_REQUIREMENTS, [id=#651]\n",
            "         +- *(1) HashAggregate(keys=[OriginStateName#10669, knownfloatingpointnormalized(normalizenanandzero(TaxiOut#10682)) AS TaxiOut#10682, Tail_Number#10661, DivAirportLandings#10692, DestCityName#10674, knownfloatingpointnormalized(normalizenanandzero(AirTime#10644)) AS AirTime#10644, knownfloatingpointnormalized(normalizenanandzero(DepartureDelayGroups#10680)) AS DepartureDelayGroups#10680, CRSDepTime#10638, Marketing_Airline_Network#10653, knownfloatingpointnormalized(normalizenanandzero(ArrDel15#10688)) AS ArrDel15#10688, DestStateFips#10676, FlightDate#10632, DistanceGroup#10691, DestState#10675, Month#10650, Dest#10635, OriginCityName#10666, knownfloatingpointnormalized(normalizenanandzero(ArrivalDelayGroups#10689)) AS ArrivalDelayGroups#10689, IATA_Code_Operating_Airline#10660, knownfloatingpointnormalized(normalizenanandzero(DepDelayMinutes#10640)) AS DepDelayMinutes#10640, knownfloatingpointnormalized(normalizenanandzero(CRSElapsedTime#10645)) AS CRSElapsedTime#10645, OriginCityMarketID#10665, Diverted#10637, DestAirportID#10671, ... 37 more fields], functions=[])\n",
            "            +- *(1) Filter UDF(DepDel15#10679, rand(42))\n",
            "               +- FileScan csv [FlightDate#10632,Airline#10633,Origin#10634,Dest#10635,Cancelled#10636,Diverted#10637,CRSDepTime#10638,DepTime#10639,DepDelayMinutes#10640,DepDelay#10641,ArrTime#10642,ArrDelayMinutes#10643,AirTime#10644,CRSElapsedTime#10645,ActualElapsedTime#10646,Distance#10647,Year#10648,Quarter#10649,Month#10650,DayofMonth#10651,DayOfWeek#10652,Marketing_Airline_Network#10653,Operated_or_Branded_Code_Share_Partners#10654,DOT_ID_Marketing_Airline#10655,... 37 more fields] Batched: false, DataFilters: [], Format: CSV, Location: InMemoryFileIndex[file:/content/sample_data/Combined_Flights_2022.csv], PartitionFilters: [], PushedFilters: [], ReadSchema: struct<FlightDate:string,Airline:string,Origin:string,Dest:string,Cancelled:boolean,Diverted:bool...\n",
            "\n",
            "\n"
          ]
        }
      ]
    },
    {
      "cell_type": "markdown",
      "source": [
        "# **5. Construcción de modelos de aprendizaje supervisado y no supervisado.**"
      ],
      "metadata": {
        "id": "LRKWGaDScmzp"
      }
    },
    {
      "cell_type": "markdown",
      "source": [
        "## Algoritmo de aprendizaje supervisado\n",
        "\n"
      ],
      "metadata": {
        "id": "nrb2iPOOt5GK"
      }
    },
    {
      "cell_type": "code",
      "source": [
        "from pyspark.ml.feature import VectorAssembler\n",
        "\n",
        "#Se genera assembler para la columna DepDel15\n",
        "assembler = VectorAssembler(inputCols=['DepDel15'], outputCol = 'Attributes')\n",
        "output_train = assembler.transform(train_data)\n",
        "output_test = assembler.transform(test_data)\n",
        "\n",
        "output_train.show(5)\n",
        "output_test.show(5)"
      ],
      "metadata": {
        "colab": {
          "base_uri": "https://localhost:8080/"
        },
        "id": "r2Fih8uCnmFo",
        "outputId": "454457a7-3afc-4cea-c3c7-3d78626548bc"
      },
      "execution_count": 39,
      "outputs": [
        {
          "output_type": "stream",
          "name": "stdout",
          "text": [
            "+----------+--------------------+------+----+---------+--------+----------+-------+---------------+--------+-------+---------------+-------+--------------+-----------------+--------+----+-------+-----+----------+---------+-------------------------+---------------------------------------+------------------------+---------------------------+-------------------------------+-----------------+------------------------+---------------------------+-----------+-------------------------------+---------------+------------------+------------------+--------------+-----------+---------------+---------------+---------+-------------+----------------+----------------+--------------------+---------+-------------+-------------+-------+--------+--------------------+----------+-------+---------+--------+------+----------+--------+--------+------------------+----------+-------------+------------------+----------+\n",
            "|FlightDate|             Airline|Origin|Dest|Cancelled|Diverted|CRSDepTime|DepTime|DepDelayMinutes|DepDelay|ArrTime|ArrDelayMinutes|AirTime|CRSElapsedTime|ActualElapsedTime|Distance|Year|Quarter|Month|DayofMonth|DayOfWeek|Marketing_Airline_Network|Operated_or_Branded_Code_Share_Partners|DOT_ID_Marketing_Airline|IATA_Code_Marketing_Airline|Flight_Number_Marketing_Airline|Operating_Airline|DOT_ID_Operating_Airline|IATA_Code_Operating_Airline|Tail_Number|Flight_Number_Operating_Airline|OriginAirportID|OriginAirportSeqID|OriginCityMarketID|OriginCityName|OriginState|OriginStateFips|OriginStateName|OriginWac|DestAirportID|DestAirportSeqID|DestCityMarketID|        DestCityName|DestState|DestStateFips|DestStateName|DestWac|DepDel15|DepartureDelayGroups|DepTimeBlk|TaxiOut|WheelsOff|WheelsOn|TaxiIn|CRSArrTime|ArrDelay|ArrDel15|ArrivalDelayGroups|ArrTimeBlk|DistanceGroup|DivAirportLandings|Attributes|\n",
            "+----------+--------------------+------+----+---------+--------+----------+-------+---------------+--------+-------+---------------+-------+--------------+-----------------+--------+----+-------+-----+----------+---------+-------------------------+---------------------------------------+------------------------+---------------------------+-------------------------------+-----------------+------------------------+---------------------------+-----------+-------------------------------+---------------+------------------+------------------+--------------+-----------+---------------+---------------+---------+-------------+----------------+----------------+--------------------+---------+-------------+-------------+-------+--------+--------------------+----------+-------+---------+--------+------+----------+--------+--------+------------------+----------+-------------+------------------+----------+\n",
            "|2022-01-01|Alaska Airlines Inc.|   SEA| ANC|    false|   false|      2130| 2222.0|           52.0|    52.0|  107.0|           52.0|  190.0|         225.0|            225.0|  1448.0|2022|      1|    1|         1|        6|                       AS|                                     AS|                   19930|                         AS|                            121|               AS|                   19930|                         AS|     N278AK|                            121|          14747|           1474703|             30559|   Seattle, WA|         WA|             53|     Washington|       93|        10299|         1029906|           30299|       Anchorage, AK|       AK|            2|       Alaska|      1|     1.0|                 3.0| 2100-2159|   28.0|   2250.0|   100.0|   7.0|        15|    52.0|     1.0|               3.0| 0001-0559|            6|                 0|     [1.0]|\n",
            "|2022-01-01|Alaska Airlines Inc.|   SEA| PHX|    false|   false|      1149| 1154.0|            5.0|     5.0| 1523.0|            0.0|  132.0|         172.0|            149.0|  1107.0|2022|      1|    1|         1|        6|                       AS|                                     AS|                   19930|                         AS|                            382|               AS|                   19930|                         AS|     N526AS|                            382|          14747|           1474703|             30559|   Seattle, WA|         WA|             53|     Washington|       93|        14107|         1410702|           30466|         Phoenix, AZ|       AZ|            4|      Arizona|     81|     0.0|                 0.0| 1100-1159|   14.0|   1208.0|  1520.0|   3.0|      1541|   -18.0|     0.0|              -2.0| 1500-1559|            5|                 0|     [0.0]|\n",
            "|2022-01-01|American Airlines...|   CLT| EWR|    false|   false|      1313| 1309.0|            0.0|    -4.0| 1449.0|            0.0|   79.0|         112.0|            100.0|   529.0|2022|      1|    1|         1|        6|                       AA|                                     AA|                   19805|                         AA|                           1489|               AA|                   19805|                         AA|     N343PN|                           1489|          11057|           1105703|             31057| Charlotte, NC|         NC|             37| North Carolina|       36|        11618|         1161802|           31703|          Newark, NJ|       NJ|           34|   New Jersey|     21|     0.0|                -1.0| 1300-1359|   16.0|   1325.0|  1444.0|   5.0|      1505|   -16.0|     0.0|              -2.0| 1500-1559|            3|                 0|     [0.0]|\n",
            "|2022-01-01|American Airlines...|   DCA| ORD|    false|   false|       936| 1136.0|          120.0|   120.0| 1230.0|           91.0|   98.0|         143.0|            114.0|   612.0|2022|      1|    1|         1|        6|                       AA|                                     AA|                   19805|                         AA|                           1107|               AA|                   19805|                         AA|     N839AW|                           1107|          11278|           1127805|             30852|Washington, DC|         VA|             51|       Virginia|       38|        13930|         1393007|           30977|         Chicago, IL|       IL|           17|     Illinois|     41|     1.0|                 8.0| 0900-0959|   11.0|   1147.0|  1225.0|   5.0|      1059|    91.0|     1.0|               6.0| 1000-1059|            3|                 0|     [1.0]|\n",
            "|2022-01-01|         Comair Inc.|   CLT| AVP|    false|   false|      2029| 2044.0|           15.0|    15.0| 2229.0|           14.0|   75.0|         106.0|            105.0|   509.0|2022|      1|    1|         1|        6|                       AA|                           AA_CODESHARE|                   19805|                         AA|                           5370|               OH|                   20397|                         OH|     N605NN|                           5370|          11057|           1105703|             31057| Charlotte, NC|         NC|             37| North Carolina|       36|        10434|         1043405|           30434|Scranton/Wilkes-B...|       PA|           42| Pennsylvania|     23|     1.0|                 1.0| 2000-2059|   27.0|   2111.0|  2226.0|   3.0|      2215|    14.0|     0.0|               0.0| 2200-2259|            3|                 0|     [1.0]|\n",
            "+----------+--------------------+------+----+---------+--------+----------+-------+---------------+--------+-------+---------------+-------+--------------+-----------------+--------+----+-------+-----+----------+---------+-------------------------+---------------------------------------+------------------------+---------------------------+-------------------------------+-----------------+------------------------+---------------------------+-----------+-------------------------------+---------------+------------------+------------------+--------------+-----------+---------------+---------------+---------+-------------+----------------+----------------+--------------------+---------+-------------+-------------+-------+--------+--------------------+----------+-------+---------+--------+------+----------+--------+--------+------------------+----------+-------------+------------------+----------+\n",
            "only showing top 5 rows\n",
            "\n",
            "+----------+--------------------+------+----+---------+--------+----------+-------+---------------+--------+-------+---------------+-------+--------------+-----------------+--------+----+-------+-----+----------+---------+-------------------------+---------------------------------------+------------------------+---------------------------+-------------------------------+-----------------+------------------------+---------------------------+-----------+-------------------------------+---------------+------------------+------------------+--------------+-----------+---------------+---------------+---------+-------------+----------------+----------------+--------------+---------+-------------+-------------+-------+--------+--------------------+----------+-------+---------+--------+------+----------+--------+--------+------------------+----------+-------------+------------------+----------+\n",
            "|FlightDate|             Airline|Origin|Dest|Cancelled|Diverted|CRSDepTime|DepTime|DepDelayMinutes|DepDelay|ArrTime|ArrDelayMinutes|AirTime|CRSElapsedTime|ActualElapsedTime|Distance|Year|Quarter|Month|DayofMonth|DayOfWeek|Marketing_Airline_Network|Operated_or_Branded_Code_Share_Partners|DOT_ID_Marketing_Airline|IATA_Code_Marketing_Airline|Flight_Number_Marketing_Airline|Operating_Airline|DOT_ID_Operating_Airline|IATA_Code_Operating_Airline|Tail_Number|Flight_Number_Operating_Airline|OriginAirportID|OriginAirportSeqID|OriginCityMarketID|OriginCityName|OriginState|OriginStateFips|OriginStateName|OriginWac|DestAirportID|DestAirportSeqID|DestCityMarketID|  DestCityName|DestState|DestStateFips|DestStateName|DestWac|DepDel15|DepartureDelayGroups|DepTimeBlk|TaxiOut|WheelsOff|WheelsOn|TaxiIn|CRSArrTime|ArrDelay|ArrDel15|ArrivalDelayGroups|ArrTimeBlk|DistanceGroup|DivAirportLandings|Attributes|\n",
            "+----------+--------------------+------+----+---------+--------+----------+-------+---------------+--------+-------+---------------+-------+--------------+-----------------+--------+----+-------+-----+----------+---------+-------------------------+---------------------------------------+------------------------+---------------------------+-------------------------------+-----------------+------------------------+---------------------------+-----------+-------------------------------+---------------+------------------+------------------+--------------+-----------+---------------+---------------+---------+-------------+----------------+----------------+--------------+---------+-------------+-------------+-------+--------+--------------------+----------+-------+---------+--------+------+----------+--------+--------+------------------+----------+-------------+------------------+----------+\n",
            "|2022-01-01|       Allegiant Air|   SCK| LAS|    false|   false|      1411| 1431.0|           20.0|    20.0| 1546.0|           26.0|   58.0|          69.0|             75.0|   359.0|2022|      1|    1|         1|        6|                       G4|                                     G4|                   20368|                         G4|                             55|               G4|                   20368|                         G4|      302NV|                             55|          14716|           1471603|             34716|  Stockton, CA|         CA|              6|     California|       91|        12889|         1288903|           32211| Las Vegas, NV|       NV|           32|       Nevada|     85|     1.0|                 1.0| 1400-1459|   12.0|   1443.0|  1541.0|   5.0|      1520|    26.0|     1.0|               1.0| 1500-1559|            2|                 0|     [1.0]|\n",
            "|2022-01-01|Delta Air Lines Inc.|   ATL| BZN|    false|   false|      1124| 1129.0|            5.0|     5.0| 1328.0|            0.0|  219.0|         257.0|            239.0|  1640.0|2022|      1|    1|         1|        6|                       DL|                                     DL|                   19790|                         DL|                            651|               DL|                   19790|                         DL|     N342DN|                            651|          10397|           1039707|             30397|   Atlanta, GA|         GA|             13|        Georgia|       34|        10849|         1084907|           30849|   Bozeman, MT|       MT|           30|      Montana|     84|     0.0|                 0.0| 1100-1159|   15.0|   1144.0|  1323.0|   5.0|      1341|   -13.0|     0.0|              -1.0| 1300-1359|            7|                 0|     [0.0]|\n",
            "|2022-01-01|Delta Air Lines Inc.|   CHS| ATL|    false|   false|       600|  559.0|            0.0|    -1.0|  709.0|            0.0|   46.0|          71.0|             70.0|   259.0|2022|      1|    1|         1|        6|                       DL|                                     DL|                   19790|                         DL|                           1732|               DL|                   19790|                         DL|     N838DN|                           1732|          10994|           1099402|             30994|Charleston, SC|         SC|             45| South Carolina|       37|        10397|         1039707|           30397|   Atlanta, GA|       GA|           13|      Georgia|     34|     0.0|                -1.0| 0600-0659|   14.0|    613.0|   659.0|  10.0|       711|    -2.0|     0.0|              -1.0| 0700-0759|            2|                 0|     [0.0]|\n",
            "|2022-01-01|         Horizon Air|   ANC| FAI|    false|   false|      1035| 1251.0|          136.0|   136.0| 1351.0|          135.0|   46.0|          61.0|             60.0|   261.0|2022|      1|    1|         1|        6|                       AS|                           AS_CODESHARE|                   19930|                         AS|                           2191|               QX|                   19687|                         QX|     N627QX|                           2191|          10299|           1029906|             30299| Anchorage, AK|         AK|              2|         Alaska|        1|        11630|         1163002|           31517| Fairbanks, AK|       AK|            2|       Alaska|      1|     1.0|                 9.0| 1000-1059|   12.0|   1303.0|  1349.0|   2.0|      1136|   135.0|     1.0|               9.0| 1100-1159|            2|                 0|     [1.0]|\n",
            "|2022-01-01|Southwest Airline...|   CMH| RSW|    false|   false|       850|  912.0|           22.0|    22.0| 1144.0|           19.0|  140.0|         155.0|            152.0|   930.0|2022|      1|    1|         1|        6|                       WN|                                     WN|                   19393|                         WN|                           3810|               WN|                   19393|                         WN|     N287WN|                           3810|          11066|           1106606|             31066|  Columbus, OH|         OH|             39|           Ohio|       44|        14635|         1463502|           31714|Fort Myers, FL|       FL|           12|      Florida|     33|     1.0|                 1.0| 0800-0859|    6.0|    918.0|  1138.0|   6.0|      1125|    19.0|     1.0|               1.0| 1100-1159|            4|                 0|     [1.0]|\n",
            "+----------+--------------------+------+----+---------+--------+----------+-------+---------------+--------+-------+---------------+-------+--------------+-----------------+--------+----+-------+-----+----------+---------+-------------------------+---------------------------------------+------------------------+---------------------------+-------------------------------+-----------------+------------------------+---------------------------+-----------+-------------------------------+---------------+------------------+------------------+--------------+-----------+---------------+---------------+---------+-------------+----------------+----------------+--------------+---------+-------------+-------------+-------+--------+--------------------+----------+-------+---------+--------+------+----------+--------+--------+------------------+----------+-------------+------------------+----------+\n",
            "only showing top 5 rows\n",
            "\n"
          ]
        }
      ]
    },
    {
      "cell_type": "code",
      "source": [
        "# Se manda a entrenar con un modelo de regresion Lineal\n",
        "from pyspark.ml.classification import LogisticRegression\n",
        "\n",
        "lr = LogisticRegression(featuresCol = 'Attributes', labelCol = 'DepDel15', maxIter=10, regParam=0.3, elasticNetParam=1.0)\n",
        "lr_model = lr.fit(output_train)"
      ],
      "metadata": {
        "id": "XDv3owjinmrI"
      },
      "execution_count": 41,
      "outputs": []
    },
    {
      "cell_type": "code",
      "source": [
        "# Se Imprimen los valores de los coeficientes\n",
        "print (\"The coefficient of the model is : \", lr_model.coefficients)\n",
        "print (\"The Intercept of the model is : \", lr_model.intercept)"
      ],
      "metadata": {
        "colab": {
          "base_uri": "https://localhost:8080/"
        },
        "id": "pcK5vZLUnrzQ",
        "outputId": "c61ff239-a7db-4e86-8d5e-2084b34f514c"
      },
      "execution_count": 42,
      "outputs": [
        {
          "output_type": "stream",
          "name": "stdout",
          "text": [
            "The coefficient of the model is :  [1.3983354435712456]\n",
            "The Intercept of the model is :  -1.6674354880260787\n"
          ]
        }
      ]
    },
    {
      "cell_type": "code",
      "source": [
        "# Se aplica el modelo al conjunto test\n",
        "Pred_lr = lr_model.evaluate(output_test)"
      ],
      "metadata": {
        "id": "xsB9Ht0onuYG"
      },
      "execution_count": 43,
      "outputs": []
    },
    {
      "cell_type": "code",
      "source": [
        "# Evaluación del modelo\n",
        "from pyspark.ml.evaluation import RegressionEvaluator\n",
        "\n",
        "#Root Mean Square Error\n",
        "eval_lr = RegressionEvaluator(labelCol=\"DepDel15\", predictionCol=\"prediction\", metricName=\"rmse\")\n",
        "rmse_lr = eval_lr.evaluate(Pred_lr.predictions)\n",
        "print(\"RMSE: %.3f\" % rmse_lr)\n",
        "\n",
        "# Mean Square Error\n",
        "mse = eval_lr.evaluate(Pred_lr.predictions, {eval_lr.metricName: \"mse\"})\n",
        "print(\"MSE: %.3f\" % mse)\n",
        "\n",
        "# Mean Absolute Error\n",
        "mae = eval_lr.evaluate(Pred_lr.predictions, {eval_lr.metricName: \"mae\"})\n",
        "print(\"MAE: %.3f\" % mae)\n",
        "\n",
        "# r2 - coefficient of determination\n",
        "r2 = eval_lr.evaluate(Pred_lr.predictions, {eval_lr.metricName: \"r2\"})\n",
        "print(\"r2: %.3f\" %r2)"
      ],
      "metadata": {
        "colab": {
          "base_uri": "https://localhost:8080/"
        },
        "id": "kbC-KU3rnxUm",
        "outputId": "6d0a91b1-4131-4844-f545-829baf55599c"
      },
      "execution_count": 44,
      "outputs": [
        {
          "output_type": "stream",
          "name": "stdout",
          "text": [
            "RMSE: 0.468\n",
            "MSE: 0.219\n",
            "MAE: 0.219\n",
            "r2: -0.280\n"
          ]
        }
      ]
    },
    {
      "cell_type": "markdown",
      "source": [
        "## Algoritmo de aprendizaje no supervisado"
      ],
      "metadata": {
        "id": "m1YYMXZPuB-o"
      }
    },
    {
      "cell_type": "code",
      "source": [
        "#Se elige modelo GaussianMixture\n",
        "from pyspark.ml.clustering import GaussianMixture\n",
        "gm = GaussianMixture(k=7, tol=0.01, seed=42,\n",
        "                     featuresCol=\"Attributes\", maxIter=10)\n",
        "model = gm.fit(output_train)"
      ],
      "metadata": {
        "id": "gwCCT4a8HJ3_"
      },
      "execution_count": 46,
      "outputs": []
    },
    {
      "cell_type": "code",
      "source": [
        "#Objeto resumen\n",
        "summary = model.summary"
      ],
      "metadata": {
        "id": "xHrb9Wpv13la"
      },
      "execution_count": 51,
      "outputs": []
    },
    {
      "cell_type": "code",
      "source": [
        "#Número de objetos en cada conglomerado\n",
        "summary.cluster.select(\"prediction\").distinct().count()"
      ],
      "metadata": {
        "colab": {
          "base_uri": "https://localhost:8080/"
        },
        "id": "HwEBKEkH2R96",
        "outputId": "2f8174c6-aa3c-4f6c-a9f2-c505460460cd"
      },
      "execution_count": 48,
      "outputs": [
        {
          "output_type": "execute_result",
          "data": {
            "text/plain": [
              "2"
            ]
          },
          "metadata": {},
          "execution_count": 48
        }
      ]
    },
    {
      "cell_type": "code",
      "source": [
        "#Rendimietno del modelo\n",
        "summary.logLikelihood"
      ],
      "metadata": {
        "colab": {
          "base_uri": "https://localhost:8080/"
        },
        "id": "gMU-Y3Uf2Zjm",
        "outputId": "484492b5-52db-4d70-9923-d79c7cd90c7a"
      },
      "execution_count": 49,
      "outputs": [
        {
          "output_type": "execute_result",
          "data": {
            "text/plain": [
              "22105387.640255135"
            ]
          },
          "metadata": {},
          "execution_count": 49
        }
      ]
    },
    {
      "cell_type": "code",
      "source": [
        "summary.clusterSizes"
      ],
      "metadata": {
        "colab": {
          "base_uri": "https://localhost:8080/"
        },
        "id": "cs9lKBzH2a_P",
        "outputId": "185f6869-4053-4f8c-cc1d-30f49a1b64e5"
      },
      "execution_count": 50,
      "outputs": [
        {
          "output_type": "execute_result",
          "data": {
            "text/plain": [
              "[1237783, 0, 0, 346672, 0, 0, 0]"
            ]
          },
          "metadata": {},
          "execution_count": 50
        }
      ]
    }
  ]
}