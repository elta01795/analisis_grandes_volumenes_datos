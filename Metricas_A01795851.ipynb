{
  "nbformat": 4,
  "nbformat_minor": 0,
  "metadata": {
    "colab": {
      "provenance": [],
      "gpuType": "T4"
    },
    "kernelspec": {
      "name": "python3",
      "display_name": "Python 3"
    },
    "language_info": {
      "name": "python"
    },
    "accelerator": "GPU"
  },
  "cells": [
    {
      "cell_type": "markdown",
      "source": [
        "### 1. Construcción de la muestra M."
      ],
      "metadata": {
        "id": "QjqUiGqPfGt1"
      }
    },
    {
      "cell_type": "code",
      "execution_count": null,
      "metadata": {
        "id": "8uNqBpOVayag"
      },
      "outputs": [],
      "source": [
        "!apt-get install openjdk-8-jdk-headless -qq > /dev/null\n",
        "!wget -q http://archive.apache.org/dist/spark/spark-3.1.1/spark-3.1.1-bin-hadoop3.2.tgz\n",
        "!tar xf spark-3.1.1-bin-hadoop3.2.tgz\n",
        "!pip install -q findspark"
      ]
    },
    {
      "cell_type": "code",
      "source": [
        "import os\n",
        "os.environ[\"JAVA_HOME\"] = \"/usr/lib/jvm/java-8-openjdk-amd64\"\n",
        "os.environ[\"SPARK_HOME\"] = \"/content/spark-3.1.1-bin-hadoop3.2\""
      ],
      "metadata": {
        "id": "S0i2NkEgfk9A"
      },
      "execution_count": null,
      "outputs": []
    },
    {
      "cell_type": "code",
      "source": [
        "import findspark\n",
        "findspark.init()\n",
        "from pyspark import SparkContext, SparkConf, SQLContext\n",
        "from pyspark.sql import SparkSession\n",
        "spark = SparkSession.builder.master(\"local[*]\").getOrCreate()\n",
        "spark.conf.set(\"spark.sql.repl.eagerEval.enabled\", True) # Property used to format output tables better\n",
        "spark"
      ],
      "metadata": {
        "colab": {
          "base_uri": "https://localhost:8080/",
          "height": 222
        },
        "id": "IzIRxE54fohZ",
        "outputId": "2bc1e914-b6b6-4e08-977d-7d66dcfc24c1"
      },
      "execution_count": null,
      "outputs": [
        {
          "output_type": "execute_result",
          "data": {
            "text/plain": [
              "<pyspark.sql.session.SparkSession at 0x7ce4fc5d0e50>"
            ],
            "text/html": [
              "\n",
              "            <div>\n",
              "                <p><b>SparkSession - in-memory</b></p>\n",
              "                \n",
              "        <div>\n",
              "            <p><b>SparkContext</b></p>\n",
              "\n",
              "            <p><a href=\"http://787529cc2bdf:4040\">Spark UI</a></p>\n",
              "\n",
              "            <dl>\n",
              "              <dt>Version</dt>\n",
              "                <dd><code>v3.1.1</code></dd>\n",
              "              <dt>Master</dt>\n",
              "                <dd><code>local[*]</code></dd>\n",
              "              <dt>AppName</dt>\n",
              "                <dd><code>pyspark-shell</code></dd>\n",
              "            </dl>\n",
              "        </div>\n",
              "        \n",
              "            </div>\n",
              "        "
            ]
          },
          "metadata": {},
          "execution_count": 6
        }
      ]
    },
    {
      "cell_type": "code",
      "source": [
        "path_file = 'sample_data/Combined_Flights_2022.csv'"
      ],
      "metadata": {
        "id": "NsFJ8ZCHfr2Y"
      },
      "execution_count": null,
      "outputs": []
    },
    {
      "cell_type": "code",
      "source": [
        "df = spark.read.csv(path_file, header=True, sep=\",\", inferSchema=True)\n",
        "df.show(5)"
      ],
      "metadata": {
        "id": "jN2G0QiqgXkg",
        "colab": {
          "base_uri": "https://localhost:8080/"
        },
        "outputId": "4fa9bb80-6b04-4efa-e9a0-e6108b02cbbf"
      },
      "execution_count": null,
      "outputs": [
        {
          "output_type": "stream",
          "name": "stdout",
          "text": [
            "+----------+--------------------+------+----+---------+--------+----------+-------+---------------+--------+-------+---------------+-------+--------------+-----------------+--------+----+-------+-----+----------+---------+-------------------------+---------------------------------------+------------------------+---------------------------+-------------------------------+-----------------+------------------------+---------------------------+-----------+-------------------------------+---------------+------------------+------------------+--------------------+-----------+---------------+---------------+---------+-------------+----------------+----------------+-------------------+---------+-------------+-------------+-------+--------+--------------------+----------+-------+---------+--------+------+----------+--------+--------+------------------+----------+-------------+------------------+\n",
            "|FlightDate|             Airline|Origin|Dest|Cancelled|Diverted|CRSDepTime|DepTime|DepDelayMinutes|DepDelay|ArrTime|ArrDelayMinutes|AirTime|CRSElapsedTime|ActualElapsedTime|Distance|Year|Quarter|Month|DayofMonth|DayOfWeek|Marketing_Airline_Network|Operated_or_Branded_Code_Share_Partners|DOT_ID_Marketing_Airline|IATA_Code_Marketing_Airline|Flight_Number_Marketing_Airline|Operating_Airline|DOT_ID_Operating_Airline|IATA_Code_Operating_Airline|Tail_Number|Flight_Number_Operating_Airline|OriginAirportID|OriginAirportSeqID|OriginCityMarketID|      OriginCityName|OriginState|OriginStateFips|OriginStateName|OriginWac|DestAirportID|DestAirportSeqID|DestCityMarketID|       DestCityName|DestState|DestStateFips|DestStateName|DestWac|DepDel15|DepartureDelayGroups|DepTimeBlk|TaxiOut|WheelsOff|WheelsOn|TaxiIn|CRSArrTime|ArrDelay|ArrDel15|ArrivalDelayGroups|ArrTimeBlk|DistanceGroup|DivAirportLandings|\n",
            "+----------+--------------------+------+----+---------+--------+----------+-------+---------------+--------+-------+---------------+-------+--------------+-----------------+--------+----+-------+-----+----------+---------+-------------------------+---------------------------------------+------------------------+---------------------------+-------------------------------+-----------------+------------------------+---------------------------+-----------+-------------------------------+---------------+------------------+------------------+--------------------+-----------+---------------+---------------+---------+-------------+----------------+----------------+-------------------+---------+-------------+-------------+-------+--------+--------------------+----------+-------+---------+--------+------+----------+--------+--------+------------------+----------+-------------+------------------+\n",
            "|2022-04-04|Commutair Aka Cha...|   GJT| DEN|    false|   false|      1133| 1123.0|            0.0|   -10.0| 1228.0|            0.0|   40.0|          72.0|             65.0|   212.0|2022|      2|    4|         4|        1|                       UA|                           UA_CODESHARE|                   19977|                         UA|                           4301|               C5|                   20445|                         C5|     N21144|                           4301|          11921|           1192102|             31921|  Grand Junction, CO|         CO|              8|       Colorado|       82|        11292|         1129202|           30325|         Denver, CO|       CO|            8|     Colorado|     82|     0.0|                -1.0| 1100-1159|   17.0|   1140.0|  1220.0|   8.0|      1245|   -17.0|     0.0|              -2.0| 1200-1259|            1|                 0|\n",
            "|2022-04-04|Commutair Aka Cha...|   HRL| IAH|    false|   false|       732|  728.0|            0.0|    -4.0|  848.0|            0.0|   55.0|          77.0|             80.0|   295.0|2022|      2|    4|         4|        1|                       UA|                           UA_CODESHARE|                   19977|                         UA|                           4299|               C5|                   20445|                         C5|     N16170|                           4299|          12206|           1220605|             32206|Harlingen/San Ben...|         TX|             48|          Texas|       74|        12266|         1226603|           31453|        Houston, TX|       TX|           48|        Texas|     74|     0.0|                -1.0| 0700-0759|   16.0|    744.0|   839.0|   9.0|       849|    -1.0|     0.0|              -1.0| 0800-0859|            2|                 0|\n",
            "|2022-04-04|Commutair Aka Cha...|   DRO| DEN|    false|   false|      1529| 1514.0|            0.0|   -15.0| 1636.0|            0.0|   47.0|          70.0|             82.0|   251.0|2022|      2|    4|         4|        1|                       UA|                           UA_CODESHARE|                   19977|                         UA|                           4298|               C5|                   20445|                         C5|     N21144|                           4298|          11413|           1141307|             30285|         Durango, CO|         CO|              8|       Colorado|       82|        11292|         1129202|           30325|         Denver, CO|       CO|            8|     Colorado|     82|     0.0|                -1.0| 1500-1559|   21.0|   1535.0|  1622.0|  14.0|      1639|    -3.0|     0.0|              -1.0| 1600-1659|            2|                 0|\n",
            "|2022-04-04|Commutair Aka Cha...|   IAH| GPT|    false|   false|      1435| 1430.0|            0.0|    -5.0| 1547.0|            0.0|   57.0|          90.0|             77.0|   376.0|2022|      2|    4|         4|        1|                       UA|                           UA_CODESHARE|                   19977|                         UA|                           4296|               C5|                   20445|                         C5|     N11184|                           4296|          12266|           1226603|             31453|         Houston, TX|         TX|             48|          Texas|       74|        11973|         1197302|           31973|Gulfport/Biloxi, MS|       MS|           28|  Mississippi|     53|     0.0|                -1.0| 1400-1459|   16.0|   1446.0|  1543.0|   4.0|      1605|   -18.0|     0.0|              -2.0| 1600-1659|            2|                 0|\n",
            "|2022-04-04|Commutair Aka Cha...|   DRO| DEN|    false|   false|      1135| 1135.0|            0.0|     0.0| 1251.0|            6.0|   49.0|          70.0|             76.0|   251.0|2022|      2|    4|         4|        1|                       UA|                           UA_CODESHARE|                   19977|                         UA|                           4295|               C5|                   20445|                         C5|     N17146|                           4295|          11413|           1141307|             30285|         Durango, CO|         CO|              8|       Colorado|       82|        11292|         1129202|           30325|         Denver, CO|       CO|            8|     Colorado|     82|     0.0|                 0.0| 1100-1159|   19.0|   1154.0|  1243.0|   8.0|      1245|     6.0|     0.0|               0.0| 1200-1259|            2|                 0|\n",
            "+----------+--------------------+------+----+---------+--------+----------+-------+---------------+--------+-------+---------------+-------+--------------+-----------------+--------+----+-------+-----+----------+---------+-------------------------+---------------------------------------+------------------------+---------------------------+-------------------------------+-----------------+------------------------+---------------------------+-----------+-------------------------------+---------------+------------------+------------------+--------------------+-----------+---------------+---------------+---------+-------------+----------------+----------------+-------------------+---------+-------------+-------------+-------+--------+--------------------+----------+-------+---------+--------+------+----------+--------+--------+------------------+----------+-------------+------------------+\n",
            "only showing top 5 rows\n",
            "\n"
          ]
        }
      ]
    },
    {
      "cell_type": "code",
      "source": [
        "print(\"Número de registros: \" + str(df.count()))\n",
        "print(\"Número de columnas: \" + str(len(df.columns)))"
      ],
      "metadata": {
        "id": "7nw0EIEVgxEm",
        "colab": {
          "base_uri": "https://localhost:8080/"
        },
        "outputId": "d680bab8-cf95-4fe5-e133-32c6f5682ddb"
      },
      "execution_count": null,
      "outputs": [
        {
          "output_type": "stream",
          "name": "stdout",
          "text": [
            "Número de registros: 190348\n",
            "Número de columnas: 61\n"
          ]
        }
      ]
    },
    {
      "cell_type": "code",
      "source": [
        "#Se visualiza esquema del archivo importado a DataFrame\n",
        "df.printSchema()"
      ],
      "metadata": {
        "id": "wwGF1pKVgzUa",
        "colab": {
          "base_uri": "https://localhost:8080/"
        },
        "outputId": "8c6a56d7-e003-4fc0-8bd9-30e14cfb5940"
      },
      "execution_count": null,
      "outputs": [
        {
          "output_type": "stream",
          "name": "stdout",
          "text": [
            "root\n",
            " |-- FlightDate: string (nullable = true)\n",
            " |-- Airline: string (nullable = true)\n",
            " |-- Origin: string (nullable = true)\n",
            " |-- Dest: string (nullable = true)\n",
            " |-- Cancelled: boolean (nullable = true)\n",
            " |-- Diverted: boolean (nullable = true)\n",
            " |-- CRSDepTime: integer (nullable = true)\n",
            " |-- DepTime: double (nullable = true)\n",
            " |-- DepDelayMinutes: double (nullable = true)\n",
            " |-- DepDelay: double (nullable = true)\n",
            " |-- ArrTime: double (nullable = true)\n",
            " |-- ArrDelayMinutes: double (nullable = true)\n",
            " |-- AirTime: double (nullable = true)\n",
            " |-- CRSElapsedTime: double (nullable = true)\n",
            " |-- ActualElapsedTime: double (nullable = true)\n",
            " |-- Distance: double (nullable = true)\n",
            " |-- Year: integer (nullable = true)\n",
            " |-- Quarter: integer (nullable = true)\n",
            " |-- Month: integer (nullable = true)\n",
            " |-- DayofMonth: integer (nullable = true)\n",
            " |-- DayOfWeek: integer (nullable = true)\n",
            " |-- Marketing_Airline_Network: string (nullable = true)\n",
            " |-- Operated_or_Branded_Code_Share_Partners: string (nullable = true)\n",
            " |-- DOT_ID_Marketing_Airline: integer (nullable = true)\n",
            " |-- IATA_Code_Marketing_Airline: string (nullable = true)\n",
            " |-- Flight_Number_Marketing_Airline: integer (nullable = true)\n",
            " |-- Operating_Airline: string (nullable = true)\n",
            " |-- DOT_ID_Operating_Airline: integer (nullable = true)\n",
            " |-- IATA_Code_Operating_Airline: string (nullable = true)\n",
            " |-- Tail_Number: string (nullable = true)\n",
            " |-- Flight_Number_Operating_Airline: integer (nullable = true)\n",
            " |-- OriginAirportID: integer (nullable = true)\n",
            " |-- OriginAirportSeqID: integer (nullable = true)\n",
            " |-- OriginCityMarketID: integer (nullable = true)\n",
            " |-- OriginCityName: string (nullable = true)\n",
            " |-- OriginState: string (nullable = true)\n",
            " |-- OriginStateFips: integer (nullable = true)\n",
            " |-- OriginStateName: string (nullable = true)\n",
            " |-- OriginWac: integer (nullable = true)\n",
            " |-- DestAirportID: integer (nullable = true)\n",
            " |-- DestAirportSeqID: integer (nullable = true)\n",
            " |-- DestCityMarketID: integer (nullable = true)\n",
            " |-- DestCityName: string (nullable = true)\n",
            " |-- DestState: string (nullable = true)\n",
            " |-- DestStateFips: integer (nullable = true)\n",
            " |-- DestStateName: string (nullable = true)\n",
            " |-- DestWac: integer (nullable = true)\n",
            " |-- DepDel15: double (nullable = true)\n",
            " |-- DepartureDelayGroups: double (nullable = true)\n",
            " |-- DepTimeBlk: string (nullable = true)\n",
            " |-- TaxiOut: double (nullable = true)\n",
            " |-- WheelsOff: double (nullable = true)\n",
            " |-- WheelsOn: double (nullable = true)\n",
            " |-- TaxiIn: double (nullable = true)\n",
            " |-- CRSArrTime: integer (nullable = true)\n",
            " |-- ArrDelay: double (nullable = true)\n",
            " |-- ArrDel15: double (nullable = true)\n",
            " |-- ArrivalDelayGroups: double (nullable = true)\n",
            " |-- ArrTimeBlk: string (nullable = true)\n",
            " |-- DistanceGroup: integer (nullable = true)\n",
            " |-- DivAirportLandings: integer (nullable = true)\n",
            "\n"
          ]
        }
      ]
    },
    {
      "cell_type": "markdown",
      "source": [
        "## Proceso de limpieza\n",
        "Se descarta, ya que desde el inicio se buscó ontener un dataset de calidad , como esto me refiero a que no existieran datos faltantes o\n",
        "nulos, y no existen registros duplicados, por mencionar algunas acciones que se tuvieran que aplicar"
      ],
      "metadata": {
        "id": "ZgAf-jdzEyTF"
      }
    },
    {
      "cell_type": "code",
      "source": [
        "# Limpieza de datos\n",
        "\n",
        "#Se eliminan columnas con valores nulos/faltantes\n",
        "df_clean = df.na.drop()"
      ],
      "metadata": {
        "id": "_RaKxufhSPcQ"
      },
      "execution_count": null,
      "outputs": []
    },
    {
      "cell_type": "code",
      "source": [
        "#Empaquetado de descriptores y generación de columna de vector con RFormula\n",
        "#haciendo uso de la variable de caracterización: Airline como objetivo de aprendizaje\n",
        "#Se generan nuevas columnas: feature  y label (columna de aprendizaje)\n",
        "from pyspark.ml.feature import RFormula\n",
        "rForm = RFormula(formula=\"Airline ~ .\")\n",
        "#Se hace uso del módulo fit para obtener el ensamble\n",
        "fittedRF = rForm.fit(df_clean)\n",
        "preparedDF_a = fittedRF.transform(df_clean)\n",
        "preparedDF_a.show(5)"
      ],
      "metadata": {
        "id": "vizNe-SWlSiu",
        "colab": {
          "base_uri": "https://localhost:8080/"
        },
        "outputId": "aa152920-4a4e-4b28-feaa-f0808cdf0be4"
      },
      "execution_count": null,
      "outputs": [
        {
          "output_type": "stream",
          "name": "stdout",
          "text": [
            "+----------+--------------------+------+----+---------+--------+----------+-------+---------------+--------+-------+---------------+-------+--------------+-----------------+--------+----+-------+-----+----------+---------+-------------------------+---------------------------------------+------------------------+---------------------------+-------------------------------+-----------------+------------------------+---------------------------+-----------+-------------------------------+---------------+------------------+------------------+--------------------+-----------+---------------+---------------+---------+-------------+----------------+----------------+-------------------+---------+-------------+-------------+-------+--------+--------------------+----------+-------+---------+--------+------+----------+--------+--------+------------------+----------+-------------+------------------+--------------------+-----+\n",
            "|FlightDate|             Airline|Origin|Dest|Cancelled|Diverted|CRSDepTime|DepTime|DepDelayMinutes|DepDelay|ArrTime|ArrDelayMinutes|AirTime|CRSElapsedTime|ActualElapsedTime|Distance|Year|Quarter|Month|DayofMonth|DayOfWeek|Marketing_Airline_Network|Operated_or_Branded_Code_Share_Partners|DOT_ID_Marketing_Airline|IATA_Code_Marketing_Airline|Flight_Number_Marketing_Airline|Operating_Airline|DOT_ID_Operating_Airline|IATA_Code_Operating_Airline|Tail_Number|Flight_Number_Operating_Airline|OriginAirportID|OriginAirportSeqID|OriginCityMarketID|      OriginCityName|OriginState|OriginStateFips|OriginStateName|OriginWac|DestAirportID|DestAirportSeqID|DestCityMarketID|       DestCityName|DestState|DestStateFips|DestStateName|DestWac|DepDel15|DepartureDelayGroups|DepTimeBlk|TaxiOut|WheelsOff|WheelsOn|TaxiIn|CRSArrTime|ArrDelay|ArrDel15|ArrivalDelayGroups|ArrTimeBlk|DistanceGroup|DivAirportLandings|            features|label|\n",
            "+----------+--------------------+------+----+---------+--------+----------+-------+---------------+--------+-------+---------------+-------+--------------+-----------------+--------+----+-------+-----+----------+---------+-------------------------+---------------------------------------+------------------------+---------------------------+-------------------------------+-----------------+------------------------+---------------------------+-----------+-------------------------------+---------------+------------------+------------------+--------------------+-----------+---------------+---------------+---------+-------------+----------------+----------------+-------------------+---------+-------------+-------------+-------+--------+--------------------+----------+-------+---------+--------+------+----------+--------+--------+------------------+----------+-------------+------------------+--------------------+-----+\n",
            "|2022-04-04|Commutair Aka Cha...|   GJT| DEN|    false|   false|      1133| 1123.0|            0.0|   -10.0| 1228.0|            0.0|   40.0|          72.0|             65.0|   212.0|2022|      2|    4|         4|        1|                       UA|                           UA_CODESHARE|                   19977|                         UA|                           4301|               C5|                   20445|                         C5|     N21144|                           4301|          11921|           1192102|             31921|  Grand Junction, CO|         CO|              8|       Colorado|       82|        11292|         1129202|           30325|         Denver, CO|       CO|            8|     Colorado|     82|     0.0|                -1.0| 1100-1159|   17.0|   1140.0|  1220.0|   8.0|      1245|   -17.0|     0.0|              -2.0| 1200-1259|            1|                 0|(3344,[1,204,237,...|  6.0|\n",
            "|2022-04-04|Commutair Aka Cha...|   HRL| IAH|    false|   false|       732|  728.0|            0.0|    -4.0|  848.0|            0.0|   55.0|          77.0|             80.0|   295.0|2022|      2|    4|         4|        1|                       UA|                           UA_CODESHARE|                   19977|                         UA|                           4299|               C5|                   20445|                         C5|     N16170|                           4299|          12206|           1220605|             32206|Harlingen/San Ben...|         TX|             48|          Texas|       74|        12266|         1226603|           31453|        Houston, TX|       TX|           48|        Texas|     74|     0.0|                -1.0| 0700-0759|   16.0|    744.0|   839.0|   9.0|       849|    -1.0|     0.0|              -1.0| 0800-0859|            2|                 0|(3344,[1,139,259,...|  6.0|\n",
            "|2022-04-04|Commutair Aka Cha...|   DRO| DEN|    false|   false|      1529| 1514.0|            0.0|   -15.0| 1636.0|            0.0|   47.0|          70.0|             82.0|   251.0|2022|      2|    4|         4|        1|                       UA|                           UA_CODESHARE|                   19977|                         UA|                           4298|               C5|                   20445|                         C5|     N21144|                           4298|          11413|           1141307|             30285|         Durango, CO|         CO|              8|       Colorado|       82|        11292|         1129202|           30325|         Denver, CO|       CO|            8|     Colorado|     82|     0.0|                -1.0| 1500-1559|   21.0|   1535.0|  1622.0|  14.0|      1639|    -3.0|     0.0|              -1.0| 1600-1659|            2|                 0|(3344,[1,172,237,...|  6.0|\n",
            "|2022-04-04|Commutair Aka Cha...|   IAH| GPT|    false|   false|      1435| 1430.0|            0.0|    -5.0| 1547.0|            0.0|   57.0|          90.0|             77.0|   376.0|2022|      2|    4|         4|        1|                       UA|                           UA_CODESHARE|                   19977|                         UA|                           4296|               C5|                   20445|                         C5|     N11184|                           4296|          12266|           1226603|             31453|         Houston, TX|         TX|             48|          Texas|       74|        11973|         1197302|           31973|Gulfport/Biloxi, MS|       MS|           28|  Mississippi|     53|     0.0|                -1.0| 1400-1459|   16.0|   1446.0|  1543.0|   4.0|      1605|   -18.0|     0.0|              -2.0| 1600-1659|            2|                 0|(3344,[1,52,401,4...|  6.0|\n",
            "|2022-04-04|Commutair Aka Cha...|   DRO| DEN|    false|   false|      1135| 1135.0|            0.0|     0.0| 1251.0|            6.0|   49.0|          70.0|             76.0|   251.0|2022|      2|    4|         4|        1|                       UA|                           UA_CODESHARE|                   19977|                         UA|                           4295|               C5|                   20445|                         C5|     N17146|                           4295|          11413|           1141307|             30285|         Durango, CO|         CO|              8|       Colorado|       82|        11292|         1129202|           30325|         Denver, CO|       CO|            8|     Colorado|     82|     0.0|                 0.0| 1100-1159|   19.0|   1154.0|  1243.0|   8.0|      1245|     6.0|     0.0|               0.0| 1200-1259|            2|                 0|(3344,[1,172,237,...|  6.0|\n",
            "+----------+--------------------+------+----+---------+--------+----------+-------+---------------+--------+-------+---------------+-------+--------------+-----------------+--------+----+-------+-----+----------+---------+-------------------------+---------------------------------------+------------------------+---------------------------+-------------------------------+-----------------+------------------------+---------------------------+-----------+-------------------------------+---------------+------------------+------------------+--------------------+-----------+---------------+---------------+---------+-------------+----------------+----------------+-------------------+---------+-------------+-------------+-------+--------+--------------------+----------+-------+---------+--------+------+----------+--------+--------+------------------+----------+-------------+------------------+--------------------+-----+\n",
            "only showing top 5 rows\n",
            "\n"
          ]
        }
      ]
    },
    {
      "cell_type": "code",
      "source": [
        "#Se visualiza plan de transformación\n",
        "preparedDF_a.explain()"
      ],
      "metadata": {
        "id": "3sZHaggWoDRY",
        "colab": {
          "base_uri": "https://localhost:8080/"
        },
        "outputId": "6e8f86c5-a42b-4c23-e3df-71254c63f79e"
      },
      "execution_count": null,
      "outputs": [
        {
          "output_type": "stream",
          "name": "stdout",
          "text": [
            "== Physical Plan ==\n",
            "*(1) Project [FlightDate#16, Airline#17, Origin#18, Dest#19, Cancelled#20, Diverted#21, CRSDepTime#22, DepTime#23, DepDelayMinutes#24, DepDelay#25, ArrTime#26, ArrDelayMinutes#27, AirTime#28, CRSElapsedTime#29, ActualElapsedTime#30, Distance#31, Year#32, Quarter#33, Month#34, DayofMonth#35, DayOfWeek#36, Marketing_Airline_Network#37, Operated_or_Branded_Code_Share_Partners#38, DOT_ID_Marketing_Airline#39, ... 39 more fields]\n",
            "+- *(1) Project [FlightDate#16, Airline#17, Origin#18, Dest#19, Cancelled#20, Diverted#21, CRSDepTime#22, DepTime#23, DepDelayMinutes#24, DepDelay#25, ArrTime#26, ArrDelayMinutes#27, AirTime#28, CRSElapsedTime#29, ActualElapsedTime#30, Distance#31, Year#32, Quarter#33, Month#34, DayofMonth#35, DayOfWeek#36, Marketing_Airline_Network#37, Operated_or_Branded_Code_Share_Partners#38, DOT_ID_Marketing_Airline#39, ... 38 more fields]\n",
            "   +- *(1) Project [FlightDate#16, Airline#17, Origin#18, Dest#19, Cancelled#20, Diverted#21, CRSDepTime#22, DepTime#23, DepDelayMinutes#24, DepDelay#25, ArrTime#26, ArrDelayMinutes#27, AirTime#28, CRSElapsedTime#29, ActualElapsedTime#30, Distance#31, Year#32, Quarter#33, Month#34, DayofMonth#35, DayOfWeek#36, Marketing_Airline_Network#37, Operated_or_Branded_Code_Share_Partners#38, DOT_ID_Marketing_Airline#39, ... 54 more fields]\n",
            "      +- *(1) Project [FlightDate#16, Airline#17, Origin#18, Dest#19, Cancelled#20, Diverted#21, CRSDepTime#22, DepTime#23, DepDelayMinutes#24, DepDelay#25, ArrTime#26, ArrDelayMinutes#27, AirTime#28, CRSElapsedTime#29, ActualElapsedTime#30, Distance#31, Year#32, Quarter#33, Month#34, DayofMonth#35, DayOfWeek#36, Marketing_Airline_Network#37, Operated_or_Branded_Code_Share_Partners#38, DOT_ID_Marketing_Airline#39, ... 53 more fields]\n",
            "         +- *(1) Project [FlightDate#16, Airline#17, Origin#18, Dest#19, Cancelled#20, Diverted#21, CRSDepTime#22, DepTime#23, DepDelayMinutes#24, DepDelay#25, ArrTime#26, ArrDelayMinutes#27, AirTime#28, CRSElapsedTime#29, ActualElapsedTime#30, Distance#31, Year#32, Quarter#33, Month#34, DayofMonth#35, DayOfWeek#36, Marketing_Airline_Network#37, Operated_or_Branded_Code_Share_Partners#38, DOT_ID_Marketing_Airline#39, ... 52 more fields]\n",
            "            +- *(1) Project [FlightDate#16, Airline#17, Origin#18, Dest#19, Cancelled#20, Diverted#21, CRSDepTime#22, DepTime#23, DepDelayMinutes#24, DepDelay#25, ArrTime#26, ArrDelayMinutes#27, AirTime#28, CRSElapsedTime#29, ActualElapsedTime#30, Distance#31, Year#32, Quarter#33, Month#34, DayofMonth#35, DayOfWeek#36, Marketing_Airline_Network#37, Operated_or_Branded_Code_Share_Partners#38, DOT_ID_Marketing_Airline#39, ... 51 more fields]\n",
            "               +- *(1) Project [FlightDate#16, Airline#17, Origin#18, Dest#19, Cancelled#20, Diverted#21, CRSDepTime#22, DepTime#23, DepDelayMinutes#24, DepDelay#25, ArrTime#26, ArrDelayMinutes#27, AirTime#28, CRSElapsedTime#29, ActualElapsedTime#30, Distance#31, Year#32, Quarter#33, Month#34, DayofMonth#35, DayOfWeek#36, Marketing_Airline_Network#37, Operated_or_Branded_Code_Share_Partners#38, DOT_ID_Marketing_Airline#39, ... 50 more fields]\n",
            "                  +- *(1) Project [FlightDate#16, Airline#17, Origin#18, Dest#19, Cancelled#20, Diverted#21, CRSDepTime#22, DepTime#23, DepDelayMinutes#24, DepDelay#25, ArrTime#26, ArrDelayMinutes#27, AirTime#28, CRSElapsedTime#29, ActualElapsedTime#30, Distance#31, Year#32, Quarter#33, Month#34, DayofMonth#35, DayOfWeek#36, Marketing_Airline_Network#37, Operated_or_Branded_Code_Share_Partners#38, DOT_ID_Marketing_Airline#39, ... 49 more fields]\n",
            "                     +- *(1) Project [FlightDate#16, Airline#17, Origin#18, Dest#19, Cancelled#20, Diverted#21, CRSDepTime#22, DepTime#23, DepDelayMinutes#24, DepDelay#25, ArrTime#26, ArrDelayMinutes#27, AirTime#28, CRSElapsedTime#29, ActualElapsedTime#30, Distance#31, Year#32, Quarter#33, Month#34, DayofMonth#35, DayOfWeek#36, Marketing_Airline_Network#37, Operated_or_Branded_Code_Share_Partners#38, DOT_ID_Marketing_Airline#39, ... 48 more fields]\n",
            "                        +- *(1) Project [FlightDate#16, Airline#17, Origin#18, Dest#19, Cancelled#20, Diverted#21, CRSDepTime#22, DepTime#23, DepDelayMinutes#24, DepDelay#25, ArrTime#26, ArrDelayMinutes#27, AirTime#28, CRSElapsedTime#29, ActualElapsedTime#30, Distance#31, Year#32, Quarter#33, Month#34, DayofMonth#35, DayOfWeek#36, Marketing_Airline_Network#37, Operated_or_Branded_Code_Share_Partners#38, DOT_ID_Marketing_Airline#39, ... 47 more fields]\n",
            "                           +- *(1) Project [FlightDate#16, Airline#17, Origin#18, Dest#19, Cancelled#20, Diverted#21, CRSDepTime#22, DepTime#23, DepDelayMinutes#24, DepDelay#25, ArrTime#26, ArrDelayMinutes#27, AirTime#28, CRSElapsedTime#29, ActualElapsedTime#30, Distance#31, Year#32, Quarter#33, Month#34, DayofMonth#35, DayOfWeek#36, Marketing_Airline_Network#37, Operated_or_Branded_Code_Share_Partners#38, DOT_ID_Marketing_Airline#39, ... 46 more fields]\n",
            "                              +- *(1) Project [FlightDate#16, Airline#17, Origin#18, Dest#19, Cancelled#20, Diverted#21, CRSDepTime#22, DepTime#23, DepDelayMinutes#24, DepDelay#25, ArrTime#26, ArrDelayMinutes#27, AirTime#28, CRSElapsedTime#29, ActualElapsedTime#30, Distance#31, Year#32, Quarter#33, Month#34, DayofMonth#35, DayOfWeek#36, Marketing_Airline_Network#37, Operated_or_Branded_Code_Share_Partners#38, DOT_ID_Marketing_Airline#39, ... 45 more fields]\n",
            "                                 +- *(1) Project [FlightDate#16, Airline#17, Origin#18, Dest#19, Cancelled#20, Diverted#21, CRSDepTime#22, DepTime#23, DepDelayMinutes#24, DepDelay#25, ArrTime#26, ArrDelayMinutes#27, AirTime#28, CRSElapsedTime#29, ActualElapsedTime#30, Distance#31, Year#32, Quarter#33, Month#34, DayofMonth#35, DayOfWeek#36, Marketing_Airline_Network#37, Operated_or_Branded_Code_Share_Partners#38, DOT_ID_Marketing_Airline#39, ... 44 more fields]\n",
            "                                    +- *(1) Project [FlightDate#16, Airline#17, Origin#18, Dest#19, Cancelled#20, Diverted#21, CRSDepTime#22, DepTime#23, DepDelayMinutes#24, DepDelay#25, ArrTime#26, ArrDelayMinutes#27, AirTime#28, CRSElapsedTime#29, ActualElapsedTime#30, Distance#31, Year#32, Quarter#33, Month#34, DayofMonth#35, DayOfWeek#36, Marketing_Airline_Network#37, Operated_or_Branded_Code_Share_Partners#38, DOT_ID_Marketing_Airline#39, ... 43 more fields]\n",
            "                                       +- *(1) Project [FlightDate#16, Airline#17, Origin#18, Dest#19, Cancelled#20, Diverted#21, CRSDepTime#22, DepTime#23, DepDelayMinutes#24, DepDelay#25, ArrTime#26, ArrDelayMinutes#27, AirTime#28, CRSElapsedTime#29, ActualElapsedTime#30, Distance#31, Year#32, Quarter#33, Month#34, DayofMonth#35, DayOfWeek#36, Marketing_Airline_Network#37, Operated_or_Branded_Code_Share_Partners#38, DOT_ID_Marketing_Airline#39, ... 42 more fields]\n",
            "                                          +- *(1) Project [FlightDate#16, Airline#17, Origin#18, Dest#19, Cancelled#20, Diverted#21, CRSDepTime#22, DepTime#23, DepDelayMinutes#24, DepDelay#25, ArrTime#26, ArrDelayMinutes#27, AirTime#28, CRSElapsedTime#29, ActualElapsedTime#30, Distance#31, Year#32, Quarter#33, Month#34, DayofMonth#35, DayOfWeek#36, Marketing_Airline_Network#37, Operated_or_Branded_Code_Share_Partners#38, DOT_ID_Marketing_Airline#39, ... 41 more fields]\n",
            "                                             +- *(1) Project [FlightDate#16, Airline#17, Origin#18, Dest#19, Cancelled#20, Diverted#21, CRSDepTime#22, DepTime#23, DepDelayMinutes#24, DepDelay#25, ArrTime#26, ArrDelayMinutes#27, AirTime#28, CRSElapsedTime#29, ActualElapsedTime#30, Distance#31, Year#32, Quarter#33, Month#34, DayofMonth#35, DayOfWeek#36, Marketing_Airline_Network#37, Operated_or_Branded_Code_Share_Partners#38, DOT_ID_Marketing_Airline#39, ... 40 more fields]\n",
            "                                                +- *(1) Project [FlightDate#16, Airline#17, Origin#18, Dest#19, Cancelled#20, Diverted#21, CRSDepTime#22, DepTime#23, DepDelayMinutes#24, DepDelay#25, ArrTime#26, ArrDelayMinutes#27, AirTime#28, CRSElapsedTime#29, ActualElapsedTime#30, Distance#31, Year#32, Quarter#33, Month#34, DayofMonth#35, DayOfWeek#36, Marketing_Airline_Network#37, Operated_or_Branded_Code_Share_Partners#38, DOT_ID_Marketing_Airline#39, ... 39 more fields]\n",
            "                                                   +- *(1) Project [FlightDate#16, Airline#17, Origin#18, Dest#19, Cancelled#20, Diverted#21, CRSDepTime#22, DepTime#23, DepDelayMinutes#24, DepDelay#25, ArrTime#26, ArrDelayMinutes#27, AirTime#28, CRSElapsedTime#29, ActualElapsedTime#30, Distance#31, Year#32, Quarter#33, Month#34, DayofMonth#35, DayOfWeek#36, Marketing_Airline_Network#37, Operated_or_Branded_Code_Share_Partners#38, DOT_ID_Marketing_Airline#39, ... 38 more fields]\n",
            "                                                      +- *(1) Filter AtLeastNNulls(n, FlightDate#16,Airline#17,Origin#18,Dest#19,Cancelled#20,Diverted#21,CRSDepTime#22,DepTime#23,DepDelayMinutes#24,DepDelay#25,ArrTime#26,ArrDelayMinutes#27,AirTime#28,CRSElapsedTime#29,ActualElapsedTime#30,Distance#31,Year#32,Quarter#33,Month#34,DayofMonth#35,DayOfWeek#36,Marketing_Airline_Network#37,Operated_or_Branded_Code_Share_Partners#38,DOT_ID_Marketing_Airline#39,IATA_Code_Marketing_Airline#40,Flight_Number_Marketing_Airline#41,Operating_Airline#42,DOT_ID_Operating_Airline#43,IATA_Code_Operating_Airline#44,Tail_Number#45,Flight_Number_Operating_Airline#46,OriginAirportID#47,OriginAirportSeqID#48,OriginCityMarketID#49,OriginCityName#50,OriginState#51,OriginStateFips#52,OriginStateName#53,OriginWac#54,DestAirportID#55,DestAirportSeqID#56,DestCityMarketID#57,DestCityName#58,DestState#59,DestStateFips#60,DestStateName#61,DestWac#62,DepDel15#63,DepartureDelayGroups#64,DepTimeBlk#65,TaxiOut#66,WheelsOff#67,WheelsOn#68,TaxiIn#69,CRSArrTime#70,ArrDelay#71,ArrDel15#72,ArrivalDelayGroups#73,ArrTimeBlk#74,DistanceGroup#75,DivAirportLandings#76)\n",
            "                                                         +- FileScan csv [FlightDate#16,Airline#17,Origin#18,Dest#19,Cancelled#20,Diverted#21,CRSDepTime#22,DepTime#23,DepDelayMinutes#24,DepDelay#25,ArrTime#26,ArrDelayMinutes#27,AirTime#28,CRSElapsedTime#29,ActualElapsedTime#30,Distance#31,Year#32,Quarter#33,Month#34,DayofMonth#35,DayOfWeek#36,Marketing_Airline_Network#37,Operated_or_Branded_Code_Share_Partners#38,DOT_ID_Marketing_Airline#39,... 37 more fields] Batched: false, DataFilters: [AtLeastNNulls(n, FlightDate#16,Airline#17,Origin#18,Dest#19,Cancelled#20,Diverted#21,CRSDepTime#..., Format: CSV, Location: InMemoryFileIndex[file:/content/sample_data/Combined_Flights_2022.csv], PartitionFilters: [], PushedFilters: [], ReadSchema: struct<FlightDate:string,Airline:string,Origin:string,Dest:string,Cancelled:boolean,Diverted:bool...\n",
            "\n",
            "\n"
          ]
        }
      ]
    },
    {
      "cell_type": "code",
      "source": [
        "#Se genera muestra representativa de la población bajo el muestreo estratificado\n",
        "# Se añade una nueva columna:stratum que combina los valores de concatenación de las variables de caracterización: Airline y DepDel15\n",
        "from pyspark.sql.functions import concat, lit\n",
        "preparedDF_a_stratum = preparedDF_a.withColumn(\"stratum\", concat(preparedDF_a[\"Airline\"], lit(\"_\"), preparedDF_a[\"DepDel15\"]))\n",
        "preparedDF_a_stratum.show(5)"
      ],
      "metadata": {
        "id": "VwDMLhadgz0C",
        "colab": {
          "base_uri": "https://localhost:8080/"
        },
        "outputId": "a62937fc-a196-4dd8-f1e9-584a84278d2c"
      },
      "execution_count": null,
      "outputs": [
        {
          "output_type": "stream",
          "name": "stdout",
          "text": [
            "+----------+--------------------+------+----+---------+--------+----------+-------+---------------+--------+-------+---------------+-------+--------------+-----------------+--------+----+-------+-----+----------+---------+-------------------------+---------------------------------------+------------------------+---------------------------+-------------------------------+-----------------+------------------------+---------------------------+-----------+-------------------------------+---------------+------------------+------------------+--------------------+-----------+---------------+---------------+---------+-------------+----------------+----------------+-------------------+---------+-------------+-------------+-------+--------+--------------------+----------+-------+---------+--------+------+----------+--------+--------+------------------+----------+-------------+------------------+--------------------+-----+--------------------+\n",
            "|FlightDate|             Airline|Origin|Dest|Cancelled|Diverted|CRSDepTime|DepTime|DepDelayMinutes|DepDelay|ArrTime|ArrDelayMinutes|AirTime|CRSElapsedTime|ActualElapsedTime|Distance|Year|Quarter|Month|DayofMonth|DayOfWeek|Marketing_Airline_Network|Operated_or_Branded_Code_Share_Partners|DOT_ID_Marketing_Airline|IATA_Code_Marketing_Airline|Flight_Number_Marketing_Airline|Operating_Airline|DOT_ID_Operating_Airline|IATA_Code_Operating_Airline|Tail_Number|Flight_Number_Operating_Airline|OriginAirportID|OriginAirportSeqID|OriginCityMarketID|      OriginCityName|OriginState|OriginStateFips|OriginStateName|OriginWac|DestAirportID|DestAirportSeqID|DestCityMarketID|       DestCityName|DestState|DestStateFips|DestStateName|DestWac|DepDel15|DepartureDelayGroups|DepTimeBlk|TaxiOut|WheelsOff|WheelsOn|TaxiIn|CRSArrTime|ArrDelay|ArrDel15|ArrivalDelayGroups|ArrTimeBlk|DistanceGroup|DivAirportLandings|            features|label|             stratum|\n",
            "+----------+--------------------+------+----+---------+--------+----------+-------+---------------+--------+-------+---------------+-------+--------------+-----------------+--------+----+-------+-----+----------+---------+-------------------------+---------------------------------------+------------------------+---------------------------+-------------------------------+-----------------+------------------------+---------------------------+-----------+-------------------------------+---------------+------------------+------------------+--------------------+-----------+---------------+---------------+---------+-------------+----------------+----------------+-------------------+---------+-------------+-------------+-------+--------+--------------------+----------+-------+---------+--------+------+----------+--------+--------+------------------+----------+-------------+------------------+--------------------+-----+--------------------+\n",
            "|2022-04-04|Commutair Aka Cha...|   GJT| DEN|    false|   false|      1133| 1123.0|            0.0|   -10.0| 1228.0|            0.0|   40.0|          72.0|             65.0|   212.0|2022|      2|    4|         4|        1|                       UA|                           UA_CODESHARE|                   19977|                         UA|                           4301|               C5|                   20445|                         C5|     N21144|                           4301|          11921|           1192102|             31921|  Grand Junction, CO|         CO|              8|       Colorado|       82|        11292|         1129202|           30325|         Denver, CO|       CO|            8|     Colorado|     82|     0.0|                -1.0| 1100-1159|   17.0|   1140.0|  1220.0|   8.0|      1245|   -17.0|     0.0|              -2.0| 1200-1259|            1|                 0|(3344,[1,204,237,...|  6.0|Commutair Aka Cha...|\n",
            "|2022-04-04|Commutair Aka Cha...|   HRL| IAH|    false|   false|       732|  728.0|            0.0|    -4.0|  848.0|            0.0|   55.0|          77.0|             80.0|   295.0|2022|      2|    4|         4|        1|                       UA|                           UA_CODESHARE|                   19977|                         UA|                           4299|               C5|                   20445|                         C5|     N16170|                           4299|          12206|           1220605|             32206|Harlingen/San Ben...|         TX|             48|          Texas|       74|        12266|         1226603|           31453|        Houston, TX|       TX|           48|        Texas|     74|     0.0|                -1.0| 0700-0759|   16.0|    744.0|   839.0|   9.0|       849|    -1.0|     0.0|              -1.0| 0800-0859|            2|                 0|(3344,[1,139,259,...|  6.0|Commutair Aka Cha...|\n",
            "|2022-04-04|Commutair Aka Cha...|   DRO| DEN|    false|   false|      1529| 1514.0|            0.0|   -15.0| 1636.0|            0.0|   47.0|          70.0|             82.0|   251.0|2022|      2|    4|         4|        1|                       UA|                           UA_CODESHARE|                   19977|                         UA|                           4298|               C5|                   20445|                         C5|     N21144|                           4298|          11413|           1141307|             30285|         Durango, CO|         CO|              8|       Colorado|       82|        11292|         1129202|           30325|         Denver, CO|       CO|            8|     Colorado|     82|     0.0|                -1.0| 1500-1559|   21.0|   1535.0|  1622.0|  14.0|      1639|    -3.0|     0.0|              -1.0| 1600-1659|            2|                 0|(3344,[1,172,237,...|  6.0|Commutair Aka Cha...|\n",
            "|2022-04-04|Commutair Aka Cha...|   IAH| GPT|    false|   false|      1435| 1430.0|            0.0|    -5.0| 1547.0|            0.0|   57.0|          90.0|             77.0|   376.0|2022|      2|    4|         4|        1|                       UA|                           UA_CODESHARE|                   19977|                         UA|                           4296|               C5|                   20445|                         C5|     N11184|                           4296|          12266|           1226603|             31453|         Houston, TX|         TX|             48|          Texas|       74|        11973|         1197302|           31973|Gulfport/Biloxi, MS|       MS|           28|  Mississippi|     53|     0.0|                -1.0| 1400-1459|   16.0|   1446.0|  1543.0|   4.0|      1605|   -18.0|     0.0|              -2.0| 1600-1659|            2|                 0|(3344,[1,52,401,4...|  6.0|Commutair Aka Cha...|\n",
            "|2022-04-04|Commutair Aka Cha...|   DRO| DEN|    false|   false|      1135| 1135.0|            0.0|     0.0| 1251.0|            6.0|   49.0|          70.0|             76.0|   251.0|2022|      2|    4|         4|        1|                       UA|                           UA_CODESHARE|                   19977|                         UA|                           4295|               C5|                   20445|                         C5|     N17146|                           4295|          11413|           1141307|             30285|         Durango, CO|         CO|              8|       Colorado|       82|        11292|         1129202|           30325|         Denver, CO|       CO|            8|     Colorado|     82|     0.0|                 0.0| 1100-1159|   19.0|   1154.0|  1243.0|   8.0|      1245|     6.0|     0.0|               0.0| 1200-1259|            2|                 0|(3344,[1,172,237,...|  6.0|Commutair Aka Cha...|\n",
            "+----------+--------------------+------+----+---------+--------+----------+-------+---------------+--------+-------+---------------+-------+--------------+-----------------+--------+----+-------+-----+----------+---------+-------------------------+---------------------------------------+------------------------+---------------------------+-------------------------------+-----------------+------------------------+---------------------------+-----------+-------------------------------+---------------+------------------+------------------+--------------------+-----------+---------------+---------------+---------+-------------+----------------+----------------+-------------------+---------+-------------+-------------+-------+--------+--------------------+----------+-------+---------+--------+------+----------+--------+--------+------------------+----------+-------------+------------------+--------------------+-----+--------------------+\n",
            "only showing top 5 rows\n",
            "\n"
          ]
        }
      ]
    },
    {
      "cell_type": "code",
      "source": [
        "#Se imprime esquema para visualizar la nueva columna y el tipo de dato\n",
        "preparedDF_a_stratum.printSchema()"
      ],
      "metadata": {
        "id": "PIY0phhOh6Sj",
        "colab": {
          "base_uri": "https://localhost:8080/"
        },
        "outputId": "a69bf8be-b473-4af7-8de4-8eba44d6c3d1"
      },
      "execution_count": null,
      "outputs": [
        {
          "output_type": "stream",
          "name": "stdout",
          "text": [
            "root\n",
            " |-- FlightDate: string (nullable = true)\n",
            " |-- Airline: string (nullable = true)\n",
            " |-- Origin: string (nullable = true)\n",
            " |-- Dest: string (nullable = true)\n",
            " |-- Cancelled: boolean (nullable = true)\n",
            " |-- Diverted: boolean (nullable = true)\n",
            " |-- CRSDepTime: integer (nullable = true)\n",
            " |-- DepTime: double (nullable = true)\n",
            " |-- DepDelayMinutes: double (nullable = true)\n",
            " |-- DepDelay: double (nullable = true)\n",
            " |-- ArrTime: double (nullable = true)\n",
            " |-- ArrDelayMinutes: double (nullable = true)\n",
            " |-- AirTime: double (nullable = true)\n",
            " |-- CRSElapsedTime: double (nullable = true)\n",
            " |-- ActualElapsedTime: double (nullable = true)\n",
            " |-- Distance: double (nullable = true)\n",
            " |-- Year: integer (nullable = true)\n",
            " |-- Quarter: integer (nullable = true)\n",
            " |-- Month: integer (nullable = true)\n",
            " |-- DayofMonth: integer (nullable = true)\n",
            " |-- DayOfWeek: integer (nullable = true)\n",
            " |-- Marketing_Airline_Network: string (nullable = true)\n",
            " |-- Operated_or_Branded_Code_Share_Partners: string (nullable = true)\n",
            " |-- DOT_ID_Marketing_Airline: integer (nullable = true)\n",
            " |-- IATA_Code_Marketing_Airline: string (nullable = true)\n",
            " |-- Flight_Number_Marketing_Airline: integer (nullable = true)\n",
            " |-- Operating_Airline: string (nullable = true)\n",
            " |-- DOT_ID_Operating_Airline: integer (nullable = true)\n",
            " |-- IATA_Code_Operating_Airline: string (nullable = true)\n",
            " |-- Tail_Number: string (nullable = true)\n",
            " |-- Flight_Number_Operating_Airline: integer (nullable = true)\n",
            " |-- OriginAirportID: integer (nullable = true)\n",
            " |-- OriginAirportSeqID: integer (nullable = true)\n",
            " |-- OriginCityMarketID: integer (nullable = true)\n",
            " |-- OriginCityName: string (nullable = true)\n",
            " |-- OriginState: string (nullable = true)\n",
            " |-- OriginStateFips: integer (nullable = true)\n",
            " |-- OriginStateName: string (nullable = true)\n",
            " |-- OriginWac: integer (nullable = true)\n",
            " |-- DestAirportID: integer (nullable = true)\n",
            " |-- DestAirportSeqID: integer (nullable = true)\n",
            " |-- DestCityMarketID: integer (nullable = true)\n",
            " |-- DestCityName: string (nullable = true)\n",
            " |-- DestState: string (nullable = true)\n",
            " |-- DestStateFips: integer (nullable = true)\n",
            " |-- DestStateName: string (nullable = true)\n",
            " |-- DestWac: integer (nullable = true)\n",
            " |-- DepDel15: double (nullable = true)\n",
            " |-- DepartureDelayGroups: double (nullable = true)\n",
            " |-- DepTimeBlk: string (nullable = true)\n",
            " |-- TaxiOut: double (nullable = true)\n",
            " |-- WheelsOff: double (nullable = true)\n",
            " |-- WheelsOn: double (nullable = true)\n",
            " |-- TaxiIn: double (nullable = true)\n",
            " |-- CRSArrTime: integer (nullable = true)\n",
            " |-- ArrDelay: double (nullable = true)\n",
            " |-- ArrDel15: double (nullable = true)\n",
            " |-- ArrivalDelayGroups: double (nullable = true)\n",
            " |-- ArrTimeBlk: string (nullable = true)\n",
            " |-- DistanceGroup: integer (nullable = true)\n",
            " |-- DivAirportLandings: integer (nullable = true)\n",
            " |-- features: vector (nullable = true)\n",
            " |-- label: double (nullable = false)\n",
            " |-- stratum: string (nullable = true)\n",
            "\n"
          ]
        }
      ]
    },
    {
      "cell_type": "code",
      "source": [
        "# Se calcula la cantidad de instancias por cada valor diferente de las variables Airline, DepDel15 y combinada\n",
        "stratum_counts_airline = preparedDF_a_stratum.groupBy(\"Airline\").count().collect()\n",
        "stratum_counts_depDel15 = preparedDF_a_stratum.groupBy(\"DepDel15\").count().collect()\n",
        "stratum_counts_combined_a = preparedDF_a_stratum.groupBy(\"Airline\", \"DepDel15\").count().collect()\n",
        "stratum_counts_combined = preparedDF_a_stratum.groupBy(\"stratum\").count().collect()\n",
        "\n",
        "print(stratum_counts_airline)\n",
        "print(stratum_counts_depDel15)\n",
        "print(stratum_counts_combined_a)\n",
        "print(stratum_counts_combined)"
      ],
      "metadata": {
        "id": "1iT0E5KOiH9z",
        "colab": {
          "base_uri": "https://localhost:8080/"
        },
        "outputId": "74ec1a96-1b06-4e5f-97a5-cfa36289fd03"
      },
      "execution_count": null,
      "outputs": [
        {
          "output_type": "stream",
          "name": "stdout",
          "text": [
            "[Row(Airline='GoJet Airlines, LLC d/b/a United Express', count=394), Row(Airline='Endeavor Air Inc.', count=19999), Row(Airline='Air Wisconsin Airlines Corp', count=774), Row(Airline='Southwest Airlines Co.', count=100763), Row(Airline='Commutair Aka Champlain Enterprises, Inc.', count=642), Row(Airline='Mesa Airlines Inc.', count=10235), Row(Airline='American Airlines Inc.', count=24443), Row(Airline='Republic Airlines', count=29264)]\n",
            "[Row(DepDel15=0.0, count=139889), Row(DepDel15=1.0, count=46625)]\n",
            "[Row(Airline='GoJet Airlines, LLC d/b/a United Express', DepDel15=0.0, count=298), Row(Airline='Republic Airlines', DepDel15=0.0, count=24443), Row(Airline='Commutair Aka Champlain Enterprises, Inc.', DepDel15=0.0, count=513), Row(Airline='Southwest Airlines Co.', DepDel15=1.0, count=32816), Row(Airline='Air Wisconsin Airlines Corp', DepDel15=1.0, count=70), Row(Airline='Mesa Airlines Inc.', DepDel15=1.0, count=1432), Row(Airline='Southwest Airlines Co.', DepDel15=0.0, count=67947), Row(Airline='Air Wisconsin Airlines Corp', DepDel15=0.0, count=704), Row(Airline='GoJet Airlines, LLC d/b/a United Express', DepDel15=1.0, count=96), Row(Airline='Republic Airlines', DepDel15=1.0, count=4821), Row(Airline='Endeavor Air Inc.', DepDel15=1.0, count=2460), Row(Airline='American Airlines Inc.', DepDel15=1.0, count=4801), Row(Airline='American Airlines Inc.', DepDel15=0.0, count=19642), Row(Airline='Mesa Airlines Inc.', DepDel15=0.0, count=8803), Row(Airline='Endeavor Air Inc.', DepDel15=0.0, count=17539), Row(Airline='Commutair Aka Champlain Enterprises, Inc.', DepDel15=1.0, count=129)]\n",
            "[Row(stratum='Southwest Airlines Co._1.0', count=32816), Row(stratum='Mesa Airlines Inc._1.0', count=1432), Row(stratum='American Airlines Inc._1.0', count=4801), Row(stratum='American Airlines Inc._0.0', count=19642), Row(stratum='Southwest Airlines Co._0.0', count=67947), Row(stratum='Air Wisconsin Airlines Corp_1.0', count=70), Row(stratum='Commutair Aka Champlain Enterprises, Inc._0.0', count=513), Row(stratum='Republic Airlines_0.0', count=24443), Row(stratum='Air Wisconsin Airlines Corp_0.0', count=704), Row(stratum='Endeavor Air Inc._1.0', count=2460), Row(stratum='Republic Airlines_1.0', count=4821), Row(stratum='Endeavor Air Inc._0.0', count=17539), Row(stratum='Mesa Airlines Inc._0.0', count=8803), Row(stratum='GoJet Airlines, LLC d/b/a United Express_1.0', count=96), Row(stratum='GoJet Airlines, LLC d/b/a United Express_0.0', count=298), Row(stratum='Commutair Aka Champlain Enterprises, Inc._1.0', count=129)]\n"
          ]
        }
      ]
    },
    {
      "cell_type": "code",
      "source": [
        "# Se calcula la probabilidad del conjunto: test de cada bin de acuerdo al porcentaje de division a usar (70 - 30)\n",
        "total_count = preparedDF_a_stratum.count()\n",
        "# Se calcula la fracción del test\n",
        "stratum_fractions = {row[\"stratum\"]: 0.3 * (row[\"count\"] / total_count)\n",
        "                     for row in startum_count_clean}\n",
        "print(stratum_fractions)"
      ],
      "metadata": {
        "id": "ROm9nEv_iXxz",
        "colab": {
          "base_uri": "https://localhost:8080/"
        },
        "outputId": "e3768e69-3f9d-4b5f-ad8b-9c6186618cfc"
      },
      "execution_count": null,
      "outputs": [
        {
          "output_type": "stream",
          "name": "stdout",
          "text": [
            "{'Southwest Airlines Co._1.0': 0.05278316909186442, 'Mesa Airlines Inc._1.0': 0.0023033123518877937, 'American Airlines Inc._1.0': 0.0077222085205400125, 'American Airlines Inc._0.0': 0.03159333883783522, 'Southwest Airlines Co._0.0': 0.10928991925539101, 'Air Wisconsin Airlines Corp_1.0': 0.00011259208424032512, 'Commutair Aka Champlain Enterprises, Inc._0.0': 0.000825139131646954, 'Republic Airlines_0.0': 0.03931554735837524, 'Air Wisconsin Airlines Corp_0.0': 0.0011323546757884128, 'Endeavor Air Inc._1.0': 0.003956807531874283, 'Republic Airlines_1.0': 0.00775437768746582, 'Endeavor Air Inc._0.0': 0.0282107509355866, 'Mesa Airlines Inc._0.0': 0.014159258822394029, 'GoJet Airlines, LLC d/b/a United Express_1.0': 0.00015441200124387445, 'GoJet Airlines, LLC d/b/a United Express_0.0': 0.00047932058719452693, 'Commutair Aka Champlain Enterprises, Inc._1.0': 0.0002074911266714563}\n"
          ]
        }
      ]
    },
    {
      "cell_type": "markdown",
      "source": [
        "### 2. Construcción del conjunto de entrenamiento y prueba."
      ],
      "metadata": {
        "id": "8b59RQ8niume"
      }
    },
    {
      "cell_type": "code",
      "source": [
        "# Se generan los conjuntos a partir de muestreo estratificado\n",
        "test_data_stratum = preparedDF_a_stratum.sampleBy(\"stratum\", fractions=stratum_fractions, seed=42)\n",
        "train_data_stratum = preparedDF_a_stratum.exceptAll(test_data_stratum)\n",
        "\n",
        "print(f\"\"\"Existen {train_data_stratum.count()} instancias en el conjunto train, y {test_data_stratum.count()} en el conjunto test\"\"\")\n",
        "\n",
        "train_data_stratum.show(5)\n",
        "test_data_stratum.show(5)"
      ],
      "metadata": {
        "id": "f9O-oI-_iqb3",
        "colab": {
          "base_uri": "https://localhost:8080/"
        },
        "outputId": "edf5ea79-8105-4c20-a74a-fc277eff2b37"
      },
      "execution_count": null,
      "outputs": [
        {
          "output_type": "stream",
          "name": "stdout",
          "text": [
            "Existen 175186 instancias en el conjunto train, y 11328 en el conjunto test\n",
            "+----------+--------------------+------+----+---------+--------+----------+-------+---------------+--------+-------+---------------+-------+--------------+-----------------+--------+----+-------+-----+----------+---------+-------------------------+---------------------------------------+------------------------+---------------------------+-------------------------------+-----------------+------------------------+---------------------------+-----------+-------------------------------+---------------+------------------+------------------+----------------+-----------+---------------+---------------+---------+-------------+----------------+----------------+--------------+---------+-------------+-------------+-------+--------+--------------------+----------+-------+---------+--------+------+----------+--------+--------+------------------+----------+-------------+------------------+--------------------+-----+--------------------+\n",
            "|FlightDate|             Airline|Origin|Dest|Cancelled|Diverted|CRSDepTime|DepTime|DepDelayMinutes|DepDelay|ArrTime|ArrDelayMinutes|AirTime|CRSElapsedTime|ActualElapsedTime|Distance|Year|Quarter|Month|DayofMonth|DayOfWeek|Marketing_Airline_Network|Operated_or_Branded_Code_Share_Partners|DOT_ID_Marketing_Airline|IATA_Code_Marketing_Airline|Flight_Number_Marketing_Airline|Operating_Airline|DOT_ID_Operating_Airline|IATA_Code_Operating_Airline|Tail_Number|Flight_Number_Operating_Airline|OriginAirportID|OriginAirportSeqID|OriginCityMarketID|  OriginCityName|OriginState|OriginStateFips|OriginStateName|OriginWac|DestAirportID|DestAirportSeqID|DestCityMarketID|  DestCityName|DestState|DestStateFips|DestStateName|DestWac|DepDel15|DepartureDelayGroups|DepTimeBlk|TaxiOut|WheelsOff|WheelsOn|TaxiIn|CRSArrTime|ArrDelay|ArrDel15|ArrivalDelayGroups|ArrTimeBlk|DistanceGroup|DivAirportLandings|            features|label|             stratum|\n",
            "+----------+--------------------+------+----+---------+--------+----------+-------+---------------+--------+-------+---------------+-------+--------------+-----------------+--------+----+-------+-----+----------+---------+-------------------------+---------------------------------------+------------------------+---------------------------+-------------------------------+-----------------+------------------------+---------------------------+-----------+-------------------------------+---------------+------------------+------------------+----------------+-----------+---------------+---------------+---------+-------------+----------------+----------------+--------------+---------+-------------+-------------+-------+--------+--------------------+----------+-------+---------+--------+------+----------+--------+--------+------------------+----------+-------------+------------------+--------------------+-----+--------------------+\n",
            "|2022-04-04|Air Wisconsin Air...|   AVL| ORD|    false|   false|       645|  836.0|          111.0|   111.0|  949.0|          114.0|   92.0|         130.0|            133.0|   536.0|2022|      2|    4|         4|        1|                       UA|                           UA_CODESHARE|                   19977|                         UA|                           3931|               ZW|                   20046|                         ZW|     N460AW|                           3931|          10431|           1043105|             30431|   Asheville, NC|         NC|             37| North Carolina|       36|        13930|         1393007|           30977|   Chicago, IL|       IL|           17|     Illinois|     41|     1.0|                 7.0| 0600-0659|   33.0|    909.0|   941.0|   8.0|       755|   114.0|     1.0|               7.0| 0700-0759|            3|                 0|(3344,[1,183,246,...|  5.0|Air Wisconsin Air...|\n",
            "|2022-04-04|Air Wisconsin Air...|   ATW| ORD|    false|   false|       830|  822.0|            0.0|    -8.0|  950.0|            0.0|   46.0|          81.0|             88.0|   161.0|2022|      2|    4|         4|        1|                       UA|                           UA_CODESHARE|                   19977|                         UA|                           3750|               ZW|                   20046|                         ZW|     N439AW|                           3750|          10408|           1040805|             30408|    Appleton, WI|         WI|             55|      Wisconsin|       45|        13930|         1393007|           30977|   Chicago, IL|       IL|           17|     Illinois|     41|     0.0|                -1.0| 0800-0859|   30.0|    852.0|   938.0|  12.0|       951|    -1.0|     0.0|              -1.0| 0900-0959|            1|                 0|(3344,[1,146,246,...|  5.0|Air Wisconsin Air...|\n",
            "|2022-04-03|Commutair Aka Cha...|   HSV| IAD|    false|   false|       846|  859.0|           13.0|    13.0| 1140.0|            0.0|   83.0|         119.0|            101.0|   596.0|2022|      2|    4|         3|        7|                       UA|                           UA_CODESHARE|                   19977|                         UA|                           4304|               C5|                   20445|                         C5|     N13161|                           4304|          12217|           1221702|             30255|  Huntsville, AL|         AL|              1|        Alabama|       51|        12264|         1226402|           30852|Washington, DC|       VA|           51|     Virginia|     38|     0.0|                 0.0| 0800-0859|   12.0|    911.0|  1134.0|   6.0|      1145|    -5.0|     0.0|              -1.0| 1100-1159|            3|                 0|(3344,[6,203,271,...|  6.0|Commutair Aka Cha...|\n",
            "|2022-04-03|Commutair Aka Cha...|   BUF| IAD|    false|   false|      1501| 1501.0|            0.0|     0.0| 1641.0|           21.0|   53.0|          79.0|            100.0|   283.0|2022|      2|    4|         3|        7|                       UA|                           UA_CODESHARE|                   19977|                         UA|                           4234|               C5|                   20445|                         C5|     N14162|                           4234|          10792|           1079206|             30792|     Buffalo, NY|         NY|             36|       New York|       22|        12264|         1226402|           30852|Washington, DC|       VA|           51|     Virginia|     38|     0.0|                 0.0| 1500-1559|   36.0|   1537.0|  1630.0|  11.0|      1620|    21.0|     1.0|               1.0| 1600-1659|            2|                 0|(3344,[6,88,271,4...|  6.0|Commutair Aka Cha...|\n",
            "|2022-04-01|GoJet Airlines, L...|   IND| EWR|    false|   false|      1837| 1959.0|           82.0|    82.0| 2213.0|           84.0|   92.0|         132.0|            134.0|   645.0|2022|      2|    4|         1|        5|                       UA|                           UA_CODESHARE|                   19977|                         UA|                           4445|               G7|                   20500|                         G7|     N565GJ|                           4445|          12339|           1233904|             32337|Indianapolis, IN|         IN|             18|        Indiana|       42|        11618|         1161802|           31703|    Newark, NJ|       NJ|           34|   New Jersey|     21|     1.0|                 5.0| 1800-1859|   17.0|   2016.0|  2148.0|  25.0|      2049|    84.0|     1.0|               5.0| 2000-2059|            3|                 0|(3344,[0,65,252,4...|  7.0|GoJet Airlines, L...|\n",
            "+----------+--------------------+------+----+---------+--------+----------+-------+---------------+--------+-------+---------------+-------+--------------+-----------------+--------+----+-------+-----+----------+---------+-------------------------+---------------------------------------+------------------------+---------------------------+-------------------------------+-----------------+------------------------+---------------------------+-----------+-------------------------------+---------------+------------------+------------------+----------------+-----------+---------------+---------------+---------+-------------+----------------+----------------+--------------+---------+-------------+-------------+-------+--------+--------------------+----------+-------+---------+--------+------+----------+--------+--------+------------------+----------+-------------+------------------+--------------------+-----+--------------------+\n",
            "only showing top 5 rows\n",
            "\n",
            "+----------+--------------------+------+----+---------+--------+----------+-------+---------------+--------+-------+---------------+-------+--------------+-----------------+--------+----+-------+-----+----------+---------+-------------------------+---------------------------------------+------------------------+---------------------------+-------------------------------+-----------------+------------------------+---------------------------+-----------+-------------------------------+---------------+------------------+------------------+---------------+-----------+---------------+---------------+---------+-------------+----------------+----------------+--------------------+---------+-------------+-------------+-------+--------+--------------------+----------+-------+---------+--------+------+----------+--------+--------+------------------+----------+-------------+------------------+--------------------+-----+--------------------+\n",
            "|FlightDate|             Airline|Origin|Dest|Cancelled|Diverted|CRSDepTime|DepTime|DepDelayMinutes|DepDelay|ArrTime|ArrDelayMinutes|AirTime|CRSElapsedTime|ActualElapsedTime|Distance|Year|Quarter|Month|DayofMonth|DayOfWeek|Marketing_Airline_Network|Operated_or_Branded_Code_Share_Partners|DOT_ID_Marketing_Airline|IATA_Code_Marketing_Airline|Flight_Number_Marketing_Airline|Operating_Airline|DOT_ID_Operating_Airline|IATA_Code_Operating_Airline|Tail_Number|Flight_Number_Operating_Airline|OriginAirportID|OriginAirportSeqID|OriginCityMarketID| OriginCityName|OriginState|OriginStateFips|OriginStateName|OriginWac|DestAirportID|DestAirportSeqID|DestCityMarketID|        DestCityName|DestState|DestStateFips|DestStateName|DestWac|DepDel15|DepartureDelayGroups|DepTimeBlk|TaxiOut|WheelsOff|WheelsOn|TaxiIn|CRSArrTime|ArrDelay|ArrDel15|ArrivalDelayGroups|ArrTimeBlk|DistanceGroup|DivAirportLandings|            features|label|             stratum|\n",
            "+----------+--------------------+------+----+---------+--------+----------+-------+---------------+--------+-------+---------------+-------+--------------+-----------------+--------+----+-------+-----+----------+---------+-------------------------+---------------------------------------+------------------------+---------------------------+-------------------------------+-----------------+------------------------+---------------------------+-----------+-------------------------------+---------------+------------------+------------------+---------------+-----------+---------------+---------------+---------+-------------+----------------+----------------+--------------------+---------+-------------+-------------+-------+--------+--------------------+----------+-------+---------+--------+------+----------+--------+--------+------------------+----------+-------------+------------------+--------------------+-----+--------------------+\n",
            "|2022-04-01|Southwest Airline...|   ABQ| LAS|    false|   false|      1125| 1139.0|           14.0|    14.0| 1220.0|           15.0|   75.0|         100.0|            101.0|   486.0|2022|      2|    4|         1|        5|                       WN|                                     WN|                   19393|                         WN|                            642|               WN|                   19393|                         WN|     N7830A|                            642|          10140|           1014005|             30140|Albuquerque, NM|         NM|             35|     New Mexico|       86|        12889|         1288903|           32211|       Las Vegas, NV|       NV|           32|       Nevada|     85|     0.0|                 0.0| 1100-1159|   21.0|   1200.0|  1215.0|   5.0|      1205|    15.0|     1.0|               1.0| 1200-1259|            2|                 0|(3344,[0,89,239,4...|  0.0|Southwest Airline...|\n",
            "|2022-04-01|Southwest Airline...|   AMA| DAL|    false|   false|      1515| 1546.0|           31.0|    31.0| 1652.0|           32.0|   51.0|          65.0|             66.0|   323.0|2022|      2|    4|         1|        5|                       WN|                                     WN|                   19393|                         WN|                           1120|               WN|                   19393|                         WN|     N254WN|                           1120|          10279|           1027903|             30279|   Amarillo, TX|         TX|             48|          Texas|       74|        11259|         1125904|           30194|          Dallas, TX|       TX|           48|        Texas|     74|     1.0|                 2.0| 1500-1559|   12.0|   1558.0|  1649.0|   3.0|      1620|    32.0|     1.0|               2.0| 1600-1659|            2|                 0|(3344,[0,127,244,...|  0.0|Southwest Airline...|\n",
            "|2022-04-01|Southwest Airline...|   AMA| LAS|    false|   false|      1405| 1408.0|            3.0|     3.0| 1408.0|            0.0|  108.0|         135.0|            120.0|   758.0|2022|      2|    4|         1|        5|                       WN|                                     WN|                   19393|                         WN|                           2156|               WN|                   19393|                         WN|     N233LV|                           2156|          10279|           1027903|             30279|   Amarillo, TX|         TX|             48|          Texas|       74|        12889|         1288903|           32211|       Las Vegas, NV|       NV|           32|       Nevada|     85|     0.0|                 0.0| 1400-1459|    8.0|   1416.0|  1404.0|   4.0|      1420|   -12.0|     0.0|              -1.0| 1400-1459|            4|                 0|(3344,[0,127,239,...|  0.0|Southwest Airline...|\n",
            "|2022-04-01|Southwest Airline...|   ATL| CMH|    false|   false|       820|  825.0|            5.0|     5.0|  950.0|            0.0|   64.0|         100.0|             85.0|   447.0|2022|      2|    4|         1|        5|                       WN|                                     WN|                   19393|                         WN|                           1246|               WN|                   19393|                         WN|     N8614M|                           1246|          10397|           1039707|             30397|    Atlanta, GA|         GA|             13|        Georgia|       34|        11066|         1106606|           31066|        Columbus, OH|       OH|           39|         Ohio|     44|     0.0|                 0.0| 0800-0859|   16.0|    841.0|   945.0|   5.0|      1000|   -10.0|     0.0|              -1.0| 1000-1059|            2|                 0|(3344,[0,31,268,4...|  0.0|Southwest Airline...|\n",
            "|2022-04-01|Southwest Airline...|   ATL| JAN|    false|   false|       825|  824.0|            0.0|    -1.0|  843.0|            0.0|   60.0|          95.0|             79.0|   341.0|2022|      2|    4|         1|        5|                       WN|                                     WN|                   19393|                         WN|                           2619|               WN|                   19393|                         WN|     N285WN|                           2619|          10397|           1039707|             30397|    Atlanta, GA|         GA|             13|        Georgia|       34|        12448|         1244807|           32448|Jackson/Vicksburg...|       MS|           28|  Mississippi|     53|     0.0|                -1.0| 0800-0859|   16.0|    840.0|   840.0|   3.0|       900|   -17.0|     0.0|              -2.0| 0900-0959|            2|                 0|(3344,[0,31,345,4...|  0.0|Southwest Airline...|\n",
            "+----------+--------------------+------+----+---------+--------+----------+-------+---------------+--------+-------+---------------+-------+--------------+-----------------+--------+----+-------+-----+----------+---------+-------------------------+---------------------------------------+------------------------+---------------------------+-------------------------------+-----------------+------------------------+---------------------------+-----------+-------------------------------+---------------+------------------+------------------+---------------+-----------+---------------+---------------+---------+-------------+----------------+----------------+--------------------+---------+-------------+-------------+-------+--------+--------------------+----------+-------+---------+--------+------+----------+--------+--------+------------------+----------+-------------+------------------+--------------------+-----+--------------------+\n",
            "only showing top 5 rows\n",
            "\n"
          ]
        }
      ]
    },
    {
      "cell_type": "markdown",
      "source": [
        "### 3. Selección de métricas para medir calidad de resultados"
      ],
      "metadata": {
        "id": "9qkwuA9ei_iV"
      }
    },
    {
      "cell_type": "markdown",
      "source": [
        "Con el objetivo de medir y determinar la eficacia y la idoneidad del modelo entrenado, se seleccionaron las siguientes metricas de evaluación para el clasificador multiclase que es el tema de estudio a predecir:\n",
        "\n",
        "\n",
        "\n",
        "1. Precisión: Para determininar la proporción de predicciones correctas donde el módelo predice verdaderos positivos.\n",
        "2. Accuracy: Porcentaje de predicciones correctas para los datos de prueba, se calcula como la proporción de verdaderos positivos y verdaderos negativos y la suma del número total de predicciones."
      ],
      "metadata": {
        "id": "dYxuvwpchwjo"
      }
    },
    {
      "cell_type": "markdown",
      "source": [
        "### 4. Entrenamiento de Modelos de Aprendizaje"
      ],
      "metadata": {
        "id": "zbkscF92jHn0"
      }
    },
    {
      "cell_type": "code",
      "source": [
        "# Modelo de regresión logística,\n",
        "from pyspark.ml.classification import LogisticRegression\n",
        "lr = LogisticRegression(featuresCol = 'features', labelCol = 'label', maxIter=30)\n"
      ],
      "metadata": {
        "id": "pVURMqZUjKZ6"
      },
      "execution_count": null,
      "outputs": []
    },
    {
      "cell_type": "code",
      "source": [
        "from pyspark.ml.tuning import ParamGridBuilder\n",
        "# Se define la rejilla para la búsqueda de parametros con Regresión Logística\n",
        "params = ParamGridBuilder() \\\n",
        "    .addGrid(modelLR.regParam, [0.1, 2.0]) \\\n",
        "    .addGrid(modelLR.elasticNetParam, [0.0, 0.5, 1.0]) \\\n",
        "    .build()"
      ],
      "metadata": {
        "id": "ufYMaMhpyBjR"
      },
      "execution_count": null,
      "outputs": []
    },
    {
      "cell_type": "code",
      "source": [
        "#Se entrena el modelo con el conjunto de datos de entrenamiento\n",
        "modelLR = lr.fit(train_data_stratum)"
      ],
      "metadata": {
        "id": "g4-FmTJkeQNv"
      },
      "execution_count": null,
      "outputs": []
    },
    {
      "cell_type": "code",
      "source": [
        "#Evaluación del módelo\n",
        "\n",
        "#Evaluator for Multiclass Classification\n",
        "from pyspark.ml.evaluation import MulticlassClassificationEvaluator\n",
        "\n",
        "#Evaluación del módelo haciendo uso de las métricas definidas en apartado 3\n",
        "#Precision\n",
        "evaluator = MulticlassClassificationEvaluator(labelCol=\"label\", predictionCol=\"prediction\", metricName=\"weightedPrecision\")\n",
        "presicion = evaluator.evaluate(modelLR.transform(test_data_stratum))\n",
        "\n",
        "print(\"Accuracy for train_data_stratum: %.3f\" % presicion)"
      ],
      "metadata": {
        "id": "FTmTOoHsobx8",
        "colab": {
          "base_uri": "https://localhost:8080/"
        },
        "outputId": "fd692c52-b082-4ff2-ca3a-c78b84df7d53"
      },
      "execution_count": null,
      "outputs": [
        {
          "output_type": "stream",
          "name": "stdout",
          "text": [
            "Accuracy for train_data_stratum: 1.000\n"
          ]
        }
      ]
    },
    {
      "cell_type": "code",
      "source": [
        "#Evaluación del módelo haciendo uso de las métricas definidas en apartado 3\n",
        "#Accurancy\n",
        "\n",
        "evaluator = MulticlassClassificationEvaluator(labelCol=\"label\", predictionCol=\"prediction\", metricName=\"accuracy\")\n",
        "accuracy = evaluator.evaluate(modelLR.transform(test_data_stratum))\n",
        "\n",
        "print(\"Accuracy for train_data_stratum: %.3f\" % accuracy)"
      ],
      "metadata": {
        "id": "w4mQ3KnWmPX3",
        "colab": {
          "base_uri": "https://localhost:8080/"
        },
        "outputId": "9ea68e15-6360-4685-c8b9-fbd19de5ea6b"
      },
      "execution_count": null,
      "outputs": [
        {
          "output_type": "stream",
          "name": "stdout",
          "text": [
            "Accuracy for train_data_stratum: 1.000\n"
          ]
        }
      ]
    },
    {
      "cell_type": "markdown",
      "source": [
        "### 5. Análisis de resultados"
      ],
      "metadata": {
        "id": "Ieqfj9RgjK1O"
      }
    },
    {
      "cell_type": "markdown",
      "source": [
        "Según los resultados obtendidos para las metricas utlizadas: accurancy y presición en las cuales se obtuvo el valor de 1.0, se realizará una interpretación enfocada al valor obtenido  y al tema de estudio que es predecir los retrasos de los vuelos para las diferentes aerolineas en Estados Unidos\n",
        "\n",
        "Al observar la métrica: accurancy con su respectivo resultado, podemos deducir que el modelo predice correctamente los retrasos de las aerolineas, aunado a esta métrica también se evalúo la métrica: precisión, para la cual se obtuvo un valor equivalente a 1.0 y refleja que todas las predicciones clasificadas como positivas fueron verdaderos positivos, lo que significa que no hubo falsos positivos.\n",
        "\n",
        "Como conclusión el procesamiento de los datos, la limpieza de los mismos, la selección de la muestra estratificada  así como el modelo seleccionado para este caso de estudio, refleja un modelo entrenado capaz de predecir de manera óptima con un buen desempeño."
      ],
      "metadata": {
        "id": "krmqANa924BE"
      }
    }
  ]
}