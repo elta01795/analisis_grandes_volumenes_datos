{
  "cells": [
    {
      "cell_type": "markdown",
      "metadata": {
        "id": "6gG5QIYw8ylh"
      },
      "source": [
        "### 1. Lectura de Dataset"
      ]
    },
    {
      "cell_type": "code",
      "execution_count": 1,
      "metadata": {
        "id": "w4RqZmdD8RrF"
      },
      "outputs": [],
      "source": [
        "!apt-get install openjdk-8-jdk-headless -qq > /dev/null\n",
        "!wget -q http://archive.apache.org/dist/spark/spark-3.1.1/spark-3.1.1-bin-hadoop3.2.tgz\n",
        "!tar xf spark-3.1.1-bin-hadoop3.2.tgz\n",
        "!pip install -q findspark"
      ]
    },
    {
      "cell_type": "code",
      "execution_count": null,
      "metadata": {
        "id": "g4fEYjX28enp"
      },
      "outputs": [],
      "source": [
        "import os\n",
        "os.environ[\"JAVA_HOME\"] = \"/usr/lib/jvm/java-8-openjdk-amd64\"\n",
        "os.environ[\"SPARK_HOME\"] = \"/content/spark-3.1.1-bin-hadoop3.2\""
      ]
    },
    {
      "cell_type": "code",
      "execution_count": null,
      "metadata": {
        "colab": {
          "base_uri": "https://localhost:8080/",
          "height": 222
        },
        "id": "WlR0wo7g8gme",
        "outputId": "761ec8cb-3665-4e4b-8274-a880b4df0a45"
      },
      "outputs": [
        {
          "output_type": "execute_result",
          "data": {
            "text/plain": [
              "<pyspark.sql.session.SparkSession at 0x7a276ba6a710>"
            ],
            "text/html": [
              "\n",
              "            <div>\n",
              "                <p><b>SparkSession - in-memory</b></p>\n",
              "                \n",
              "        <div>\n",
              "            <p><b>SparkContext</b></p>\n",
              "\n",
              "            <p><a href=\"http://2a40251d82b0:4040\">Spark UI</a></p>\n",
              "\n",
              "            <dl>\n",
              "              <dt>Version</dt>\n",
              "                <dd><code>v3.1.1</code></dd>\n",
              "              <dt>Master</dt>\n",
              "                <dd><code>local[*]</code></dd>\n",
              "              <dt>AppName</dt>\n",
              "                <dd><code>pyspark-shell</code></dd>\n",
              "            </dl>\n",
              "        </div>\n",
              "        \n",
              "            </div>\n",
              "        "
            ]
          },
          "metadata": {},
          "execution_count": 24
        }
      ],
      "source": [
        "import findspark\n",
        "findspark.init()\n",
        "from pyspark import SparkContext, SparkConf, SQLContext\n",
        "from pyspark.sql import SparkSession\n",
        "spark = SparkSession.builder.master(\"local[*]\").getOrCreate()\n",
        "spark.conf.set(\"spark.sql.repl.eagerEval.enabled\", True) # Property used to format output tables better\n",
        "spark"
      ]
    },
    {
      "cell_type": "code",
      "execution_count": null,
      "metadata": {
        "colab": {
          "base_uri": "https://localhost:8080/"
        },
        "id": "B990xmXX8kw5",
        "outputId": "8e127a16-9d66-4c04-f2de-39c47305c904"
      },
      "outputs": [
        {
          "output_type": "stream",
          "name": "stdout",
          "text": [
            "Usando dispositivo: cpu\n"
          ]
        }
      ],
      "source": [
        "import torch\n",
        "# Use GPU if available\n",
        "device = \"cuda\" if torch.cuda.is_available() else \"cpu\"\n",
        "print(f\"Usando dispositivo: {device}\")"
      ]
    },
    {
      "cell_type": "code",
      "execution_count": null,
      "metadata": {
        "id": "DlWH7EKq8i8d"
      },
      "outputs": [],
      "source": [
        "path_file = 'sample_data/Combined_Flights_2022.csv'"
      ]
    },
    {
      "cell_type": "code",
      "execution_count": null,
      "metadata": {
        "colab": {
          "base_uri": "https://localhost:8080/"
        },
        "id": "oxWT8OXS8l3L",
        "outputId": "d7156285-7d69-43bd-91e5-05526dce2503"
      },
      "outputs": [
        {
          "output_type": "stream",
          "name": "stdout",
          "text": [
            "+----------+--------------------+------+----+---------+--------+----------+-------+---------------+--------+-------+---------------+-------+--------------+-----------------+--------+----+-------+-----+----------+---------+-------------------------+---------------------------------------+------------------------+---------------------------+-------------------------------+-----------------+------------------------+---------------------------+-----------+-------------------------------+---------------+------------------+------------------+--------------------+-----------+---------------+---------------+---------+-------------+----------------+----------------+-------------------+---------+-------------+-------------+-------+--------+--------------------+----------+-------+---------+--------+------+----------+--------+--------+------------------+----------+-------------+------------------+\n",
            "|FlightDate|             Airline|Origin|Dest|Cancelled|Diverted|CRSDepTime|DepTime|DepDelayMinutes|DepDelay|ArrTime|ArrDelayMinutes|AirTime|CRSElapsedTime|ActualElapsedTime|Distance|Year|Quarter|Month|DayofMonth|DayOfWeek|Marketing_Airline_Network|Operated_or_Branded_Code_Share_Partners|DOT_ID_Marketing_Airline|IATA_Code_Marketing_Airline|Flight_Number_Marketing_Airline|Operating_Airline|DOT_ID_Operating_Airline|IATA_Code_Operating_Airline|Tail_Number|Flight_Number_Operating_Airline|OriginAirportID|OriginAirportSeqID|OriginCityMarketID|      OriginCityName|OriginState|OriginStateFips|OriginStateName|OriginWac|DestAirportID|DestAirportSeqID|DestCityMarketID|       DestCityName|DestState|DestStateFips|DestStateName|DestWac|DepDel15|DepartureDelayGroups|DepTimeBlk|TaxiOut|WheelsOff|WheelsOn|TaxiIn|CRSArrTime|ArrDelay|ArrDel15|ArrivalDelayGroups|ArrTimeBlk|DistanceGroup|DivAirportLandings|\n",
            "+----------+--------------------+------+----+---------+--------+----------+-------+---------------+--------+-------+---------------+-------+--------------+-----------------+--------+----+-------+-----+----------+---------+-------------------------+---------------------------------------+------------------------+---------------------------+-------------------------------+-----------------+------------------------+---------------------------+-----------+-------------------------------+---------------+------------------+------------------+--------------------+-----------+---------------+---------------+---------+-------------+----------------+----------------+-------------------+---------+-------------+-------------+-------+--------+--------------------+----------+-------+---------+--------+------+----------+--------+--------+------------------+----------+-------------+------------------+\n",
            "|2022-04-04|Commutair Aka Cha...|   GJT| DEN|    false|   false|      1133| 1123.0|            0.0|   -10.0| 1228.0|            0.0|   40.0|          72.0|             65.0|   212.0|2022|      2|    4|         4|        1|                       UA|                           UA_CODESHARE|                   19977|                         UA|                           4301|               C5|                   20445|                         C5|     N21144|                           4301|          11921|           1192102|             31921|  Grand Junction, CO|         CO|              8|       Colorado|       82|        11292|         1129202|           30325|         Denver, CO|       CO|            8|     Colorado|     82|     0.0|                -1.0| 1100-1159|   17.0|   1140.0|  1220.0|   8.0|      1245|   -17.0|     0.0|              -2.0| 1200-1259|            1|                 0|\n",
            "|2022-04-04|Commutair Aka Cha...|   HRL| IAH|    false|   false|       732|  728.0|            0.0|    -4.0|  848.0|            0.0|   55.0|          77.0|             80.0|   295.0|2022|      2|    4|         4|        1|                       UA|                           UA_CODESHARE|                   19977|                         UA|                           4299|               C5|                   20445|                         C5|     N16170|                           4299|          12206|           1220605|             32206|Harlingen/San Ben...|         TX|             48|          Texas|       74|        12266|         1226603|           31453|        Houston, TX|       TX|           48|        Texas|     74|     0.0|                -1.0| 0700-0759|   16.0|    744.0|   839.0|   9.0|       849|    -1.0|     0.0|              -1.0| 0800-0859|            2|                 0|\n",
            "|2022-04-04|Commutair Aka Cha...|   DRO| DEN|    false|   false|      1529| 1514.0|            0.0|   -15.0| 1636.0|            0.0|   47.0|          70.0|             82.0|   251.0|2022|      2|    4|         4|        1|                       UA|                           UA_CODESHARE|                   19977|                         UA|                           4298|               C5|                   20445|                         C5|     N21144|                           4298|          11413|           1141307|             30285|         Durango, CO|         CO|              8|       Colorado|       82|        11292|         1129202|           30325|         Denver, CO|       CO|            8|     Colorado|     82|     0.0|                -1.0| 1500-1559|   21.0|   1535.0|  1622.0|  14.0|      1639|    -3.0|     0.0|              -1.0| 1600-1659|            2|                 0|\n",
            "|2022-04-04|Commutair Aka Cha...|   IAH| GPT|    false|   false|      1435| 1430.0|            0.0|    -5.0| 1547.0|            0.0|   57.0|          90.0|             77.0|   376.0|2022|      2|    4|         4|        1|                       UA|                           UA_CODESHARE|                   19977|                         UA|                           4296|               C5|                   20445|                         C5|     N11184|                           4296|          12266|           1226603|             31453|         Houston, TX|         TX|             48|          Texas|       74|        11973|         1197302|           31973|Gulfport/Biloxi, MS|       MS|           28|  Mississippi|     53|     0.0|                -1.0| 1400-1459|   16.0|   1446.0|  1543.0|   4.0|      1605|   -18.0|     0.0|              -2.0| 1600-1659|            2|                 0|\n",
            "|2022-04-04|Commutair Aka Cha...|   DRO| DEN|    false|   false|      1135| 1135.0|            0.0|     0.0| 1251.0|            6.0|   49.0|          70.0|             76.0|   251.0|2022|      2|    4|         4|        1|                       UA|                           UA_CODESHARE|                   19977|                         UA|                           4295|               C5|                   20445|                         C5|     N17146|                           4295|          11413|           1141307|             30285|         Durango, CO|         CO|              8|       Colorado|       82|        11292|         1129202|           30325|         Denver, CO|       CO|            8|     Colorado|     82|     0.0|                 0.0| 1100-1159|   19.0|   1154.0|  1243.0|   8.0|      1245|     6.0|     0.0|               0.0| 1200-1259|            2|                 0|\n",
            "+----------+--------------------+------+----+---------+--------+----------+-------+---------------+--------+-------+---------------+-------+--------------+-----------------+--------+----+-------+-----+----------+---------+-------------------------+---------------------------------------+------------------------+---------------------------+-------------------------------+-----------------+------------------------+---------------------------+-----------+-------------------------------+---------------+------------------+------------------+--------------------+-----------+---------------+---------------+---------+-------------+----------------+----------------+-------------------+---------+-------------+-------------+-------+--------+--------------------+----------+-------+---------+--------+------+----------+--------+--------+------------------+----------+-------------+------------------+\n",
            "only showing top 5 rows\n",
            "\n"
          ]
        }
      ],
      "source": [
        "df = spark.read.csv(path_file, header=True, sep=\",\", inferSchema=True)\n",
        "df.show(5)"
      ]
    },
    {
      "cell_type": "code",
      "execution_count": null,
      "metadata": {
        "colab": {
          "base_uri": "https://localhost:8080/"
        },
        "id": "tHKTwXHh8oUe",
        "outputId": "2987836a-3a0e-4913-da57-c85a24e240de"
      },
      "outputs": [
        {
          "output_type": "stream",
          "name": "stdout",
          "text": [
            "Número de registros: 199328\n",
            "Número de columnas: 61\n"
          ]
        }
      ],
      "source": [
        "print(\"Número de registros: \" + str(df.count()))\n",
        "print(\"Número de columnas: \" + str(len(df.columns)))"
      ]
    },
    {
      "cell_type": "code",
      "execution_count": null,
      "metadata": {
        "colab": {
          "base_uri": "https://localhost:8080/"
        },
        "id": "5Lbu8Ogo8rLl",
        "outputId": "420461c6-9898-4eb0-cc54-3aa5bb7ac4fc"
      },
      "outputs": [
        {
          "output_type": "stream",
          "name": "stdout",
          "text": [
            "root\n",
            " |-- FlightDate: string (nullable = true)\n",
            " |-- Airline: string (nullable = true)\n",
            " |-- Origin: string (nullable = true)\n",
            " |-- Dest: string (nullable = true)\n",
            " |-- Cancelled: boolean (nullable = true)\n",
            " |-- Diverted: boolean (nullable = true)\n",
            " |-- CRSDepTime: integer (nullable = true)\n",
            " |-- DepTime: double (nullable = true)\n",
            " |-- DepDelayMinutes: double (nullable = true)\n",
            " |-- DepDelay: double (nullable = true)\n",
            " |-- ArrTime: double (nullable = true)\n",
            " |-- ArrDelayMinutes: double (nullable = true)\n",
            " |-- AirTime: double (nullable = true)\n",
            " |-- CRSElapsedTime: double (nullable = true)\n",
            " |-- ActualElapsedTime: double (nullable = true)\n",
            " |-- Distance: double (nullable = true)\n",
            " |-- Year: integer (nullable = true)\n",
            " |-- Quarter: integer (nullable = true)\n",
            " |-- Month: integer (nullable = true)\n",
            " |-- DayofMonth: integer (nullable = true)\n",
            " |-- DayOfWeek: integer (nullable = true)\n",
            " |-- Marketing_Airline_Network: string (nullable = true)\n",
            " |-- Operated_or_Branded_Code_Share_Partners: string (nullable = true)\n",
            " |-- DOT_ID_Marketing_Airline: integer (nullable = true)\n",
            " |-- IATA_Code_Marketing_Airline: string (nullable = true)\n",
            " |-- Flight_Number_Marketing_Airline: integer (nullable = true)\n",
            " |-- Operating_Airline: string (nullable = true)\n",
            " |-- DOT_ID_Operating_Airline: integer (nullable = true)\n",
            " |-- IATA_Code_Operating_Airline: string (nullable = true)\n",
            " |-- Tail_Number: string (nullable = true)\n",
            " |-- Flight_Number_Operating_Airline: integer (nullable = true)\n",
            " |-- OriginAirportID: integer (nullable = true)\n",
            " |-- OriginAirportSeqID: integer (nullable = true)\n",
            " |-- OriginCityMarketID: integer (nullable = true)\n",
            " |-- OriginCityName: string (nullable = true)\n",
            " |-- OriginState: string (nullable = true)\n",
            " |-- OriginStateFips: integer (nullable = true)\n",
            " |-- OriginStateName: string (nullable = true)\n",
            " |-- OriginWac: integer (nullable = true)\n",
            " |-- DestAirportID: integer (nullable = true)\n",
            " |-- DestAirportSeqID: integer (nullable = true)\n",
            " |-- DestCityMarketID: integer (nullable = true)\n",
            " |-- DestCityName: string (nullable = true)\n",
            " |-- DestState: string (nullable = true)\n",
            " |-- DestStateFips: integer (nullable = true)\n",
            " |-- DestStateName: string (nullable = true)\n",
            " |-- DestWac: integer (nullable = true)\n",
            " |-- DepDel15: double (nullable = true)\n",
            " |-- DepartureDelayGroups: double (nullable = true)\n",
            " |-- DepTimeBlk: string (nullable = true)\n",
            " |-- TaxiOut: double (nullable = true)\n",
            " |-- WheelsOff: double (nullable = true)\n",
            " |-- WheelsOn: double (nullable = true)\n",
            " |-- TaxiIn: double (nullable = true)\n",
            " |-- CRSArrTime: integer (nullable = true)\n",
            " |-- ArrDelay: double (nullable = true)\n",
            " |-- ArrDel15: double (nullable = true)\n",
            " |-- ArrivalDelayGroups: double (nullable = true)\n",
            " |-- ArrTimeBlk: string (nullable = true)\n",
            " |-- DistanceGroup: integer (nullable = true)\n",
            " |-- DivAirportLandings: integer (nullable = true)\n",
            "\n"
          ]
        }
      ],
      "source": [
        "#Se visualiza esquema del archivo importado a DataFrame\n",
        "df.printSchema()"
      ]
    },
    {
      "cell_type": "markdown",
      "metadata": {
        "id": "0SrUk8ZI88Bp"
      },
      "source": [
        "### 2. Proceso de limpieza"
      ]
    },
    {
      "cell_type": "code",
      "execution_count": null,
      "metadata": {
        "id": "UGi1nh088tag"
      },
      "outputs": [],
      "source": [
        "#Se eliminan columnas con valores nulos/faltantes\n",
        "df_clean = df.na.drop()"
      ]
    },
    {
      "cell_type": "markdown",
      "source": [
        "### 3. Construcción de la muestra a partir de las variables de caracterización."
      ],
      "metadata": {
        "id": "Fd368HfIlkOY"
      }
    },
    {
      "cell_type": "code",
      "execution_count": null,
      "metadata": {
        "colab": {
          "base_uri": "https://localhost:8080/"
        },
        "id": "8-gz6agt8-yO",
        "outputId": "909fb024-ab56-43a2-dd87-f430dc0e42a3"
      },
      "outputs": [
        {
          "output_type": "stream",
          "name": "stdout",
          "text": [
            "+----------+--------------------+------+----+---------+--------+----------+-------+---------------+--------+-------+---------------+-------+--------------+-----------------+--------+----+-------+-----+----------+---------+-------------------------+---------------------------------------+------------------------+---------------------------+-------------------------------+-----------------+------------------------+---------------------------+-----------+-------------------------------+---------------+------------------+------------------+--------------------+-----------+---------------+---------------+---------+-------------+----------------+----------------+-------------------+---------+-------------+-------------+-------+--------+--------------------+----------+-------+---------+--------+------+----------+--------+--------+------------------+----------+-------------+------------------+--------------------+-----+\n",
            "|FlightDate|             Airline|Origin|Dest|Cancelled|Diverted|CRSDepTime|DepTime|DepDelayMinutes|DepDelay|ArrTime|ArrDelayMinutes|AirTime|CRSElapsedTime|ActualElapsedTime|Distance|Year|Quarter|Month|DayofMonth|DayOfWeek|Marketing_Airline_Network|Operated_or_Branded_Code_Share_Partners|DOT_ID_Marketing_Airline|IATA_Code_Marketing_Airline|Flight_Number_Marketing_Airline|Operating_Airline|DOT_ID_Operating_Airline|IATA_Code_Operating_Airline|Tail_Number|Flight_Number_Operating_Airline|OriginAirportID|OriginAirportSeqID|OriginCityMarketID|      OriginCityName|OriginState|OriginStateFips|OriginStateName|OriginWac|DestAirportID|DestAirportSeqID|DestCityMarketID|       DestCityName|DestState|DestStateFips|DestStateName|DestWac|DepDel15|DepartureDelayGroups|DepTimeBlk|TaxiOut|WheelsOff|WheelsOn|TaxiIn|CRSArrTime|ArrDelay|ArrDel15|ArrivalDelayGroups|ArrTimeBlk|DistanceGroup|DivAirportLandings|            features|label|\n",
            "+----------+--------------------+------+----+---------+--------+----------+-------+---------------+--------+-------+---------------+-------+--------------+-----------------+--------+----+-------+-----+----------+---------+-------------------------+---------------------------------------+------------------------+---------------------------+-------------------------------+-----------------+------------------------+---------------------------+-----------+-------------------------------+---------------+------------------+------------------+--------------------+-----------+---------------+---------------+---------+-------------+----------------+----------------+-------------------+---------+-------------+-------------+-------+--------+--------------------+----------+-------+---------+--------+------+----------+--------+--------+------------------+----------+-------------+------------------+--------------------+-----+\n",
            "|2022-04-04|Commutair Aka Cha...|   GJT| DEN|    false|   false|      1133| 1123.0|            0.0|   -10.0| 1228.0|            0.0|   40.0|          72.0|             65.0|   212.0|2022|      2|    4|         4|        1|                       UA|                           UA_CODESHARE|                   19977|                         UA|                           4301|               C5|                   20445|                         C5|     N21144|                           4301|          11921|           1192102|             31921|  Grand Junction, CO|         CO|              8|       Colorado|       82|        11292|         1129202|           30325|         Denver, CO|       CO|            8|     Colorado|     82|     0.0|                -1.0| 1100-1159|   17.0|   1140.0|  1220.0|   8.0|      1245|   -17.0|     0.0|              -2.0| 1200-1259|            1|                 0|(3352,[1,205,240,...|  6.0|\n",
            "|2022-04-04|Commutair Aka Cha...|   HRL| IAH|    false|   false|       732|  728.0|            0.0|    -4.0|  848.0|            0.0|   55.0|          77.0|             80.0|   295.0|2022|      2|    4|         4|        1|                       UA|                           UA_CODESHARE|                   19977|                         UA|                           4299|               C5|                   20445|                         C5|     N16170|                           4299|          12206|           1220605|             32206|Harlingen/San Ben...|         TX|             48|          Texas|       74|        12266|         1226603|           31453|        Houston, TX|       TX|           48|        Texas|     74|     0.0|                -1.0| 0700-0759|   16.0|    744.0|   839.0|   9.0|       849|    -1.0|     0.0|              -1.0| 0800-0859|            2|                 0|(3352,[1,139,263,...|  6.0|\n",
            "|2022-04-04|Commutair Aka Cha...|   DRO| DEN|    false|   false|      1529| 1514.0|            0.0|   -15.0| 1636.0|            0.0|   47.0|          70.0|             82.0|   251.0|2022|      2|    4|         4|        1|                       UA|                           UA_CODESHARE|                   19977|                         UA|                           4298|               C5|                   20445|                         C5|     N21144|                           4298|          11413|           1141307|             30285|         Durango, CO|         CO|              8|       Colorado|       82|        11292|         1129202|           30325|         Denver, CO|       CO|            8|     Colorado|     82|     0.0|                -1.0| 1500-1559|   21.0|   1535.0|  1622.0|  14.0|      1639|    -3.0|     0.0|              -1.0| 1600-1659|            2|                 0|(3352,[1,172,240,...|  6.0|\n",
            "|2022-04-04|Commutair Aka Cha...|   IAH| GPT|    false|   false|      1435| 1430.0|            0.0|    -5.0| 1547.0|            0.0|   57.0|          90.0|             77.0|   376.0|2022|      2|    4|         4|        1|                       UA|                           UA_CODESHARE|                   19977|                         UA|                           4296|               C5|                   20445|                         C5|     N11184|                           4296|          12266|           1226603|             31453|         Houston, TX|         TX|             48|          Texas|       74|        11973|         1197302|           31973|Gulfport/Biloxi, MS|       MS|           28|  Mississippi|     53|     0.0|                -1.0| 1400-1459|   16.0|   1446.0|  1543.0|   4.0|      1605|   -18.0|     0.0|              -2.0| 1600-1659|            2|                 0|(3352,[1,55,403,4...|  6.0|\n",
            "|2022-04-04|Commutair Aka Cha...|   DRO| DEN|    false|   false|      1135| 1135.0|            0.0|     0.0| 1251.0|            6.0|   49.0|          70.0|             76.0|   251.0|2022|      2|    4|         4|        1|                       UA|                           UA_CODESHARE|                   19977|                         UA|                           4295|               C5|                   20445|                         C5|     N17146|                           4295|          11413|           1141307|             30285|         Durango, CO|         CO|              8|       Colorado|       82|        11292|         1129202|           30325|         Denver, CO|       CO|            8|     Colorado|     82|     0.0|                 0.0| 1100-1159|   19.0|   1154.0|  1243.0|   8.0|      1245|     6.0|     0.0|               0.0| 1200-1259|            2|                 0|(3352,[1,172,240,...|  6.0|\n",
            "+----------+--------------------+------+----+---------+--------+----------+-------+---------------+--------+-------+---------------+-------+--------------+-----------------+--------+----+-------+-----+----------+---------+-------------------------+---------------------------------------+------------------------+---------------------------+-------------------------------+-----------------+------------------------+---------------------------+-----------+-------------------------------+---------------+------------------+------------------+--------------------+-----------+---------------+---------------+---------+-------------+----------------+----------------+-------------------+---------+-------------+-------------+-------+--------+--------------------+----------+-------+---------+--------+------+----------+--------+--------+------------------+----------+-------------+------------------+--------------------+-----+\n",
            "only showing top 5 rows\n",
            "\n"
          ]
        }
      ],
      "source": [
        "#Empaquetado de descriptores y generación de columna de vector con RFormula\n",
        "#haciendo uso de la variable de caracterización: Airline como objetivo de aprendizaje\n",
        "#Se generan nuevas columnas: feature  y label (columna de aprendizaje)\n",
        "from pyspark.ml.feature import RFormula\n",
        "rForm = RFormula(formula=\"Airline ~ .\")\n",
        "#Se hace uso del módulo fit para obtener el ensamble\n",
        "fittedRF = rForm.fit(df_clean)\n",
        "preparedDF_a = fittedRF.transform(df_clean)\n",
        "preparedDF_a.show(5)"
      ]
    },
    {
      "cell_type": "code",
      "execution_count": null,
      "metadata": {
        "colab": {
          "base_uri": "https://localhost:8080/"
        },
        "id": "uHWWjY8j9B2U",
        "outputId": "3f6b5ac3-85e1-4d76-8e0c-c607f3696cac"
      },
      "outputs": [
        {
          "output_type": "stream",
          "name": "stdout",
          "text": [
            "== Physical Plan ==\n",
            "*(1) Project [FlightDate#526, Airline#527, Origin#528, Dest#529, Cancelled#530, Diverted#531, CRSDepTime#532, DepTime#533, DepDelayMinutes#534, DepDelay#535, ArrTime#536, ArrDelayMinutes#537, AirTime#538, CRSElapsedTime#539, ActualElapsedTime#540, Distance#541, Year#542, Quarter#543, Month#544, DayofMonth#545, DayOfWeek#546, Marketing_Airline_Network#547, Operated_or_Branded_Code_Share_Partners#548, DOT_ID_Marketing_Airline#549, ... 39 more fields]\n",
            "+- *(1) Project [FlightDate#526, Airline#527, Origin#528, Dest#529, Cancelled#530, Diverted#531, CRSDepTime#532, DepTime#533, DepDelayMinutes#534, DepDelay#535, ArrTime#536, ArrDelayMinutes#537, AirTime#538, CRSElapsedTime#539, ActualElapsedTime#540, Distance#541, Year#542, Quarter#543, Month#544, DayofMonth#545, DayOfWeek#546, Marketing_Airline_Network#547, Operated_or_Branded_Code_Share_Partners#548, DOT_ID_Marketing_Airline#549, ... 38 more fields]\n",
            "   +- *(1) Project [FlightDate#526, Airline#527, Origin#528, Dest#529, Cancelled#530, Diverted#531, CRSDepTime#532, DepTime#533, DepDelayMinutes#534, DepDelay#535, ArrTime#536, ArrDelayMinutes#537, AirTime#538, CRSElapsedTime#539, ActualElapsedTime#540, Distance#541, Year#542, Quarter#543, Month#544, DayofMonth#545, DayOfWeek#546, Marketing_Airline_Network#547, Operated_or_Branded_Code_Share_Partners#548, DOT_ID_Marketing_Airline#549, ... 54 more fields]\n",
            "      +- *(1) Project [FlightDate#526, Airline#527, Origin#528, Dest#529, Cancelled#530, Diverted#531, CRSDepTime#532, DepTime#533, DepDelayMinutes#534, DepDelay#535, ArrTime#536, ArrDelayMinutes#537, AirTime#538, CRSElapsedTime#539, ActualElapsedTime#540, Distance#541, Year#542, Quarter#543, Month#544, DayofMonth#545, DayOfWeek#546, Marketing_Airline_Network#547, Operated_or_Branded_Code_Share_Partners#548, DOT_ID_Marketing_Airline#549, ... 53 more fields]\n",
            "         +- *(1) Project [FlightDate#526, Airline#527, Origin#528, Dest#529, Cancelled#530, Diverted#531, CRSDepTime#532, DepTime#533, DepDelayMinutes#534, DepDelay#535, ArrTime#536, ArrDelayMinutes#537, AirTime#538, CRSElapsedTime#539, ActualElapsedTime#540, Distance#541, Year#542, Quarter#543, Month#544, DayofMonth#545, DayOfWeek#546, Marketing_Airline_Network#547, Operated_or_Branded_Code_Share_Partners#548, DOT_ID_Marketing_Airline#549, ... 52 more fields]\n",
            "            +- *(1) Project [FlightDate#526, Airline#527, Origin#528, Dest#529, Cancelled#530, Diverted#531, CRSDepTime#532, DepTime#533, DepDelayMinutes#534, DepDelay#535, ArrTime#536, ArrDelayMinutes#537, AirTime#538, CRSElapsedTime#539, ActualElapsedTime#540, Distance#541, Year#542, Quarter#543, Month#544, DayofMonth#545, DayOfWeek#546, Marketing_Airline_Network#547, Operated_or_Branded_Code_Share_Partners#548, DOT_ID_Marketing_Airline#549, ... 51 more fields]\n",
            "               +- *(1) Project [FlightDate#526, Airline#527, Origin#528, Dest#529, Cancelled#530, Diverted#531, CRSDepTime#532, DepTime#533, DepDelayMinutes#534, DepDelay#535, ArrTime#536, ArrDelayMinutes#537, AirTime#538, CRSElapsedTime#539, ActualElapsedTime#540, Distance#541, Year#542, Quarter#543, Month#544, DayofMonth#545, DayOfWeek#546, Marketing_Airline_Network#547, Operated_or_Branded_Code_Share_Partners#548, DOT_ID_Marketing_Airline#549, ... 50 more fields]\n",
            "                  +- *(1) Project [FlightDate#526, Airline#527, Origin#528, Dest#529, Cancelled#530, Diverted#531, CRSDepTime#532, DepTime#533, DepDelayMinutes#534, DepDelay#535, ArrTime#536, ArrDelayMinutes#537, AirTime#538, CRSElapsedTime#539, ActualElapsedTime#540, Distance#541, Year#542, Quarter#543, Month#544, DayofMonth#545, DayOfWeek#546, Marketing_Airline_Network#547, Operated_or_Branded_Code_Share_Partners#548, DOT_ID_Marketing_Airline#549, ... 49 more fields]\n",
            "                     +- *(1) Project [FlightDate#526, Airline#527, Origin#528, Dest#529, Cancelled#530, Diverted#531, CRSDepTime#532, DepTime#533, DepDelayMinutes#534, DepDelay#535, ArrTime#536, ArrDelayMinutes#537, AirTime#538, CRSElapsedTime#539, ActualElapsedTime#540, Distance#541, Year#542, Quarter#543, Month#544, DayofMonth#545, DayOfWeek#546, Marketing_Airline_Network#547, Operated_or_Branded_Code_Share_Partners#548, DOT_ID_Marketing_Airline#549, ... 48 more fields]\n",
            "                        +- *(1) Project [FlightDate#526, Airline#527, Origin#528, Dest#529, Cancelled#530, Diverted#531, CRSDepTime#532, DepTime#533, DepDelayMinutes#534, DepDelay#535, ArrTime#536, ArrDelayMinutes#537, AirTime#538, CRSElapsedTime#539, ActualElapsedTime#540, Distance#541, Year#542, Quarter#543, Month#544, DayofMonth#545, DayOfWeek#546, Marketing_Airline_Network#547, Operated_or_Branded_Code_Share_Partners#548, DOT_ID_Marketing_Airline#549, ... 47 more fields]\n",
            "                           +- *(1) Project [FlightDate#526, Airline#527, Origin#528, Dest#529, Cancelled#530, Diverted#531, CRSDepTime#532, DepTime#533, DepDelayMinutes#534, DepDelay#535, ArrTime#536, ArrDelayMinutes#537, AirTime#538, CRSElapsedTime#539, ActualElapsedTime#540, Distance#541, Year#542, Quarter#543, Month#544, DayofMonth#545, DayOfWeek#546, Marketing_Airline_Network#547, Operated_or_Branded_Code_Share_Partners#548, DOT_ID_Marketing_Airline#549, ... 46 more fields]\n",
            "                              +- *(1) Project [FlightDate#526, Airline#527, Origin#528, Dest#529, Cancelled#530, Diverted#531, CRSDepTime#532, DepTime#533, DepDelayMinutes#534, DepDelay#535, ArrTime#536, ArrDelayMinutes#537, AirTime#538, CRSElapsedTime#539, ActualElapsedTime#540, Distance#541, Year#542, Quarter#543, Month#544, DayofMonth#545, DayOfWeek#546, Marketing_Airline_Network#547, Operated_or_Branded_Code_Share_Partners#548, DOT_ID_Marketing_Airline#549, ... 45 more fields]\n",
            "                                 +- *(1) Project [FlightDate#526, Airline#527, Origin#528, Dest#529, Cancelled#530, Diverted#531, CRSDepTime#532, DepTime#533, DepDelayMinutes#534, DepDelay#535, ArrTime#536, ArrDelayMinutes#537, AirTime#538, CRSElapsedTime#539, ActualElapsedTime#540, Distance#541, Year#542, Quarter#543, Month#544, DayofMonth#545, DayOfWeek#546, Marketing_Airline_Network#547, Operated_or_Branded_Code_Share_Partners#548, DOT_ID_Marketing_Airline#549, ... 44 more fields]\n",
            "                                    +- *(1) Project [FlightDate#526, Airline#527, Origin#528, Dest#529, Cancelled#530, Diverted#531, CRSDepTime#532, DepTime#533, DepDelayMinutes#534, DepDelay#535, ArrTime#536, ArrDelayMinutes#537, AirTime#538, CRSElapsedTime#539, ActualElapsedTime#540, Distance#541, Year#542, Quarter#543, Month#544, DayofMonth#545, DayOfWeek#546, Marketing_Airline_Network#547, Operated_or_Branded_Code_Share_Partners#548, DOT_ID_Marketing_Airline#549, ... 43 more fields]\n",
            "                                       +- *(1) Project [FlightDate#526, Airline#527, Origin#528, Dest#529, Cancelled#530, Diverted#531, CRSDepTime#532, DepTime#533, DepDelayMinutes#534, DepDelay#535, ArrTime#536, ArrDelayMinutes#537, AirTime#538, CRSElapsedTime#539, ActualElapsedTime#540, Distance#541, Year#542, Quarter#543, Month#544, DayofMonth#545, DayOfWeek#546, Marketing_Airline_Network#547, Operated_or_Branded_Code_Share_Partners#548, DOT_ID_Marketing_Airline#549, ... 42 more fields]\n",
            "                                          +- *(1) Project [FlightDate#526, Airline#527, Origin#528, Dest#529, Cancelled#530, Diverted#531, CRSDepTime#532, DepTime#533, DepDelayMinutes#534, DepDelay#535, ArrTime#536, ArrDelayMinutes#537, AirTime#538, CRSElapsedTime#539, ActualElapsedTime#540, Distance#541, Year#542, Quarter#543, Month#544, DayofMonth#545, DayOfWeek#546, Marketing_Airline_Network#547, Operated_or_Branded_Code_Share_Partners#548, DOT_ID_Marketing_Airline#549, ... 41 more fields]\n",
            "                                             +- *(1) Project [FlightDate#526, Airline#527, Origin#528, Dest#529, Cancelled#530, Diverted#531, CRSDepTime#532, DepTime#533, DepDelayMinutes#534, DepDelay#535, ArrTime#536, ArrDelayMinutes#537, AirTime#538, CRSElapsedTime#539, ActualElapsedTime#540, Distance#541, Year#542, Quarter#543, Month#544, DayofMonth#545, DayOfWeek#546, Marketing_Airline_Network#547, Operated_or_Branded_Code_Share_Partners#548, DOT_ID_Marketing_Airline#549, ... 40 more fields]\n",
            "                                                +- *(1) Project [FlightDate#526, Airline#527, Origin#528, Dest#529, Cancelled#530, Diverted#531, CRSDepTime#532, DepTime#533, DepDelayMinutes#534, DepDelay#535, ArrTime#536, ArrDelayMinutes#537, AirTime#538, CRSElapsedTime#539, ActualElapsedTime#540, Distance#541, Year#542, Quarter#543, Month#544, DayofMonth#545, DayOfWeek#546, Marketing_Airline_Network#547, Operated_or_Branded_Code_Share_Partners#548, DOT_ID_Marketing_Airline#549, ... 39 more fields]\n",
            "                                                   +- *(1) Project [FlightDate#526, Airline#527, Origin#528, Dest#529, Cancelled#530, Diverted#531, CRSDepTime#532, DepTime#533, DepDelayMinutes#534, DepDelay#535, ArrTime#536, ArrDelayMinutes#537, AirTime#538, CRSElapsedTime#539, ActualElapsedTime#540, Distance#541, Year#542, Quarter#543, Month#544, DayofMonth#545, DayOfWeek#546, Marketing_Airline_Network#547, Operated_or_Branded_Code_Share_Partners#548, DOT_ID_Marketing_Airline#549, ... 38 more fields]\n",
            "                                                      +- *(1) Filter AtLeastNNulls(n, FlightDate#526,Airline#527,Origin#528,Dest#529,Cancelled#530,Diverted#531,CRSDepTime#532,DepTime#533,DepDelayMinutes#534,DepDelay#535,ArrTime#536,ArrDelayMinutes#537,AirTime#538,CRSElapsedTime#539,ActualElapsedTime#540,Distance#541,Year#542,Quarter#543,Month#544,DayofMonth#545,DayOfWeek#546,Marketing_Airline_Network#547,Operated_or_Branded_Code_Share_Partners#548,DOT_ID_Marketing_Airline#549,IATA_Code_Marketing_Airline#550,Flight_Number_Marketing_Airline#551,Operating_Airline#552,DOT_ID_Operating_Airline#553,IATA_Code_Operating_Airline#554,Tail_Number#555,Flight_Number_Operating_Airline#556,OriginAirportID#557,OriginAirportSeqID#558,OriginCityMarketID#559,OriginCityName#560,OriginState#561,OriginStateFips#562,OriginStateName#563,OriginWac#564,DestAirportID#565,DestAirportSeqID#566,DestCityMarketID#567,DestCityName#568,DestState#569,DestStateFips#570,DestStateName#571,DestWac#572,DepDel15#573,DepartureDelayGroups#574,DepTimeBlk#575,TaxiOut#576,WheelsOff#577,WheelsOn#578,TaxiIn#579,CRSArrTime#580,ArrDelay#581,ArrDel15#582,ArrivalDelayGroups#583,ArrTimeBlk#584,DistanceGroup#585,DivAirportLandings#586)\n",
            "                                                         +- FileScan csv [FlightDate#526,Airline#527,Origin#528,Dest#529,Cancelled#530,Diverted#531,CRSDepTime#532,DepTime#533,DepDelayMinutes#534,DepDelay#535,ArrTime#536,ArrDelayMinutes#537,AirTime#538,CRSElapsedTime#539,ActualElapsedTime#540,Distance#541,Year#542,Quarter#543,Month#544,DayofMonth#545,DayOfWeek#546,Marketing_Airline_Network#547,Operated_or_Branded_Code_Share_Partners#548,DOT_ID_Marketing_Airline#549,... 37 more fields] Batched: false, DataFilters: [AtLeastNNulls(n, FlightDate#526,Airline#527,Origin#528,Dest#529,Cancelled#530,Diverted#531,CRSDe..., Format: CSV, Location: InMemoryFileIndex[file:/content/sample_data/Combined_Flights_2022.csv], PartitionFilters: [], PushedFilters: [], ReadSchema: struct<FlightDate:string,Airline:string,Origin:string,Dest:string,Cancelled:boolean,Diverted:bool...\n",
            "\n",
            "\n"
          ]
        }
      ],
      "source": [
        "#Se visualiza plan de transformación\n",
        "preparedDF_a.explain()"
      ]
    },
    {
      "cell_type": "markdown",
      "source": [
        " - **3.1** Se construye muestra representativa bajo muestro estratificado"
      ],
      "metadata": {
        "id": "4oa6E7NdmAS-"
      }
    },
    {
      "cell_type": "code",
      "execution_count": null,
      "metadata": {
        "colab": {
          "base_uri": "https://localhost:8080/"
        },
        "id": "UfSxCYEH9D4S",
        "outputId": "655e2586-e377-4b09-97d5-b88ab0ecc5c8"
      },
      "outputs": [
        {
          "output_type": "stream",
          "name": "stdout",
          "text": [
            "+----------+--------------------+------+----+---------+--------+----------+-------+---------------+--------+-------+---------------+-------+--------------+-----------------+--------+----+-------+-----+----------+---------+-------------------------+---------------------------------------+------------------------+---------------------------+-------------------------------+-----------------+------------------------+---------------------------+-----------+-------------------------------+---------------+------------------+------------------+--------------------+-----------+---------------+---------------+---------+-------------+----------------+----------------+-------------------+---------+-------------+-------------+-------+--------+--------------------+----------+-------+---------+--------+------+----------+--------+--------+------------------+----------+-------------+------------------+--------------------+-----+--------------------+\n",
            "|FlightDate|             Airline|Origin|Dest|Cancelled|Diverted|CRSDepTime|DepTime|DepDelayMinutes|DepDelay|ArrTime|ArrDelayMinutes|AirTime|CRSElapsedTime|ActualElapsedTime|Distance|Year|Quarter|Month|DayofMonth|DayOfWeek|Marketing_Airline_Network|Operated_or_Branded_Code_Share_Partners|DOT_ID_Marketing_Airline|IATA_Code_Marketing_Airline|Flight_Number_Marketing_Airline|Operating_Airline|DOT_ID_Operating_Airline|IATA_Code_Operating_Airline|Tail_Number|Flight_Number_Operating_Airline|OriginAirportID|OriginAirportSeqID|OriginCityMarketID|      OriginCityName|OriginState|OriginStateFips|OriginStateName|OriginWac|DestAirportID|DestAirportSeqID|DestCityMarketID|       DestCityName|DestState|DestStateFips|DestStateName|DestWac|DepDel15|DepartureDelayGroups|DepTimeBlk|TaxiOut|WheelsOff|WheelsOn|TaxiIn|CRSArrTime|ArrDelay|ArrDel15|ArrivalDelayGroups|ArrTimeBlk|DistanceGroup|DivAirportLandings|            features|label|             stratum|\n",
            "+----------+--------------------+------+----+---------+--------+----------+-------+---------------+--------+-------+---------------+-------+--------------+-----------------+--------+----+-------+-----+----------+---------+-------------------------+---------------------------------------+------------------------+---------------------------+-------------------------------+-----------------+------------------------+---------------------------+-----------+-------------------------------+---------------+------------------+------------------+--------------------+-----------+---------------+---------------+---------+-------------+----------------+----------------+-------------------+---------+-------------+-------------+-------+--------+--------------------+----------+-------+---------+--------+------+----------+--------+--------+------------------+----------+-------------+------------------+--------------------+-----+--------------------+\n",
            "|2022-04-04|Commutair Aka Cha...|   GJT| DEN|    false|   false|      1133| 1123.0|            0.0|   -10.0| 1228.0|            0.0|   40.0|          72.0|             65.0|   212.0|2022|      2|    4|         4|        1|                       UA|                           UA_CODESHARE|                   19977|                         UA|                           4301|               C5|                   20445|                         C5|     N21144|                           4301|          11921|           1192102|             31921|  Grand Junction, CO|         CO|              8|       Colorado|       82|        11292|         1129202|           30325|         Denver, CO|       CO|            8|     Colorado|     82|     0.0|                -1.0| 1100-1159|   17.0|   1140.0|  1220.0|   8.0|      1245|   -17.0|     0.0|              -2.0| 1200-1259|            1|                 0|(3352,[1,205,240,...|  6.0|Commutair Aka Cha...|\n",
            "|2022-04-04|Commutair Aka Cha...|   HRL| IAH|    false|   false|       732|  728.0|            0.0|    -4.0|  848.0|            0.0|   55.0|          77.0|             80.0|   295.0|2022|      2|    4|         4|        1|                       UA|                           UA_CODESHARE|                   19977|                         UA|                           4299|               C5|                   20445|                         C5|     N16170|                           4299|          12206|           1220605|             32206|Harlingen/San Ben...|         TX|             48|          Texas|       74|        12266|         1226603|           31453|        Houston, TX|       TX|           48|        Texas|     74|     0.0|                -1.0| 0700-0759|   16.0|    744.0|   839.0|   9.0|       849|    -1.0|     0.0|              -1.0| 0800-0859|            2|                 0|(3352,[1,139,263,...|  6.0|Commutair Aka Cha...|\n",
            "|2022-04-04|Commutair Aka Cha...|   DRO| DEN|    false|   false|      1529| 1514.0|            0.0|   -15.0| 1636.0|            0.0|   47.0|          70.0|             82.0|   251.0|2022|      2|    4|         4|        1|                       UA|                           UA_CODESHARE|                   19977|                         UA|                           4298|               C5|                   20445|                         C5|     N21144|                           4298|          11413|           1141307|             30285|         Durango, CO|         CO|              8|       Colorado|       82|        11292|         1129202|           30325|         Denver, CO|       CO|            8|     Colorado|     82|     0.0|                -1.0| 1500-1559|   21.0|   1535.0|  1622.0|  14.0|      1639|    -3.0|     0.0|              -1.0| 1600-1659|            2|                 0|(3352,[1,172,240,...|  6.0|Commutair Aka Cha...|\n",
            "|2022-04-04|Commutair Aka Cha...|   IAH| GPT|    false|   false|      1435| 1430.0|            0.0|    -5.0| 1547.0|            0.0|   57.0|          90.0|             77.0|   376.0|2022|      2|    4|         4|        1|                       UA|                           UA_CODESHARE|                   19977|                         UA|                           4296|               C5|                   20445|                         C5|     N11184|                           4296|          12266|           1226603|             31453|         Houston, TX|         TX|             48|          Texas|       74|        11973|         1197302|           31973|Gulfport/Biloxi, MS|       MS|           28|  Mississippi|     53|     0.0|                -1.0| 1400-1459|   16.0|   1446.0|  1543.0|   4.0|      1605|   -18.0|     0.0|              -2.0| 1600-1659|            2|                 0|(3352,[1,55,403,4...|  6.0|Commutair Aka Cha...|\n",
            "|2022-04-04|Commutair Aka Cha...|   DRO| DEN|    false|   false|      1135| 1135.0|            0.0|     0.0| 1251.0|            6.0|   49.0|          70.0|             76.0|   251.0|2022|      2|    4|         4|        1|                       UA|                           UA_CODESHARE|                   19977|                         UA|                           4295|               C5|                   20445|                         C5|     N17146|                           4295|          11413|           1141307|             30285|         Durango, CO|         CO|              8|       Colorado|       82|        11292|         1129202|           30325|         Denver, CO|       CO|            8|     Colorado|     82|     0.0|                 0.0| 1100-1159|   19.0|   1154.0|  1243.0|   8.0|      1245|     6.0|     0.0|               0.0| 1200-1259|            2|                 0|(3352,[1,172,240,...|  6.0|Commutair Aka Cha...|\n",
            "+----------+--------------------+------+----+---------+--------+----------+-------+---------------+--------+-------+---------------+-------+--------------+-----------------+--------+----+-------+-----+----------+---------+-------------------------+---------------------------------------+------------------------+---------------------------+-------------------------------+-----------------+------------------------+---------------------------+-----------+-------------------------------+---------------+------------------+------------------+--------------------+-----------+---------------+---------------+---------+-------------+----------------+----------------+-------------------+---------+-------------+-------------+-------+--------+--------------------+----------+-------+---------+--------+------+----------+--------+--------+------------------+----------+-------------+------------------+--------------------+-----+--------------------+\n",
            "only showing top 5 rows\n",
            "\n"
          ]
        }
      ],
      "source": [
        "#Se genera muestra representativa de la población bajo el muestreo estratificado\n",
        "# Se añade una nueva columna:stratum que combina los valores de concatenación de las variables de caracterización: Airline y DepDel15\n",
        "from pyspark.sql.functions import concat, lit\n",
        "preparedDF_a_stratum = preparedDF_a.withColumn(\"stratum\", concat(preparedDF_a[\"Airline\"], lit(\"_\"), preparedDF_a[\"DepDel15\"]))\n",
        "preparedDF_a_stratum.show(5)"
      ]
    },
    {
      "cell_type": "code",
      "execution_count": null,
      "metadata": {
        "colab": {
          "base_uri": "https://localhost:8080/"
        },
        "id": "vgLrLDZv9Fsr",
        "outputId": "116558ac-afe1-43a6-b419-18e9fb4c7eb1"
      },
      "outputs": [
        {
          "output_type": "stream",
          "name": "stdout",
          "text": [
            "root\n",
            " |-- FlightDate: string (nullable = true)\n",
            " |-- Airline: string (nullable = true)\n",
            " |-- Origin: string (nullable = true)\n",
            " |-- Dest: string (nullable = true)\n",
            " |-- Cancelled: boolean (nullable = true)\n",
            " |-- Diverted: boolean (nullable = true)\n",
            " |-- CRSDepTime: integer (nullable = true)\n",
            " |-- DepTime: double (nullable = true)\n",
            " |-- DepDelayMinutes: double (nullable = true)\n",
            " |-- DepDelay: double (nullable = true)\n",
            " |-- ArrTime: double (nullable = true)\n",
            " |-- ArrDelayMinutes: double (nullable = true)\n",
            " |-- AirTime: double (nullable = true)\n",
            " |-- CRSElapsedTime: double (nullable = true)\n",
            " |-- ActualElapsedTime: double (nullable = true)\n",
            " |-- Distance: double (nullable = true)\n",
            " |-- Year: integer (nullable = true)\n",
            " |-- Quarter: integer (nullable = true)\n",
            " |-- Month: integer (nullable = true)\n",
            " |-- DayofMonth: integer (nullable = true)\n",
            " |-- DayOfWeek: integer (nullable = true)\n",
            " |-- Marketing_Airline_Network: string (nullable = true)\n",
            " |-- Operated_or_Branded_Code_Share_Partners: string (nullable = true)\n",
            " |-- DOT_ID_Marketing_Airline: integer (nullable = true)\n",
            " |-- IATA_Code_Marketing_Airline: string (nullable = true)\n",
            " |-- Flight_Number_Marketing_Airline: integer (nullable = true)\n",
            " |-- Operating_Airline: string (nullable = true)\n",
            " |-- DOT_ID_Operating_Airline: integer (nullable = true)\n",
            " |-- IATA_Code_Operating_Airline: string (nullable = true)\n",
            " |-- Tail_Number: string (nullable = true)\n",
            " |-- Flight_Number_Operating_Airline: integer (nullable = true)\n",
            " |-- OriginAirportID: integer (nullable = true)\n",
            " |-- OriginAirportSeqID: integer (nullable = true)\n",
            " |-- OriginCityMarketID: integer (nullable = true)\n",
            " |-- OriginCityName: string (nullable = true)\n",
            " |-- OriginState: string (nullable = true)\n",
            " |-- OriginStateFips: integer (nullable = true)\n",
            " |-- OriginStateName: string (nullable = true)\n",
            " |-- OriginWac: integer (nullable = true)\n",
            " |-- DestAirportID: integer (nullable = true)\n",
            " |-- DestAirportSeqID: integer (nullable = true)\n",
            " |-- DestCityMarketID: integer (nullable = true)\n",
            " |-- DestCityName: string (nullable = true)\n",
            " |-- DestState: string (nullable = true)\n",
            " |-- DestStateFips: integer (nullable = true)\n",
            " |-- DestStateName: string (nullable = true)\n",
            " |-- DestWac: integer (nullable = true)\n",
            " |-- DepDel15: double (nullable = true)\n",
            " |-- DepartureDelayGroups: double (nullable = true)\n",
            " |-- DepTimeBlk: string (nullable = true)\n",
            " |-- TaxiOut: double (nullable = true)\n",
            " |-- WheelsOff: double (nullable = true)\n",
            " |-- WheelsOn: double (nullable = true)\n",
            " |-- TaxiIn: double (nullable = true)\n",
            " |-- CRSArrTime: integer (nullable = true)\n",
            " |-- ArrDelay: double (nullable = true)\n",
            " |-- ArrDel15: double (nullable = true)\n",
            " |-- ArrivalDelayGroups: double (nullable = true)\n",
            " |-- ArrTimeBlk: string (nullable = true)\n",
            " |-- DistanceGroup: integer (nullable = true)\n",
            " |-- DivAirportLandings: integer (nullable = true)\n",
            " |-- features: vector (nullable = true)\n",
            " |-- label: double (nullable = false)\n",
            " |-- stratum: string (nullable = true)\n",
            "\n"
          ]
        }
      ],
      "source": [
        "#Se imprime esquema para visualizar la nueva columna y el tipo de dato\n",
        "preparedDF_a_stratum.printSchema()"
      ]
    },
    {
      "cell_type": "markdown",
      "metadata": {
        "id": "txfgZfsb9Snj"
      },
      "source": [
        "### 4. Fase de experimentación.\n",
        "\n",
        "Dentro de la **fase de entrenamiento** se realizaran los siguientes pasos\n",
        "\n",
        "\n",
        "1.   Se generan conjunto de entrenamiento y test para cada k-folds\n",
        "2.   Proceso de entrenamiento y validación del modelo\n",
        "3.   Evaluación del módelo\n",
        "\n",
        "\n",
        "Para lograr estos objetivos se creo una **función** de nombre: **split_train_test**\n",
        "\n"
      ]
    },
    {
      "cell_type": "code",
      "execution_count": null,
      "metadata": {
        "id": "EkSdc80l2wFZ"
      },
      "outputs": [],
      "source": [
        "# se importan librerias para creación y evaluación del modelo, y creación de k-folds\n",
        "from pyspark.ml.classification import LogisticRegression\n",
        "from pyspark.ml.evaluation import MulticlassClassificationEvaluator\n",
        "from pyspark.ml.tuning import ParamGridBuilder\n",
        "from pyspark.sql.functions import monotonically_increasing_id\n",
        "from pyspark.sql.functions import rand, row_number\n",
        "from pyspark.sql.window import Window"
      ]
    },
    {
      "cell_type": "code",
      "source": [
        "#se crean listas en donde se almacenaran las metricas de valdiación de cada k-fold entrenado.\n",
        "metrics_precision = []\n",
        "metrics_accurancy = []"
      ],
      "metadata": {
        "id": "s8bT4h4I-EI3"
      },
      "execution_count": null,
      "outputs": []
    },
    {
      "cell_type": "markdown",
      "metadata": {
        "id": "R3f2hAgM9Q-l"
      },
      "source": [
        "- **4.1.** Definir un proceso de validación cruzada para medir la variabilidad de los resultados a partir del algoritmo o algoritmos que mejor resultado reportaron en la Actividad 4 del Módulo 5.\n",
        "\n",
        "Como contexto, para este caso de estudio se tiene dos variables de caracterización y son: DepDel15 y Airline.\n",
        "\n",
        "La variable de caracterización DepDel15 es de tipo binaria con valor de uno y cero.\n",
        "La variable de caracterización: Airline es de tipo categórica con cinco valores difentes,  los cuales enuncio a continuación:\n",
        "1.   Southwest Airlines Co\n",
        "2.   Mesa Airlines Inc\n",
        "3.   Air Wisconsin Airlines Corp\n",
        "4.   GoJet Airlines\n",
        "5.   Commutair Aka Champlain Enterprises\n",
        "\n",
        "Dada esta situación y el proceso de generación de la muestra estratificada en el que se creo una variable (stratum) que combina ambas variables de caracterización  para generar estratos representativos, se tomó la decisión de hacer uso de la metrica estadistica: **moda**; lo que significa que para seguir manteniendo una representatividad de los datos en los folds que se construirán,  en cada uno ellos se debe incluir  instacias de datos de la aerolinea que apareció con más frecuecia en la muestra estratificada.\n",
        "\n",
        "Con respecto a definir el **valor de k**, cabe mencionar que se tiene una alta cantidad de instancias de datos apesar de que previamente se generó  la muestra estratificada, por lo que para eficientar el tiempo de procesamiento, se considera que  **k , tomará el valor de 10,000.** aún así esto representa más de 1hr de procesamiento auqnue también puede depender de otros factores del entorno de ejecución."
      ]
    },
    {
      "cell_type": "code",
      "execution_count": null,
      "metadata": {
        "colab": {
          "base_uri": "https://localhost:8080/"
        },
        "id": "GTVtUIm69VnM",
        "outputId": "9919879b-4e4e-44ce-dd52-b18ffaba09f8"
      },
      "outputs": [
        {
          "output_type": "stream",
          "name": "stdout",
          "text": [
            "Aerolinea que debe aparecer con más frecuencia en los k-folds:  Southwest Airlines Co._0.0\n"
          ]
        }
      ],
      "source": [
        "#Se obtiene la métrica:moda a partir del conjunto de datos generados por la muestra estratificada\n",
        "moda = preparedDF_a_stratum.groupBy(\"stratum\").count().orderBy('count', ascending= False ).first()[ 0 ]\n",
        "print('Aerolinea que debe aparecer con más frecuencia en los k-folds: ' , moda)"
      ]
    },
    {
      "cell_type": "code",
      "execution_count": null,
      "metadata": {
        "id": "TWRdr-1KuR2u"
      },
      "outputs": [],
      "source": [
        "'''\n",
        "División de conjunto de entrenamiento y pruebas,\n",
        "Entrenar modelo con LogisticRegresion de cada kfold y\n",
        "Evaluar el modelo con precision y accurancy\n",
        "\n",
        "Args:\n",
        "  k_fold : k-fold creado desde la muestra representativa estratificada\n",
        "\n",
        " Returns:\n",
        "    Dos lista que contienen el rendimiento del modelo por\n",
        "    accuancy: metrics_accurancy y\n",
        "    precision: metrics_precision\n",
        "\n",
        "'''\n",
        "\n",
        "def split_train_test(k_fold):\n",
        "  k_fold = 1\n",
        "  metrics_evaluation = []\n",
        "  print(f\"\\n--- Creación de conjunto :entrenamiento y test  del k-fold\")\n",
        "  train_data_kfold,test_data_kfold = current_batch_df.randomSplit([0.7,0.3], seed = 42)\n",
        "  print(f\"\"\"Existen {train_data_kfold.count()} instancias en el conjunto train, y {test_data_kfold.count()} en el conjunto test\"\"\")\n",
        "  lr = LogisticRegression(featuresCol = 'features', labelCol = 'label', maxIter=30)\n",
        "\n",
        "  print('Entrenando el modelo......')\n",
        "  modelLR = lr.fit(train_data_kfold)\n",
        "  params = ParamGridBuilder() \\\n",
        "    .addGrid(lr.regParam, [0.1, 2.0]) \\\n",
        "    .addGrid(lr.elasticNetParam, [0.0, 0.5, 1.0]) \\\n",
        "    .build()\n",
        "\n",
        "  #Validación de rendimiento del modelo\n",
        "  evaluator = MulticlassClassificationEvaluator(labelCol=\"label\", predictionCol=\"prediction\", metricName=\"weightedPrecision\")\n",
        "  presicion = evaluator.evaluate(modelLR.transform(test_data_kfold))\n",
        "  metrics_precision.append([presicion])\n",
        "  #metrics_evaluation.append([k_fold,'presicion', presicion])\n",
        "  print(f\"\\n--- Métrica: precision de k-fold - : {presicion} \")\n",
        "  evaluator = MulticlassClassificationEvaluator(labelCol=\"label\", predictionCol=\"prediction\", metricName=\"accuracy\")\n",
        "  accuracy = evaluator.evaluate(modelLR.transform(test_data_kfold))\n",
        "  metrics_accurancy.append([accuracy])\n",
        "  #metrics_evaluation.append(metrics_accurancy)\n",
        "  print(f\"\\n--- Métrica: Accurancy de k-fold - : {accuracy} \")\n",
        "\n",
        "  return metrics_precision, metrics_accurancy"
      ]
    },
    {
      "cell_type": "code",
      "execution_count": null,
      "metadata": {
        "colab": {
          "base_uri": "https://localhost:8080/"
        },
        "id": "K2L9WtSw9eAM",
        "outputId": "f1edc760-0570-44f9-d819-e8074d65d836"
      },
      "outputs": [
        {
          "output_type": "stream",
          "name": "stdout",
          "text": [
            "Total rows: 195310\n",
            "Batch size (k): 10000\n",
            "Number of batches: 20\n",
            "+-------+--------------------+\n",
            "|summary|             stratum|\n",
            "+-------+--------------------+\n",
            "|  count|                9999|\n",
            "|   mean|                null|\n",
            "| stddev|                null|\n",
            "|    min|Air Wisconsin Air...|\n",
            "|    max|Southwest Airline...|\n",
            "+-------+--------------------+\n",
            "\n",
            "\n",
            "--- Creación de conjunto :entrenamiento y test  del k-fold\n",
            "Existen 7104 instancias en el conjunto train, y 2896 en el conjunto test\n",
            "Entrenando el modelo......\n",
            "\n",
            "--- Métrica: precision de k-fold - 1: 0.9982773606014843 \n",
            "\n",
            "--- Métrica: Accurancy de k-fold - 1: 0.99896408839779 \n",
            "\n",
            "--- Processing Batch 2/20 (Rows 10000 to 19999) ---\n",
            "+-------+--------------------+\n",
            "|summary|             stratum|\n",
            "+-------+--------------------+\n",
            "|  count|               19999|\n",
            "|   mean|                null|\n",
            "| stddev|                null|\n",
            "|    min|Air Wisconsin Air...|\n",
            "|    max|Southwest Airline...|\n",
            "+-------+--------------------+\n",
            "\n",
            "\n",
            "--- Creación de conjunto :entrenamiento y test  del k-fold\n",
            "Existen 7104 instancias en el conjunto train, y 2896 en el conjunto test\n",
            "Entrenando el modelo......\n",
            "\n",
            "--- Métrica: precision de k-fold - 1: 0.9989727752875361 \n",
            "\n",
            "--- Métrica: Accurancy de k-fold - 1: 0.99896408839779 \n",
            "\n",
            "--- Processing Batch 3/20 (Rows 20000 to 29999) ---\n",
            "+-------+--------------------+\n",
            "|summary|             stratum|\n",
            "+-------+--------------------+\n",
            "|  count|               29999|\n",
            "|   mean|                null|\n",
            "| stddev|                null|\n",
            "|    min|Air Wisconsin Air...|\n",
            "|    max|Southwest Airline...|\n",
            "+-------+--------------------+\n",
            "\n",
            "\n",
            "--- Creación de conjunto :entrenamiento y test  del k-fold\n",
            "Existen 7104 instancias en el conjunto train, y 2896 en el conjunto test\n",
            "Entrenando el modelo......\n",
            "\n",
            "--- Métrica: precision de k-fold - 1: 0.9979456779067721 \n",
            "\n",
            "--- Métrica: Accurancy de k-fold - 1: 0.9979281767955801 \n",
            "\n",
            "--- Processing Batch 4/20 (Rows 30000 to 39999) ---\n",
            "+-------+--------------------+\n",
            "|summary|             stratum|\n",
            "+-------+--------------------+\n",
            "|  count|               39999|\n",
            "|   mean|                null|\n",
            "| stddev|                null|\n",
            "|    min|Air Wisconsin Air...|\n",
            "|    max|Southwest Airline...|\n",
            "+-------+--------------------+\n",
            "\n",
            "\n",
            "--- Creación de conjunto :entrenamiento y test  del k-fold\n",
            "Existen 7104 instancias en el conjunto train, y 2896 en el conjunto test\n",
            "Entrenando el modelo......\n",
            "\n",
            "--- Métrica: precision de k-fold - 1: 0.9976070765156337 \n",
            "\n",
            "--- Métrica: Accurancy de k-fold - 1: 0.9975828729281768 \n",
            "\n",
            "--- Processing Batch 5/20 (Rows 40000 to 49999) ---\n",
            "+-------+--------------------+\n",
            "|summary|             stratum|\n",
            "+-------+--------------------+\n",
            "|  count|               49999|\n",
            "|   mean|                null|\n",
            "| stddev|                null|\n",
            "|    min|Air Wisconsin Air...|\n",
            "|    max|Southwest Airline...|\n",
            "+-------+--------------------+\n",
            "\n",
            "\n",
            "--- Creación de conjunto :entrenamiento y test  del k-fold\n",
            "Existen 7104 instancias en el conjunto train, y 2896 en el conjunto test\n",
            "Entrenando el modelo......\n",
            "\n",
            "--- Métrica: precision de k-fold - 1: 0.9986287532550939 \n",
            "\n",
            "--- Métrica: Accurancy de k-fold - 1: 0.9986187845303868 \n",
            "\n",
            "--- Processing Batch 6/20 (Rows 50000 to 59999) ---\n",
            "+-------+--------------------+\n",
            "|summary|             stratum|\n",
            "+-------+--------------------+\n",
            "|  count|               59999|\n",
            "|   mean|                null|\n",
            "| stddev|                null|\n",
            "|    min|Air Wisconsin Air...|\n",
            "|    max|Southwest Airline...|\n",
            "+-------+--------------------+\n",
            "\n",
            "\n",
            "--- Creación de conjunto :entrenamiento y test  del k-fold\n",
            "Existen 7104 instancias en el conjunto train, y 2896 en el conjunto test\n",
            "Entrenando el modelo......\n",
            "\n",
            "--- Métrica: precision de k-fold - 1: 0.9979435694303656 \n",
            "\n",
            "--- Métrica: Accurancy de k-fold - 1: 0.9979281767955801 \n",
            "\n",
            "--- Processing Batch 7/20 (Rows 60000 to 69999) ---\n",
            "+-------+--------------------+\n",
            "|summary|             stratum|\n",
            "+-------+--------------------+\n",
            "|  count|               69999|\n",
            "|   mean|                null|\n",
            "| stddev|                null|\n",
            "|    min|Air Wisconsin Air...|\n",
            "|    max|Southwest Airline...|\n",
            "+-------+--------------------+\n",
            "\n",
            "\n",
            "--- Creación de conjunto :entrenamiento y test  del k-fold\n",
            "Existen 7104 instancias en el conjunto train, y 2896 en el conjunto test\n",
            "Entrenando el modelo......\n",
            "\n",
            "--- Métrica: precision de k-fold - 1: 0.9990249672724045 \n",
            "\n",
            "--- Métrica: Accurancy de k-fold - 1: 0.99896408839779 \n",
            "\n",
            "--- Processing Batch 8/20 (Rows 70000 to 79999) ---\n",
            "+-------+--------------------+\n",
            "|summary|             stratum|\n",
            "+-------+--------------------+\n",
            "|  count|               79999|\n",
            "|   mean|                null|\n",
            "| stddev|                null|\n",
            "|    min|Air Wisconsin Air...|\n",
            "|    max|Southwest Airline...|\n",
            "+-------+--------------------+\n",
            "\n",
            "\n",
            "--- Creación de conjunto :entrenamiento y test  del k-fold\n",
            "Existen 7104 instancias en el conjunto train, y 2896 en el conjunto test\n",
            "Entrenando el modelo......\n",
            "\n",
            "--- Métrica: precision de k-fold - 1: 0.9982867433689802 \n",
            "\n",
            "--- Métrica: Accurancy de k-fold - 1: 0.9982734806629834 \n",
            "\n",
            "--- Processing Batch 9/20 (Rows 80000 to 89999) ---\n",
            "+-------+--------------------+\n",
            "|summary|             stratum|\n",
            "+-------+--------------------+\n",
            "|  count|               89999|\n",
            "|   mean|                null|\n",
            "| stddev|                null|\n",
            "|    min|Air Wisconsin Air...|\n",
            "|    max|Southwest Airline...|\n",
            "+-------+--------------------+\n",
            "\n",
            "\n",
            "--- Creación de conjunto :entrenamiento y test  del k-fold\n",
            "Existen 7104 instancias en el conjunto train, y 2896 en el conjunto test\n",
            "Entrenando el modelo......\n",
            "\n",
            "--- Métrica: precision de k-fold - 1: 0.9979388562966338 \n",
            "\n",
            "--- Métrica: Accurancy de k-fold - 1: 0.9979281767955801 \n",
            "\n",
            "--- Processing Batch 10/20 (Rows 90000 to 99999) ---\n",
            "+-------+--------------------+\n",
            "|summary|             stratum|\n",
            "+-------+--------------------+\n",
            "|  count|               99999|\n",
            "|   mean|                null|\n",
            "| stddev|                null|\n",
            "|    min|Air Wisconsin Air...|\n",
            "|    max|Southwest Airline...|\n",
            "+-------+--------------------+\n",
            "\n",
            "\n",
            "--- Creación de conjunto :entrenamiento y test  del k-fold\n",
            "Existen 7104 instancias en el conjunto train, y 2896 en el conjunto test\n",
            "Entrenando el modelo......\n",
            "\n",
            "--- Métrica: precision de k-fold - 1: 0.9979414744083742 \n",
            "\n",
            "--- Métrica: Accurancy de k-fold - 1: 0.9979281767955801 \n",
            "\n",
            "--- Processing Batch 11/20 (Rows 100000 to 109999) ---\n",
            "+-------+--------------------+\n",
            "|summary|             stratum|\n",
            "+-------+--------------------+\n",
            "|  count|              109999|\n",
            "|   mean|                null|\n",
            "| stddev|                null|\n",
            "|    min|Air Wisconsin Air...|\n",
            "|    max|Southwest Airline...|\n",
            "+-------+--------------------+\n",
            "\n",
            "\n",
            "--- Creación de conjunto :entrenamiento y test  del k-fold\n",
            "Existen 7104 instancias en el conjunto train, y 2896 en el conjunto test\n",
            "Entrenando el modelo......\n",
            "\n",
            "--- Métrica: precision de k-fold - 1: 0.9979566228807666 \n",
            "\n",
            "--- Métrica: Accurancy de k-fold - 1: 0.9979281767955801 \n",
            "\n",
            "--- Processing Batch 12/20 (Rows 110000 to 119999) ---\n",
            "+-------+--------------------+\n",
            "|summary|             stratum|\n",
            "+-------+--------------------+\n",
            "|  count|              119999|\n",
            "|   mean|                null|\n",
            "| stddev|                null|\n",
            "|    min|Air Wisconsin Air...|\n",
            "|    max|Southwest Airline...|\n",
            "+-------+--------------------+\n",
            "\n",
            "\n",
            "--- Creación de conjunto :entrenamiento y test  del k-fold\n",
            "Existen 7104 instancias en el conjunto train, y 2896 en el conjunto test\n",
            "Entrenando el modelo......\n",
            "\n",
            "--- Métrica: precision de k-fold - 1: 0.999655524199425 \n",
            "\n",
            "--- Métrica: Accurancy de k-fold - 1: 0.9996546961325967 \n",
            "\n",
            "--- Processing Batch 13/20 (Rows 120000 to 129999) ---\n",
            "+-------+--------------------+\n",
            "|summary|             stratum|\n",
            "+-------+--------------------+\n",
            "|  count|              129999|\n",
            "|   mean|                null|\n",
            "| stddev|                null|\n",
            "|    min|Air Wisconsin Air...|\n",
            "|    max|Southwest Airline...|\n",
            "+-------+--------------------+\n",
            "\n",
            "\n",
            "--- Creación de conjunto :entrenamiento y test  del k-fold\n",
            "Existen 7104 instancias en el conjunto train, y 2896 en el conjunto test\n",
            "Entrenando el modelo......\n",
            "\n",
            "--- Métrica: precision de k-fold - 1: 0.9993124979969334 \n",
            "\n",
            "--- Métrica: Accurancy de k-fold - 1: 0.9993093922651933 \n",
            "\n",
            "--- Processing Batch 14/20 (Rows 130000 to 139999) ---\n",
            "+-------+--------------------+\n",
            "|summary|             stratum|\n",
            "+-------+--------------------+\n",
            "|  count|              139999|\n",
            "|   mean|                null|\n",
            "| stddev|                null|\n",
            "|    min|Air Wisconsin Air...|\n",
            "|    max|Southwest Airline...|\n",
            "+-------+--------------------+\n",
            "\n",
            "\n",
            "--- Creación de conjunto :entrenamiento y test  del k-fold\n",
            "Existen 7104 instancias en el conjunto train, y 2896 en el conjunto test\n",
            "Entrenando el modelo......\n",
            "\n",
            "--- Métrica: precision de k-fold - 1: 0.9993126118816728 \n",
            "\n",
            "--- Métrica: Accurancy de k-fold - 1: 0.9993093922651933 \n",
            "\n",
            "--- Processing Batch 15/20 (Rows 140000 to 149999) ---\n",
            "+-------+--------------------+\n",
            "|summary|             stratum|\n",
            "+-------+--------------------+\n",
            "|  count|              149999|\n",
            "|   mean|                null|\n",
            "| stddev|                null|\n",
            "|    min|Air Wisconsin Air...|\n",
            "|    max|Southwest Airline...|\n",
            "+-------+--------------------+\n",
            "\n",
            "\n",
            "--- Creación de conjunto :entrenamiento y test  del k-fold\n",
            "Existen 7104 instancias en el conjunto train, y 2896 en el conjunto test\n",
            "Entrenando el modelo......\n",
            "\n",
            "--- Métrica: precision de k-fold - 1: 0.9955378691280253 \n",
            "\n",
            "--- Métrica: Accurancy de k-fold - 1: 0.9975828729281768 \n",
            "\n",
            "--- Processing Batch 16/20 (Rows 150000 to 159999) ---\n",
            "+-------+--------------------+\n",
            "|summary|             stratum|\n",
            "+-------+--------------------+\n",
            "|  count|              159999|\n",
            "|   mean|                null|\n",
            "| stddev|                null|\n",
            "|    min|Air Wisconsin Air...|\n",
            "|    max|Southwest Airline...|\n",
            "+-------+--------------------+\n",
            "\n",
            "\n",
            "--- Creación de conjunto :entrenamiento y test  del k-fold\n",
            "Existen 7104 instancias en el conjunto train, y 2896 en el conjunto test\n",
            "Entrenando el modelo......\n",
            "\n",
            "--- Métrica: precision de k-fold - 1: 0.9989718383599013 \n",
            "\n",
            "--- Métrica: Accurancy de k-fold - 1: 0.99896408839779 \n",
            "\n",
            "--- Processing Batch 17/20 (Rows 160000 to 169999) ---\n",
            "+-------+--------------------+\n",
            "|summary|             stratum|\n",
            "+-------+--------------------+\n",
            "|  count|              169999|\n",
            "|   mean|                null|\n",
            "| stddev|                null|\n",
            "|    min|Air Wisconsin Air...|\n",
            "|    max|Southwest Airline...|\n",
            "+-------+--------------------+\n",
            "\n",
            "\n",
            "--- Creación de conjunto :entrenamiento y test  del k-fold\n",
            "Existen 7104 instancias en el conjunto train, y 2896 en el conjunto test\n",
            "Entrenando el modelo......\n",
            "\n",
            "--- Métrica: precision de k-fold - 1: 0.9982858040219937 \n",
            "\n",
            "--- Métrica: Accurancy de k-fold - 1: 0.9982734806629834 \n",
            "\n",
            "--- Processing Batch 18/20 (Rows 170000 to 179999) ---\n",
            "+-------+--------------------+\n",
            "|summary|             stratum|\n",
            "+-------+--------------------+\n",
            "|  count|              179999|\n",
            "|   mean|                null|\n",
            "| stddev|                null|\n",
            "|    min|Air Wisconsin Air...|\n",
            "|    max|Southwest Airline...|\n",
            "+-------+--------------------+\n",
            "\n",
            "\n",
            "--- Creación de conjunto :entrenamiento y test  del k-fold\n",
            "Existen 7104 instancias en el conjunto train, y 2896 en el conjunto test\n",
            "Entrenando el modelo......\n",
            "\n",
            "--- Métrica: precision de k-fold - 1: 0.9996555067050555 \n",
            "\n",
            "--- Métrica: Accurancy de k-fold - 1: 0.9996546961325967 \n",
            "\n",
            "--- Processing Batch 19/20 (Rows 180000 to 189999) ---\n",
            "+-------+--------------------+\n",
            "|summary|             stratum|\n",
            "+-------+--------------------+\n",
            "|  count|              189999|\n",
            "|   mean|                null|\n",
            "| stddev|                null|\n",
            "|    min|Air Wisconsin Air...|\n",
            "|    max|Southwest Airline...|\n",
            "+-------+--------------------+\n",
            "\n",
            "\n",
            "--- Creación de conjunto :entrenamiento y test  del k-fold\n",
            "Existen 3786 instancias en el conjunto train, y 1524 en el conjunto test\n",
            "Entrenando el modelo......\n",
            "\n",
            "--- Métrica: precision de k-fold - 1: 0.9980391259232131 \n",
            "\n",
            "--- Métrica: Accurancy de k-fold - 1: 0.9986876640419947 \n",
            "\n",
            "--- Processing Batch 20/20 (Rows 190000 to 195309) ---\n",
            "+-------+--------------------+\n",
            "|summary|             stratum|\n",
            "+-------+--------------------+\n",
            "|  count|              195309|\n",
            "|   mean|                null|\n",
            "| stddev|                null|\n",
            "|    min|Air Wisconsin Air...|\n",
            "|    max|Southwest Airline...|\n",
            "+-------+--------------------+\n",
            "\n"
          ]
        }
      ],
      "source": [
        "#se asigna valor a k\n",
        "k = 10000\n",
        "total_rows = preparedDF_a_stratum.count()\n",
        "\n",
        "window_spec = Window.orderBy(rand())\n",
        "\n",
        "# Se añade un id como identificador a los registros\n",
        "df_with_id = preparedDF_a_stratum.withColumn(\"id\", row_number().over(window_spec))\n",
        "\n",
        "# Se calcula el numero de batches que se pueden generar\n",
        "num_batches = (total_rows + k - 1) // k\n",
        "\n",
        "print(f\"Total rows: {total_rows}\")\n",
        "print(f\"Batch size (k): {k}\")\n",
        "print(f\"Number of batches: {num_batches}\")\n",
        "\n",
        "# se inicializa un array para almacenar la media de cada submuestra que se genera\n",
        "# por iteración\n",
        "statistics_mode = []\n",
        "precision_metrics = []\n",
        "accuracy_metrics = []\n",
        "\n",
        "\n",
        "# se obtiene el primer batch\n",
        "batch_union_df = df_with_id.filter(f\"id >= 0 AND id < {k}\").drop(\"id\")\n",
        "\n",
        "# Se seleccionan solo tres atributos o desriptores a trabajar para este ejemplo\n",
        "batch_union_df.describe(['stratum']).show()\n",
        "# Se almacena la estadistica del primer batch\n",
        "statistics_mode.append([batch_union_df.groupBy(\"stratum\").count().orderBy('count', ascending= False ).first()[ 0 ], batch_union_df.count()])\n",
        "\n",
        "for batch_num in range(1, num_batches):\n",
        "    start_id = batch_num * k\n",
        "    end_id = min((batch_num + 1) * k, total_rows)\n",
        "\n",
        "    # Se obtiene el batch correspondiente a la iteracion\n",
        "    current_batch_df = df_with_id.filter(f\"id >= {start_id} AND id < {end_id}\").drop(\"id\")\n",
        "\n",
        "    #Se invoca función para generar conjunto de entrenamiento y test de cada kfold y así generar las métricas de evaluación\n",
        "    #que son: Accurancy y presicion.\n",
        "    split_train_test(current_batch_df)\n",
        "\n",
        "    # Se agrega el batch al batch que se construye\n",
        "    batch_union_df = batch_union_df.union(current_batch_df)\n",
        "\n",
        "    print(f\"\\n--- Processing Batch {batch_num + 1}/{num_batches} (Rows {start_id} to {end_id-1}) ---\")\n",
        "\n",
        "    # Se guardan estadisticas de la submuestra acumulativa\n",
        "    statistics_mode.append([batch_union_df.groupBy(\"stratum\").count().orderBy('count', ascending= False ).first()[ 0 ], batch_union_df.count()])\n",
        "\n",
        "    # Se imprime información estadística del batch\n",
        "    batch_union_df.describe(['stratum']).show()\n"
      ]
    },
    {
      "cell_type": "markdown",
      "metadata": {
        "id": "6mk4hO939xT5"
      },
      "source": [
        "### 5.  Visualización de resultados.\n"
      ]
    },
    {
      "cell_type": "code",
      "source": [
        "import matplotlib.pyplot as plt\n",
        "import numpy as np"
      ],
      "metadata": {
        "id": "doluoK2nwdjX"
      },
      "execution_count": null,
      "outputs": []
    },
    {
      "cell_type": "code",
      "source": [
        "#se obtiene el eje x de las metricas: accurancy y precision, considerando la cantidad del kfold, generados\n",
        "#y entrenados\n",
        "x_metrics_precision=len(metrics_precision)\n",
        "x_metrics_accurancy =len(metrics_accurancy)"
      ],
      "metadata": {
        "id": "mvZ8yUWwY8dI"
      },
      "execution_count": null,
      "outputs": []
    },
    {
      "cell_type": "code",
      "execution_count": null,
      "metadata": {
        "id": "MqH53svuqo62",
        "colab": {
          "base_uri": "https://localhost:8080/",
          "height": 1000
        },
        "outputId": "39db2ad0-f7c3-4ad9-e10e-b575f00e5188"
      },
      "outputs": [
        {
          "output_type": "execute_result",
          "data": {
            "text/plain": [
              "[<matplotlib.axis.XTick at 0x7a267a6ecc50>,\n",
              " <matplotlib.axis.XTick at 0x7a267a724ad0>,\n",
              " <matplotlib.axis.XTick at 0x7a267a751ad0>,\n",
              " <matplotlib.axis.XTick at 0x7a267a734ad0>,\n",
              " <matplotlib.axis.XTick at 0x7a267a754b10>,\n",
              " <matplotlib.axis.XTick at 0x7a267a756d50>,\n",
              " <matplotlib.axis.XTick at 0x7a267a75d1d0>,\n",
              " <matplotlib.axis.XTick at 0x7a267a75f610>,\n",
              " <matplotlib.axis.XTick at 0x7a267a756590>,\n",
              " <matplotlib.axis.XTick at 0x7a267a766250>,\n",
              " <matplotlib.axis.XTick at 0x7a267a768550>,\n",
              " <matplotlib.axis.XTick at 0x7a267a76a8d0>,\n",
              " <matplotlib.axis.XTick at 0x7a267a774cd0>,\n",
              " <matplotlib.axis.XTick at 0x7a267a752ad0>,\n",
              " <matplotlib.axis.XTick at 0x7a267a777950>,\n",
              " <matplotlib.axis.XTick at 0x7a267a779c50>,\n",
              " <matplotlib.axis.XTick at 0x7a267a77b990>,\n",
              " <matplotlib.axis.XTick at 0x7a267a782410>,\n",
              " <matplotlib.axis.XTick at 0x7a267a780f10>]"
            ]
          },
          "metadata": {},
          "execution_count": 55
        },
        {
          "output_type": "display_data",
          "data": {
            "text/plain": [
              "<Figure size 1000x800 with 2 Axes>"
            ],
            "image/png": "[encoded data removed]"
          },
          "metadata": {}
        }
      ],
      "source": [
        "# Gráfica de resultados de la etapa de entrenamiento de cada K-fold\n",
        "fig, ax = plt.subplots(2, 1, figsize=(10, 8))\n",
        "ax[0].scatter(\n",
        "    x = np.arange(0, x_metrics_precision),\n",
        "    y = metrics_precision,\n",
        "    marker    = 'o',\n",
        "    edgecolor = 'blue',\n",
        ")\n",
        "\n",
        "ax[0].set_xlabel('Cantidad de modelos entrenados')\n",
        "ax[0].set_ylabel('precisión')\n",
        "#se modifica escala de eje x para mejor representación\n",
        "ax[0].set_xticks(np.arange(0, x_metrics_precision, step=1))\n",
        "\n",
        "\n",
        "ax[1].scatter(\n",
        "    x = np.arange(0, x_metrics_accurancy),\n",
        "    y = metrics_accurancy,\n",
        "    marker    = 'o',\n",
        "    edgecolor = 'blue',\n",
        ")\n",
        "\n",
        "ax[1].set_xlabel('Cantidad de modelos entrenados')\n",
        "ax[1].set_ylabel('accurancy')\n",
        "#se modifica escala 1 de eje x para mejor representación\n",
        "ax[1].set_xticks(np.arange(0, x_metrics_accurancy, step=1))"
      ]
    },
    {
      "cell_type": "code",
      "execution_count": null,
      "metadata": {
        "id": "BtZgT_JI9yl5",
        "colab": {
          "base_uri": "https://localhost:8080/",
          "height": 486
        },
        "outputId": "d5203bcb-871f-4170-c3fc-adb61c03ec8e"
      },
      "outputs": [
        {
          "output_type": "execute_result",
          "data": {
            "text/plain": [
              "Text(0.5, 1.0, 'Moda del atributo stratum')"
            ]
          },
          "metadata": {},
          "execution_count": 68
        },
        {
          "output_type": "display_data",
          "data": {
            "text/plain": [
              "<Figure size 700x500 with 1 Axes>"
            ],
            "image/png": "[encoded data removed]"
          },
          "metadata": {}
        }
      ],
      "source": [
        "# Importar libreria de visualización\n",
        "import matplotlib.pyplot as plt\n",
        "\n",
        "# Grafica el comportamiento de la variaciones de la moda, como medida de estabilidad de la muestra de los k-folds\n",
        "fig, ax = plt.subplots(figsize=(7, 5))\n",
        "ax.scatter(\n",
        "    x = [t[1] for t in statistics_mode],\n",
        "    y = [t[0] for t in statistics_mode],\n",
        "    marker    = 'o',\n",
        "    edgecolor = 'black',\n",
        "    label= f\"stratum,\"\n",
        ")\n",
        "ax.set_title('Moda del atributo stratum')"
      ]
    },
    {
      "cell_type": "markdown",
      "metadata": {
        "id": "MIB6yoma90R_"
      },
      "source": [
        "### 6. Discusión de resultados y Conclusiones"
      ]
    },
    {
      "cell_type": "markdown",
      "metadata": {
        "id": "dvt2Q0et939Y"
      },
      "source": [
        "*   Con base a los resultados obtenidos del proceso de creación de kfolds para el cual se determino la moda como medida de representatividad; se logro que persisistiera la aerolinea con más frecuecia(mode) en cada kfolds.\n",
        "*   El rendimiento del modelo en general fue bastante bueno, con base a los resultados de las metricas: **accurancy** 0.997 valor mínimo  y 0.999 valor máximo; para la metrica de evaluación **presicion**, el valor mínimo fue: 0.995 y valor máximo: 0.999 estos datos se representan en la gráfica :\" # **Gráfica de resultados de la etapa de entrenamiento de cada K-fold**.\"\n",
        "*   Con respecto a la variación de la moda en cada k-fold se mantiene de manera constante y es entendible ya que al ser una variable categorica con un valor binario, sólo se puede obtener información de frecuencia, se representa en la gráfica **\"Grafica el comportamiento de la variaciones de la moda, como medida de estabilidad de la muestra de los k-folds\"**\n",
        "*   Generar una muestra representativa y entrenar cada kfold con el modelo LinearRegression conlleva bastante tiempo de computo, por lo que un pequeño error conlleva a reejecutar todo el proceso, lo que incrementa el tiempo de trabajo y procesamiento.\n",
        "\n"
      ]
    }
  ],
  "metadata": {
    "colab": {
      "provenance": [],
      "gpuType": "T4"
    },
    "kernelspec": {
      "display_name": "Python 3",
      "name": "python3"
    },
    "language_info": {
      "name": "python"
    },
    "accelerator": "GPU"
  },
  "nbformat": 4,
  "nbformat_minor": 0
}